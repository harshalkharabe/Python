{
 "cells": [
  {
   "cell_type": "code",
   "execution_count": 1,
   "metadata": {},
   "outputs": [
    {
     "name": "stdout",
     "output_type": "stream",
     "text": [
      "We are going to see 17 approach to create numpy array or ndarray object.\n"
     ]
    }
   ],
   "source": [
    "# syntax : var = numpy.array(object,dtype)\n",
    "print(\"We are going to see 17 approach to create numpy array or ndarray object.\")"
   ]
  },
  {
   "cell_type": "code",
   "execution_count": 2,
   "metadata": {},
   "outputs": [
    {
     "name": "stdout",
     "output_type": "stream",
     "text": [
      "Value :  10 Type :  <class 'int'>\n",
      "Value :  10 Type :  <class 'numpy.ndarray'>\n",
      "Data type of arr : int32\n",
      "Dimension of arr : 0\n",
      "Shape of arr : ()\n",
      "Size of arr : 1\n"
     ]
    }
   ],
   "source": [
    "val = 10\n",
    "print(\"Value : \",val,\"Type : \",type(val))\n",
    "\n",
    "import numpy as np\n",
    "\n",
    "arr = np.array(val)\n",
    "print(\"Value : \",arr,\"Type : \",type(arr))\n",
    "print(\"Data type of arr :\",arr.dtype)\n",
    "print(\"Dimension of arr :\",arr.ndim)\n",
    "print(\"Shape of arr :\",arr.shape)\n",
    "print(\"Size of arr :\",arr.size)"
   ]
  }
 ],
 "metadata": {
  "kernelspec": {
   "display_name": "Python 3",
   "language": "python",
   "name": "python3"
  },
  "language_info": {
   "codemirror_mode": {
    "name": "ipython",
    "version": 3
   },
   "file_extension": ".py",
   "mimetype": "text/x-python",
   "name": "python",
   "nbconvert_exporter": "python",
   "pygments_lexer": "ipython3",
   "version": "3.11.9"
  }
 },
 "nbformat": 4,
 "nbformat_minor": 2
}
