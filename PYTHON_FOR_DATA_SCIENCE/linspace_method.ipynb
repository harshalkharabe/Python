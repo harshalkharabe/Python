{
 "cells": [
  {
   "cell_type": "code",
   "execution_count": null,
   "id": "853abd6b-eb26-4412-8426-d0424237232e",
   "metadata": {},
   "outputs": [],
   "source": [
    "# linspace() methoda\n",
    "# syntax : var = numpy.linspace(start,stop,num=50,endpoint=True,retstep=False,dtype,axis)"
   ]
  },
  {
   "cell_type": "code",
   "execution_count": 3,
   "id": "de794380-2c50-4a98-b1bc-4673dc25373b",
   "metadata": {},
   "outputs": [
    {
     "name": "stdout",
     "output_type": "stream",
     "text": [
      "[10.         10.02040816 10.04081633 10.06122449 10.08163265 10.10204082\n",
      " 10.12244898 10.14285714 10.16326531 10.18367347 10.20408163 10.2244898\n",
      " 10.24489796 10.26530612 10.28571429 10.30612245 10.32653061 10.34693878\n",
      " 10.36734694 10.3877551  10.40816327 10.42857143 10.44897959 10.46938776\n",
      " 10.48979592 10.51020408 10.53061224 10.55102041 10.57142857 10.59183673\n",
      " 10.6122449  10.63265306 10.65306122 10.67346939 10.69387755 10.71428571\n",
      " 10.73469388 10.75510204 10.7755102  10.79591837 10.81632653 10.83673469\n",
      " 10.85714286 10.87755102 10.89795918 10.91836735 10.93877551 10.95918367\n",
      " 10.97959184 11.        ] <class 'numpy.ndarray'>\n"
     ]
    }
   ],
   "source": [
    "import numpy as np\n",
    "arr = np.linspace(10,11)\n",
    "print(arr,type(arr))"
   ]
  },
  {
   "cell_type": "code",
   "execution_count": 5,
   "id": "f3ed5119-967f-4a02-8bb5-9eaca104deaa",
   "metadata": {},
   "outputs": [
    {
     "name": "stdout",
     "output_type": "stream",
     "text": [
      "[10.   10.02 10.04 10.06 10.08 10.1  10.12 10.14 10.16 10.18 10.2  10.22\n",
      " 10.24 10.26 10.28 10.3  10.32 10.34 10.36 10.38 10.4  10.42 10.44 10.46\n",
      " 10.48 10.5  10.52 10.54 10.56 10.58 10.6  10.62 10.64 10.66 10.68 10.7\n",
      " 10.72 10.74 10.76 10.78 10.8  10.82 10.84 10.86 10.88 10.9  10.92 10.94\n",
      " 10.96 10.98] <class 'numpy.ndarray'>\n"
     ]
    }
   ],
   "source": [
    "arr = np.linspace(10,11,endpoint=False)\n",
    "print(arr,type(arr))"
   ]
  },
  {
   "cell_type": "code",
   "execution_count": 7,
   "id": "2eaf2e98-6cee-4f6f-bc3a-7487aba69355",
   "metadata": {},
   "outputs": [
    {
     "name": "stdout",
     "output_type": "stream",
     "text": [
      "[10.         10.02040816 10.04081633 10.06122449 10.08163265 10.10204082\n",
      " 10.12244898 10.14285714 10.16326531 10.18367347 10.20408163 10.2244898\n",
      " 10.24489796 10.26530612 10.28571429 10.30612245 10.32653061 10.34693878\n",
      " 10.36734694 10.3877551  10.40816327 10.42857143 10.44897959 10.46938776\n",
      " 10.48979592 10.51020408 10.53061224 10.55102041 10.57142857 10.59183673\n",
      " 10.6122449  10.63265306 10.65306122 10.67346939 10.69387755 10.71428571\n",
      " 10.73469388 10.75510204 10.7755102  10.79591837 10.81632653 10.83673469\n",
      " 10.85714286 10.87755102 10.89795918 10.91836735 10.93877551 10.95918367\n",
      " 10.97959184 11.        ] <class 'numpy.ndarray'>\n",
      "Difference between two values : 0.02040816326530612\n"
     ]
    }
   ],
   "source": [
    "arr,step = np.linspace(10,11,retstep=True)\n",
    "print(arr,type(arr))\n",
    "print(\"Difference between two values :\",step)"
   ]
  },
  {
   "cell_type": "code",
   "execution_count": 11,
   "id": "cf7c3580-7888-408c-a27a-c515a1353739",
   "metadata": {},
   "outputs": [
    {
     "name": "stdout",
     "output_type": "stream",
     "text": [
      "[11. 12. 13. 14. 15.] <class 'numpy.ndarray'>\n",
      "Difference between two values : 1.0\n"
     ]
    }
   ],
   "source": [
    "arr,step = np.linspace(11,15,num=5,retstep=True)\n",
    "print(arr,type(arr))\n",
    "print(\"Difference between two values :\",step)"
   ]
  },
  {
   "cell_type": "code",
   "execution_count": null,
   "id": "7429e412-dee2-4f93-bbad-8ad3c4708957",
   "metadata": {},
   "outputs": [],
   "source": []
  }
 ],
 "metadata": {
  "kernelspec": {
   "display_name": "Python [conda env:base] *",
   "language": "python",
   "name": "conda-base-py"
  },
  "language_info": {
   "codemirror_mode": {
    "name": "ipython",
    "version": 3
   },
   "file_extension": ".py",
   "mimetype": "text/x-python",
   "name": "python",
   "nbconvert_exporter": "python",
   "pygments_lexer": "ipython3",
   "version": "3.12.7"
  }
 },
 "nbformat": 4,
 "nbformat_minor": 5
}
