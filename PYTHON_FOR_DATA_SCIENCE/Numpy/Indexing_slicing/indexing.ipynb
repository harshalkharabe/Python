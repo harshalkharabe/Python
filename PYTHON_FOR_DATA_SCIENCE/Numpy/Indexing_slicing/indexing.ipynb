{
 "cells": [
  {
   "cell_type": "code",
   "execution_count": 2,
   "metadata": {},
   "outputs": [
    {
     "name": "stdout",
     "output_type": "stream",
     "text": [
      "Array : [  12   45   32   67  978   54  343  654   89 7657    8]\n",
      "Dimension of arr : 1\n",
      "Shape of arr : (11,)\n",
      "Size of arr : 11\n"
     ]
    }
   ],
   "source": [
    "# indexing and sciling in ndarray()\n",
    "import numpy as np\n",
    "arr = np.array([12,45,32,67,978,54,343,654,89,7657,8])\n",
    "print(f\"Array : {arr}\")\n",
    "print(f\"Dimension of arr : {arr.ndim}\")\n",
    "print(f\"Shape of arr : {arr.shape}\")\n",
    "print(f\"Size of arr : {arr.size}\")"
   ]
  },
  {
   "cell_type": "code",
   "execution_count": 4,
   "metadata": {},
   "outputs": [
    {
     "name": "stdout",
     "output_type": "stream",
     "text": [
      "89\n"
     ]
    }
   ],
   "source": [
    "# get 89 using indexing\n",
    "print(arr[-3])  # prints 89"
   ]
  },
  {
   "cell_type": "code",
   "execution_count": 6,
   "metadata": {},
   "outputs": [
    {
     "name": "stdout",
     "output_type": "stream",
     "text": [
      "89\n"
     ]
    }
   ],
   "source": [
    "# get 89 using indexing\n",
    "print(arr[len(arr)-1-2])  # prints 89"
   ]
  },
  {
   "cell_type": "code",
   "execution_count": 7,
   "metadata": {},
   "outputs": [
    {
     "name": "stdout",
     "output_type": "stream",
     "text": [
      "12\n"
     ]
    }
   ],
   "source": [
    "# get 12 using indexing\n",
    "print(arr[0]) # prints 12"
   ]
  },
  {
   "cell_type": "code",
   "execution_count": 9,
   "metadata": {},
   "outputs": [
    {
     "name": "stdout",
     "output_type": "stream",
     "text": [
      "12\n"
     ]
    }
   ],
   "source": [
    "# get 12 using indexing\n",
    "print(arr[-len(arr)]) # prints 12"
   ]
  },
  {
   "cell_type": "code",
   "execution_count": 16,
   "metadata": {},
   "outputs": [
    {
     "name": "stdout",
     "output_type": "stream",
     "text": [
      "Array : [[66 60 53 72]\n",
      " [ 4 37 15 65]\n",
      " [ 3 91 81 63]]\n",
      "Dimension of arr : 2\n",
      "Shape of arr : (3, 4)\n",
      "Size of arr : 12\n"
     ]
    }
   ],
   "source": [
    "# indexing and slicing in 2D ndarray\n",
    "arr = np.random.choice(100,size=(3,4))\n",
    "print(f\"Array : {arr}\")\n",
    "print(f\"Dimension of arr : {arr.ndim}\")\n",
    "print(f\"Shape of arr : {arr.shape}\")\n",
    "print(f\"Size of arr : {arr.size}\")"
   ]
  },
  {
   "cell_type": "code",
   "execution_count": 26,
   "metadata": {},
   "outputs": [
    {
     "name": "stdout",
     "output_type": "stream",
     "text": [
      "60 60 60 60\n"
     ]
    }
   ],
   "source": [
    "# get 60 \n",
    "print(arr[0,1],arr[0,-3],arr[-3,1],arr[-3,-3]) "
   ]
  },
  {
   "cell_type": "code",
   "execution_count": 27,
   "metadata": {},
   "outputs": [
    {
     "name": "stdout",
     "output_type": "stream",
     "text": [
      "60 60 60 60\n"
     ]
    }
   ],
   "source": [
    "# get 60 \n",
    "print(arr[0][-3],arr[-3][-3],arr[0][1],arr[-3][1])"
   ]
  },
  {
   "cell_type": "code",
   "execution_count": 31,
   "metadata": {},
   "outputs": [
    {
     "name": "stdout",
     "output_type": "stream",
     "text": [
      "81 81 81 81\n"
     ]
    }
   ],
   "source": [
    "# get 81\n",
    "print(arr[2,2],arr[2,-2],arr[-1,-2],arr[-1,2]) "
   ]
  },
  {
   "cell_type": "code",
   "execution_count": 32,
   "metadata": {},
   "outputs": [
    {
     "name": "stdout",
     "output_type": "stream",
     "text": [
      "81 81 81 81\n"
     ]
    }
   ],
   "source": [
    "# get 81\n",
    "print(arr[2][2],arr[2][-2],arr[-1][-2],arr[-1][2]) "
   ]
  },
  {
   "cell_type": "code",
   "execution_count": 33,
   "metadata": {},
   "outputs": [
    {
     "name": "stdout",
     "output_type": "stream",
     "text": [
      "Array : [[[73 80 66 85]\n",
      "  [65 99 22 66]\n",
      "  [52 14 89 92]]\n",
      "\n",
      " [[28  8 97 23]\n",
      "  [35 83  5 66]\n",
      "  [75 14 94 33]]\n",
      "\n",
      " [[85  3 49 83]\n",
      "  [29 81 65 19]\n",
      "  [19 49  3 29]]]\n",
      "Dimension of arr : 3\n",
      "Shape of arr : (3, 3, 4)\n",
      "Size of arr : 36\n"
     ]
    }
   ],
   "source": [
    "# indexing and slicing in 3D ndarray\n",
    "arr = np.random.choice(100,size=(3,3,4))\n",
    "print(f\"Array : {arr}\")\n",
    "print(f\"Dimension of arr : {arr.ndim}\")\n",
    "print(f\"Shape of arr : {arr.shape}\")\n",
    "print(f\"Size of arr : {arr.size}\")"
   ]
  },
  {
   "cell_type": "code",
   "execution_count": 40,
   "metadata": {},
   "outputs": [
    {
     "name": "stdout",
     "output_type": "stream",
     "text": [
      "5 5 5 5 5 5\n"
     ]
    }
   ],
   "source": [
    "# get 5\n",
    "print(arr[1,1,2],arr[1,1,-2],arr[1,-2,-2],arr[-2,-2,-2],arr[-2,1,-2],arr[-2,-2,2])"
   ]
  },
  {
   "cell_type": "code",
   "execution_count": 41,
   "metadata": {},
   "outputs": [
    {
     "name": "stdout",
     "output_type": "stream",
     "text": [
      "5 5 5 5 5 5\n"
     ]
    }
   ],
   "source": [
    "# get 5\n",
    "print(arr[1][1][2],arr[1][1][-2],arr[1][-2][-2],arr[-2][-2][-2],arr[-2][1][-2],arr[-2][-2][2])"
   ]
  },
  {
   "cell_type": "code",
   "execution_count": 47,
   "metadata": {},
   "outputs": [
    {
     "name": "stdout",
     "output_type": "stream",
     "text": [
      "3 3 3 3 3 3\n"
     ]
    }
   ],
   "source": [
    "# get 3\n",
    "print(arr[2,0,1],arr[2,0,-3],arr[2,-3,-3],arr[-1,0,1],arr[-1,0,-3],arr[-1,-3,-3])"
   ]
  },
  {
   "cell_type": "code",
   "execution_count": 48,
   "metadata": {},
   "outputs": [
    {
     "name": "stdout",
     "output_type": "stream",
     "text": [
      "[[73 80 66 85]\n",
      " [65 99 22 66]\n",
      " [52 14 89 92]]\n"
     ]
    }
   ],
   "source": [
    "# get first matrix\n",
    "print(arr[0])"
   ]
  },
  {
   "cell_type": "code",
   "execution_count": 49,
   "metadata": {},
   "outputs": [
    {
     "name": "stdout",
     "output_type": "stream",
     "text": [
      "[[85  3 49 83]\n",
      " [29 81 65 19]\n",
      " [19 49  3 29]]\n"
     ]
    }
   ],
   "source": [
    "# get first matrix\n",
    "print(arr[-1])"
   ]
  },
  {
   "cell_type": "code",
   "execution_count": null,
   "metadata": {},
   "outputs": [],
   "source": []
  }
 ],
 "metadata": {
  "kernelspec": {
   "display_name": "Python 3",
   "language": "python",
   "name": "python3"
  },
  "language_info": {
   "codemirror_mode": {
    "name": "ipython",
    "version": 3
   },
   "file_extension": ".py",
   "mimetype": "text/x-python",
   "name": "python",
   "nbconvert_exporter": "python",
   "pygments_lexer": "ipython3",
   "version": "3.11.9"
  }
 },
 "nbformat": 4,
 "nbformat_minor": 2
}
