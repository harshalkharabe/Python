{
 "cells": [
  {
   "cell_type": "code",
   "execution_count": null,
   "metadata": {},
   "outputs": [],
   "source": [
    "# Iterating numpy object "
   ]
  },
  {
   "cell_type": "code",
   "execution_count": 5,
   "metadata": {},
   "outputs": [
    {
     "name": "stdout",
     "output_type": "stream",
     "text": [
      "Original Data :  [21 50 38 30 11 33 18 53 10 51 38  5]\n",
      "Dimension :  1\n",
      "Iterable data :\n",
      "21 50 38 30 11 33 18 53 10 51 38 5 "
     ]
    }
   ],
   "source": [
    "# iterate the data of ndarray object using for loop\n",
    "# 1D\n",
    "import numpy as np\n",
    "arr = np.random.randint(2,55,12)\n",
    "print(\"Original Data : \", arr)\n",
    "print(\"Dimension : \", arr.ndim)\n",
    "print(\"Iterable data :\")\n",
    "for i in arr:\n",
    "    print(i,end=' ')"
   ]
  },
  {
   "cell_type": "code",
   "execution_count": 9,
   "metadata": {},
   "outputs": [
    {
     "name": "stdout",
     "output_type": "stream",
     "text": [
      "Original Data :  [[10 34  4]\n",
      " [35 47 41]\n",
      " [33 51 47]]\n",
      "Dimension :  2\n",
      "Iterable data :\n",
      "\t 10 \t 34 \t 4 \n",
      "\t 35 \t 47 \t 41 \n",
      "\t 33 \t 51 \t 47 \n"
     ]
    }
   ],
   "source": [
    "# iterate the data of ndarray object using for loop\n",
    "# 2D\n",
    "import numpy as np\n",
    "arr = np.random.randint(2,55,size=(3,3))\n",
    "print(\"Original Data : \", arr)\n",
    "print(\"Dimension : \", arr.ndim)\n",
    "print(\"Iterable data :\")\n",
    "for row in arr:\n",
    "    for val in row:\n",
    "        print(\"\\t\",val, end=\" \")\n",
    "    print()"
   ]
  },
  {
   "cell_type": "code",
   "execution_count": 12,
   "metadata": {},
   "outputs": [
    {
     "name": "stdout",
     "output_type": "stream",
     "text": [
      "Original Data :  [[[54  9 15]\n",
      "  [36 49 19]\n",
      "  [34 24 13]]\n",
      "\n",
      " [[36 51 29]\n",
      "  [28 45 26]\n",
      "  [50 36 10]]]\n",
      "Dimension :  3\n",
      "Iterable data :\n",
      "\t 54 \t 9 \t 15 \n",
      "\t 36 \t 49 \t 19 \n",
      "\t 34 \t 24 \t 13 \n",
      "\n",
      "\t 36 \t 51 \t 29 \n",
      "\t 28 \t 45 \t 26 \n",
      "\t 50 \t 36 \t 10 \n",
      "\n"
     ]
    }
   ],
   "source": [
    "# iterate the data of ndarray object using for loop\n",
    "# 3D\n",
    "import numpy as np\n",
    "arr = np.random.randint(2,55,size=(2,3,3))\n",
    "print(\"Original Data : \", arr)\n",
    "print(\"Dimension : \", arr.ndim)\n",
    "print(\"Iterable data :\")\n",
    "for matrix in arr:\n",
    "    for row in matrix:\n",
    "        for col in row:\n",
    "            print(\"\\t\",col, end=\" \")\n",
    "        print()\n",
    "    print()"
   ]
  },
  {
   "cell_type": "code",
   "execution_count": 13,
   "metadata": {},
   "outputs": [
    {
     "name": "stdout",
     "output_type": "stream",
     "text": [
      "Original Data :  [[[[39 24]\n",
      "   [41 29]]\n",
      "\n",
      "  [[28  8]\n",
      "   [ 2 19]]]\n",
      "\n",
      "\n",
      " [[[39 31]\n",
      "   [ 6 31]]\n",
      "\n",
      "  [[20  3]\n",
      "   [18 42]]]]\n",
      "Dimension :  4\n",
      "Iterable data :\n",
      "\t 39 \t 24 \n",
      "\t 41 \t 29 \n",
      "\n",
      "\t 28 \t 8 \n",
      "\t 2 \t 19 \n",
      "\n",
      "\n",
      "\t 39 \t 31 \n",
      "\t 6 \t 31 \n",
      "\n",
      "\t 20 \t 3 \n",
      "\t 18 \t 42 \n",
      "\n",
      "\n"
     ]
    }
   ],
   "source": [
    "# iterate the data of ndarray object using for loop\n",
    "\n",
    "import numpy as np\n",
    "arr = np.random.randint(2,55,size=(2,2,2,2))\n",
    "print(\"Original Data : \", arr)\n",
    "print(\"Dimension : \", arr.ndim)\n",
    "print(\"Iterable data :\")\n",
    "for cluster in arr:\n",
    "    for matrix in cluster:\n",
    "        for row in matrix:\n",
    "            for col in row:\n",
    "                print(\"\\t\",col, end=\" \")\n",
    "            print()\n",
    "        print()\n",
    "    print()"
   ]
  },
  {
   "cell_type": "code",
   "execution_count": 16,
   "metadata": {},
   "outputs": [
    {
     "name": "stdout",
     "output_type": "stream",
     "text": [
      "Array :  [10 20 30 40 50 60 70 80 90]\n",
      "Dimension : 1\n",
      "10\n",
      "20\n",
      "30\n",
      "40\n",
      "50\n",
      "60\n",
      "70\n",
      "80\n",
      "90\n"
     ]
    }
   ],
   "source": [
    "# using numpy.nditer() method\n",
    "# 1D\n",
    "import numpy as np\n",
    "arr = np.array([10,20,30,40,50,60,70,80,90])\n",
    "print(\"Array : \", arr)\n",
    "print(\"Dimension :\",arr.ndim)\n",
    "for val in np.nditer(arr):\n",
    "    print(val)"
   ]
  },
  {
   "cell_type": "code",
   "execution_count": 19,
   "metadata": {},
   "outputs": [
    {
     "name": "stdout",
     "output_type": "stream",
     "text": [
      "Array :  [[10 20 30]\n",
      " [40 50 60]\n",
      " [70 80 90]]\n",
      "Dimension : 2\n",
      "10 20 30 40 50 60 70 80 90 "
     ]
    }
   ],
   "source": [
    "# using numpy.nditer() method\n",
    "# 2D\n",
    "import numpy as np\n",
    "arr = np.array([10,20,30,40,50,60,70,80,90]).reshape(3,3)\n",
    "print(\"Array : \", arr)\n",
    "print(\"Dimension :\",arr.ndim)\n",
    "for val in np.nditer(arr):\n",
    "    print(val,end=' ')"
   ]
  },
  {
   "cell_type": "code",
   "execution_count": 20,
   "metadata": {},
   "outputs": [
    {
     "name": "stdout",
     "output_type": "stream",
     "text": [
      "Array :  [[[  10   20   30]\n",
      "  [  40   50   60]\n",
      "  [  70   80   90]]\n",
      "\n",
      " [[ 100  200  300]\n",
      "  [ 400  500 6000]\n",
      "  [ 700  800  900]]]\n",
      "Dimension : 3\n",
      "10 20 30 40 50 60 70 80 90 100 200 300 400 500 6000 700 800 900 "
     ]
    }
   ],
   "source": [
    "# using numpy.nditer() method\n",
    "# 2D\n",
    "import numpy as np\n",
    "arr = np.array([10,20,30,40,50,60,70,80,90,100,200,300,400,500,6000,700,800,900]).reshape(2,3,3)\n",
    "print(\"Array : \", arr)\n",
    "print(\"Dimension :\",arr.ndim)\n",
    "for val in np.nditer(arr):\n",
    "    print(val,end=' ')"
   ]
  },
  {
   "cell_type": "code",
   "execution_count": 27,
   "metadata": {},
   "outputs": [
    {
     "name": "stdout",
     "output_type": "stream",
     "text": [
      "Original : [20 21 22 23 24 25 26 27 28 29 30]\n",
      "Dimension : 1\n",
      "Index: (0,), Value: 20\n",
      "Index: (1,), Value: 21\n",
      "Index: (2,), Value: 22\n",
      "Index: (3,), Value: 23\n",
      "Index: (4,), Value: 24\n",
      "Index: (5,), Value: 25\n",
      "Index: (6,), Value: 26\n",
      "Index: (7,), Value: 27\n",
      "Index: (8,), Value: 28\n",
      "Index: (9,), Value: 29\n",
      "Index: (10,), Value: 30\n"
     ]
    }
   ],
   "source": [
    "# using numpy.ndenumerate()\n",
    "# 1D\n",
    "import numpy as np\n",
    "arr = np.arange(20,31)\n",
    "print(\"Original :\",arr)\n",
    "print(\"Dimension :\",arr.ndim)\n",
    "for i, value in np.ndenumerate(arr):\n",
    "    print(f\"Index: {i}, Value: {value}\")"
   ]
  },
  {
   "cell_type": "code",
   "execution_count": 28,
   "metadata": {},
   "outputs": [
    {
     "name": "stdout",
     "output_type": "stream",
     "text": [
      "Original : [[21 22 23]\n",
      " [24 25 26]\n",
      " [27 28 29]]\n",
      "Dimension : 2\n",
      "Index: (0, 0), Value: 21\n",
      "Index: (0, 1), Value: 22\n",
      "Index: (0, 2), Value: 23\n",
      "Index: (1, 0), Value: 24\n",
      "Index: (1, 1), Value: 25\n",
      "Index: (1, 2), Value: 26\n",
      "Index: (2, 0), Value: 27\n",
      "Index: (2, 1), Value: 28\n",
      "Index: (2, 2), Value: 29\n"
     ]
    }
   ],
   "source": [
    "# using numpy.ndenumerate()\n",
    "# 2D\n",
    "import numpy as np\n",
    "arr = np.arange(21,30).reshape(3,3)\n",
    "print(\"Original :\",arr)\n",
    "print(\"Dimension :\",arr.ndim)\n",
    "for i, value in np.ndenumerate(arr):\n",
    "    print(f\"Index: {i}, Value: {value}\")"
   ]
  },
  {
   "cell_type": "code",
   "execution_count": 29,
   "metadata": {},
   "outputs": [
    {
     "name": "stdout",
     "output_type": "stream",
     "text": [
      "Original : [[[21 22 23]\n",
      "  [24 25 26]\n",
      "  [27 28 29]]\n",
      "\n",
      " [[30 31 32]\n",
      "  [33 34 35]\n",
      "  [36 37 38]]]\n",
      "Dimension : 3\n",
      "Index: (0, 0, 0), Value: 21\n",
      "Index: (0, 0, 1), Value: 22\n",
      "Index: (0, 0, 2), Value: 23\n",
      "Index: (0, 1, 0), Value: 24\n",
      "Index: (0, 1, 1), Value: 25\n",
      "Index: (0, 1, 2), Value: 26\n",
      "Index: (0, 2, 0), Value: 27\n",
      "Index: (0, 2, 1), Value: 28\n",
      "Index: (0, 2, 2), Value: 29\n",
      "Index: (1, 0, 0), Value: 30\n",
      "Index: (1, 0, 1), Value: 31\n",
      "Index: (1, 0, 2), Value: 32\n",
      "Index: (1, 1, 0), Value: 33\n",
      "Index: (1, 1, 1), Value: 34\n",
      "Index: (1, 1, 2), Value: 35\n",
      "Index: (1, 2, 0), Value: 36\n",
      "Index: (1, 2, 1), Value: 37\n",
      "Index: (1, 2, 2), Value: 38\n"
     ]
    }
   ],
   "source": [
    "# using numpy.ndenumerate()\n",
    "# 3D\n",
    "import numpy as np\n",
    "arr = np.arange(21,39).reshape(2,3,3)\n",
    "print(\"Original :\",arr)\n",
    "print(\"Dimension :\",arr.ndim)\n",
    "for i, value in np.ndenumerate(arr):\n",
    "    print(f\"Index: {i}, Value: {value}\")"
   ]
  },
  {
   "cell_type": "code",
   "execution_count": 31,
   "metadata": {},
   "outputs": [
    {
     "name": "stdout",
     "output_type": "stream",
     "text": [
      "Original : [[21 22 23]\n",
      " [24 25 26]\n",
      " [27 28 29]]\n",
      "Dimension : 2\n",
      "Index: (1, 1), Value: 25\n"
     ]
    }
   ],
   "source": [
    "# using numpy.ndenumerate()\n",
    "# 2D\n",
    "import numpy as np\n",
    "arr = np.arange(21,30).reshape(3,3)\n",
    "print(\"Original :\",arr)\n",
    "print(\"Dimension :\",arr.ndim)\n",
    "for i, value in np.ndenumerate(arr):\n",
    "    if value == 25:\n",
    "        print(f\"Index: {i}, Value: {value}\")"
   ]
  },
  {
   "cell_type": "code",
   "execution_count": null,
   "metadata": {},
   "outputs": [],
   "source": []
  },
  {
   "cell_type": "code",
   "execution_count": null,
   "metadata": {},
   "outputs": [],
   "source": []
  },
  {
   "cell_type": "code",
   "execution_count": null,
   "metadata": {},
   "outputs": [],
   "source": []
  }
 ],
 "metadata": {
  "kernelspec": {
   "display_name": "Python 3",
   "language": "python",
   "name": "python3"
  },
  "language_info": {
   "codemirror_mode": {
    "name": "ipython",
    "version": 3
   },
   "file_extension": ".py",
   "mimetype": "text/x-python",
   "name": "python",
   "nbconvert_exporter": "python",
   "pygments_lexer": "ipython3",
   "version": "3.11.9"
  }
 },
 "nbformat": 4,
 "nbformat_minor": 2
}
