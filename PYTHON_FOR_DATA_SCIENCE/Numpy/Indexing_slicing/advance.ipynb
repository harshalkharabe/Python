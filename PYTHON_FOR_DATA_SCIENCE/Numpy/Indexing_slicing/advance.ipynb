{
 "cells": [
  {
   "cell_type": "code",
   "execution_count": 1,
   "metadata": {},
   "outputs": [
    {
     "name": "stdout",
     "output_type": "stream",
     "text": [
      "[10 20 30 40 50 60 70]\n"
     ]
    }
   ],
   "source": [
    "# Advance slicing on numpy\n",
    "import numpy as np\n",
    "arr = np.array([10,20,30,40,50,60,70])\n",
    "print(arr)"
   ]
  },
  {
   "cell_type": "code",
   "execution_count": 2,
   "metadata": {},
   "outputs": [
    {
     "name": "stdout",
     "output_type": "stream",
     "text": [
      "[10 20 30 40 50 60 70]\n"
     ]
    }
   ],
   "source": [
    "# Step for advance indexing \n",
    "# 1 : identify the index of the element you want to access\n",
    "# 2 : pass that indexs to ndarray object\n",
    "# Advance slicing on numpy\n",
    "import numpy as np\n",
    "arr = np.array([10,20,30,40,50,60,70])\n",
    "print(arr)"
   ]
  },
  {
   "cell_type": "code",
   "execution_count": 5,
   "metadata": {},
   "outputs": [
    {
     "data": {
      "text/plain": [
       "(array([10, 40, 50]), array([10, 40, 50]))"
      ]
     },
     "execution_count": 5,
     "metadata": {},
     "output_type": "execute_result"
    }
   ],
   "source": [
    "# i want to access 10,40,50 \n",
    "# 1 : identify the index of the element you want to access\n",
    "lst = [0,3,4] # take index of values in list\n",
    "# 2 : pass that indexs to ndarray object\n",
    "arr[lst],arr[[0,3,4]]"
   ]
  },
  {
   "cell_type": "code",
   "execution_count": 6,
   "metadata": {},
   "outputs": [
    {
     "data": {
      "text/plain": [
       "array([70, 60, 20, 10])"
      ]
     },
     "execution_count": 6,
     "metadata": {},
     "output_type": "execute_result"
    }
   ],
   "source": [
    "arr[[-1,-2,1,0]]"
   ]
  },
  {
   "cell_type": "code",
   "execution_count": 18,
   "metadata": {},
   "outputs": [
    {
     "name": "stdout",
     "output_type": "stream",
     "text": [
      "[[29 64  9 29 46]\n",
      " [68 13 68 93 72]\n",
      " [31 68 38 56  5]\n",
      " [34 46 55 29 32]\n",
      " [27 18 55 91 40]]\n"
     ]
    }
   ],
   "source": [
    "# Advance slicing on numpy\n",
    "import numpy as np\n",
    "arr = np.random.randint(1,100,size=(5,5))\n",
    "print(arr)"
   ]
  },
  {
   "cell_type": "code",
   "execution_count": 23,
   "metadata": {},
   "outputs": [
    {
     "data": {
      "text/plain": [
       "array([64, 38, 55, 40])"
      ]
     },
     "execution_count": 23,
     "metadata": {},
     "output_type": "execute_result"
    }
   ],
   "source": [
    "# want 64 38 55 40\n",
    "# step-1 : first collect row element diagonal elements row = [0,1,2,3,4]\n",
    "# step-2 : second collect col element diagonal elements col = [0,1,2,3,4]\n",
    "# step-3 : pass row_indices and col_indices to ndarray object\n",
    "row_index = [0,2,4,4]\n",
    "col_index = [1,2,2,4]\n",
    "arr[row_index,col_index]"
   ]
  },
  {
   "cell_type": "code",
   "execution_count": 24,
   "metadata": {},
   "outputs": [
    {
     "data": {
      "text/plain": [
       "(array([29, 13, 38, 29, 40]), array([27, 46, 38, 93, 46]))"
      ]
     },
     "execution_count": 24,
     "metadata": {},
     "output_type": "execute_result"
    }
   ],
   "source": [
    "# step-1 : first collect row element diagonal elements row = [0,1,2,3,4]\n",
    "# step-2 : second collect col element diagonal elements col = [0,1,2,3,4]\n",
    "# step-3 : pass row_indices and col_indices to ndarray object\n",
    "arr[[0,1,2,3,4],[0,1,2,3,4]] , arr[[4,3,2,1,0],[0,1,2,3,4]]"
   ]
  },
  {
   "cell_type": "code",
   "execution_count": 30,
   "metadata": {},
   "outputs": [
    {
     "name": "stdout",
     "output_type": "stream",
     "text": [
      "[[[53 93 37]\n",
      "  [69 77 82]\n",
      "  [52 28 97]]\n",
      "\n",
      " [[34 10 33]\n",
      "  [91 80 10]\n",
      "  [89 34 15]]\n",
      "\n",
      " [[88 54 43]\n",
      "  [94 56 93]\n",
      "  [ 7 18 84]]]\n"
     ]
    }
   ],
   "source": [
    "# Advance slicing on numpy\n",
    "import numpy as np\n",
    "arr = np.random.randint(1,100,size=(3,3,3))\n",
    "print(arr)"
   ]
  },
  {
   "cell_type": "code",
   "execution_count": 39,
   "metadata": {},
   "outputs": [
    {
     "data": {
      "text/plain": [
       "(array([53, 97,  7]), array([53, 97,  7, 43]))"
      ]
     },
     "execution_count": 39,
     "metadata": {},
     "output_type": "execute_result"
    }
   ],
   "source": [
    "arr[[0,0,2],[0,2,2],[0,2,0]],arr[[0,0,2,2],[0,2,2,0],[0,2,0,2]]"
   ]
  },
  {
   "cell_type": "code",
   "execution_count": 41,
   "metadata": {},
   "outputs": [
    {
     "name": "stdout",
     "output_type": "stream",
     "text": [
      "[[[[68 49 22]\n",
      "   [98 13  6]\n",
      "   [74 57 61]]\n",
      "\n",
      "  [[46 20 15]\n",
      "   [20 81 56]\n",
      "   [52 49 32]]]\n",
      "\n",
      "\n",
      " [[[92 32 33]\n",
      "   [83 12 88]\n",
      "   [65 17 70]]\n",
      "\n",
      "  [[75 17 38]\n",
      "   [67 45 37]\n",
      "   [96 48 29]]]]\n"
     ]
    }
   ],
   "source": [
    "# Advance slicing on numpy\n",
    "import numpy as np\n",
    "arr = np.random.randint(1,100,size=(2,2,3,3))\n",
    "print(arr)"
   ]
  },
  {
   "cell_type": "code",
   "execution_count": null,
   "metadata": {},
   "outputs": [],
   "source": []
  }
 ],
 "metadata": {
  "kernelspec": {
   "display_name": "Python 3",
   "language": "python",
   "name": "python3"
  },
  "language_info": {
   "codemirror_mode": {
    "name": "ipython",
    "version": 3
   },
   "file_extension": ".py",
   "mimetype": "text/x-python",
   "name": "python",
   "nbconvert_exporter": "python",
   "pygments_lexer": "ipython3",
   "version": "3.11.9"
  }
 },
 "nbformat": 4,
 "nbformat_minor": 2
}
