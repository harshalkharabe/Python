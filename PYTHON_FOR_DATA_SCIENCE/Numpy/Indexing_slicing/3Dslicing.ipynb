{
 "cells": [
  {
   "cell_type": "code",
   "execution_count": 6,
   "metadata": {},
   "outputs": [
    {
     "name": "stdout",
     "output_type": "stream",
     "text": [
      "[[12 34 56 78]\n",
      " [90 32 54 87]\n",
      " [ 1  6 56 78]\n",
      " [90 32 54 87]]\n",
      "Dimension of array : 2\n",
      "Size of array : 16\n",
      "Shape of array : (4, 4)\n"
     ]
    }
   ],
   "source": [
    "# 3D slicing\n",
    "import numpy as np\n",
    "arr = np.array([12,34,56,78,90,32,54,87,1,6,56,78,90,32,54,87]).reshape(4,4)\n",
    "print(arr)\n",
    "print(f\"Dimension of array : {arr.ndim}\")\n",
    "print(f\"Size of array : {arr.size}\")\n",
    "print(f\"Shape of array : {arr.shape}\")"
   ]
  },
  {
   "cell_type": "code",
   "execution_count": 10,
   "metadata": {},
   "outputs": [
    {
     "data": {
      "text/plain": [
       "(array([[ 1,  6, 56, 78],\n",
       "        [90, 32, 54, 87]]),\n",
       " array([[34],\n",
       "        [32]]))"
      ]
     },
     "execution_count": 10,
     "metadata": {},
     "output_type": "execute_result"
    }
   ],
   "source": [
    "# last 2 rows\n",
    "arr[2:,:], arr[::3,1:2]"
   ]
  },
  {
   "cell_type": "code",
   "execution_count": 1,
   "metadata": {},
   "outputs": [
    {
     "name": "stdout",
     "output_type": "stream",
     "text": [
      "[[[12 34]\n",
      "  [56 78]\n",
      "  [90 32]\n",
      "  [54 87]]\n",
      "\n",
      " [[ 1  6]\n",
      "  [56 78]\n",
      "  [90 32]\n",
      "  [54 87]]]\n",
      "Dimension of array : 3\n",
      "Size of array : 16\n",
      "Shape of array : (2, 4, 2)\n"
     ]
    }
   ],
   "source": [
    "# advance slicing\n",
    "import numpy as np\n",
    "arr = np.array([12,34,56,78,90,32,54,87,1,6,56,78,90,32,54,87]).reshape(2,4,2)\n",
    "print(arr)\n",
    "print(f\"Dimension of array : {arr.ndim}\")\n",
    "print(f\"Size of array : {arr.size}\")\n",
    "print(f\"Shape of array : {arr.shape}\")"
   ]
  },
  {
   "cell_type": "code",
   "execution_count": 12,
   "metadata": {},
   "outputs": [
    {
     "data": {
      "text/plain": [
       "(array([[[56, 78],\n",
       "         [90, 32]]]),\n",
       " array([[[56, 78],\n",
       "         [90, 32]]]),\n",
       " array([[[12],\n",
       "         [54]]]),\n",
       " array([[[12, 34]],\n",
       " \n",
       "        [[ 1,  6]]]),\n",
       " array([[[56, 78],\n",
       "         [90, 32]],\n",
       " \n",
       "        [[56, 78],\n",
       "         [90, 32]]]))"
      ]
     },
     "execution_count": 12,
     "metadata": {},
     "output_type": "execute_result"
    }
   ],
   "source": [
    "arr[:1,1:3,:],arr[:1,1:3],arr[:1,::3,:1],arr[:,:1,:],arr[:,1:3,:]"
   ]
  },
  {
   "cell_type": "code",
   "execution_count": 13,
   "metadata": {},
   "outputs": [
    {
     "name": "stdout",
     "output_type": "stream",
     "text": [
      "[[[[12 34]\n",
      "   [56 78]]\n",
      "\n",
      "  [[90 32]\n",
      "   [54 87]]]\n",
      "\n",
      "\n",
      " [[[ 1  6]\n",
      "   [56 78]]\n",
      "\n",
      "  [[90 32]\n",
      "   [54 87]]]]\n",
      "Dimension of array : 4\n",
      "Size of array : 16\n",
      "Shape of array : (2, 2, 2, 2)\n"
     ]
    }
   ],
   "source": [
    "# advance slicing\n",
    "import numpy as np\n",
    "arr = np.array([12,34,56,78,90,32,54,87,1,6,56,78,90,32,54,87]).reshape(2,2,2,2)\n",
    "print(arr)\n",
    "print(f\"Dimension of array : {arr.ndim}\")\n",
    "print(f\"Size of array : {arr.size}\")\n",
    "print(f\"Shape of array : {arr.shape}\")"
   ]
  },
  {
   "cell_type": "code",
   "execution_count": 16,
   "metadata": {},
   "outputs": [
    {
     "data": {
      "text/plain": [
       "(array([[[[12, 34],\n",
       "          [56, 78]],\n",
       " \n",
       "         [[90, 32],\n",
       "          [54, 87]]],\n",
       " \n",
       " \n",
       "        [[[ 1,  6],\n",
       "          [56, 78]],\n",
       " \n",
       "         [[90, 32],\n",
       "          [54, 87]]]]),\n",
       " array([[[[12, 34]],\n",
       " \n",
       "         [[90, 32]]],\n",
       " \n",
       " \n",
       "        [[[ 1,  6]],\n",
       " \n",
       "         [[90, 32]]]]),\n",
       " array([[[[34]],\n",
       " \n",
       "         [[32]]],\n",
       " \n",
       " \n",
       "        [[[ 6]],\n",
       " \n",
       "         [[32]]]]))"
      ]
     },
     "execution_count": 16,
     "metadata": {},
     "output_type": "execute_result"
    }
   ],
   "source": [
    "arr[:,:,:,:],arr[:,:,:1,:],arr[:,:,:1,1:]"
   ]
  },
  {
   "cell_type": "code",
   "execution_count": null,
   "metadata": {},
   "outputs": [],
   "source": []
  }
 ],
 "metadata": {
  "kernelspec": {
   "display_name": "Python 3",
   "language": "python",
   "name": "python3"
  },
  "language_info": {
   "codemirror_mode": {
    "name": "ipython",
    "version": 3
   },
   "file_extension": ".py",
   "mimetype": "text/x-python",
   "name": "python",
   "nbconvert_exporter": "python",
   "pygments_lexer": "ipython3",
   "version": "3.11.9"
  }
 },
 "nbformat": 4,
 "nbformat_minor": 2
}
