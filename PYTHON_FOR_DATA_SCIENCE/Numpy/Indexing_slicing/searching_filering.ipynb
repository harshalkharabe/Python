{
 "cells": [
  {
   "cell_type": "code",
   "execution_count": 3,
   "metadata": {},
   "outputs": [
    {
     "name": "stdout",
     "output_type": "stream",
     "text": [
      "original array : [41 33 77 24 19 85 83 94 82 92 62 64 80 60 44 61 98 41 21 48 60 18 38 36\n",
      " 83]\n"
     ]
    }
   ],
   "source": [
    "# condition based data\n",
    "import numpy as np\n",
    "arr = np.random.randint(2,99,25)\n",
    "print(\"original array :\",arr)"
   ]
  },
  {
   "cell_type": "code",
   "execution_count": 6,
   "metadata": {},
   "outputs": [
    {
     "name": "stdout",
     "output_type": "stream",
     "text": [
      "Boolean array : [False False False  True False False False  True  True  True  True  True\n",
      "  True  True  True False  True False False  True  True  True  True  True\n",
      " False]\n"
     ]
    },
    {
     "data": {
      "text/plain": [
       "('Even numbers array :',\n",
       " array([24, 94, 82, 92, 62, 64, 80, 60, 44, 98, 48, 60, 18, 38, 36]))"
      ]
     },
     "execution_count": 6,
     "metadata": {},
     "output_type": "execute_result"
    }
   ],
   "source": [
    "# only even number in array\n",
    "barr = arr%2==0 # it create boolean array\n",
    "print(\"Boolean array :\",barr)\n",
    "\"Even numbers array :\",arr[barr]"
   ]
  },
  {
   "cell_type": "code",
   "execution_count": 7,
   "metadata": {},
   "outputs": [
    {
     "name": "stdout",
     "output_type": "stream",
     "text": [
      "Boolean array : [ True  True  True False  True  True  True False False False False False\n",
      " False False False  True False  True  True False False False False False\n",
      "  True]\n"
     ]
    },
    {
     "data": {
      "text/plain": [
       "('Odd numbers array :', array([41, 33, 77, 19, 85, 83, 61, 41, 21, 83]))"
      ]
     },
     "execution_count": 7,
     "metadata": {},
     "output_type": "execute_result"
    }
   ],
   "source": [
    "# only odd number in array\n",
    "barr = arr%2!=0 # it create boolean array\n",
    "print(\"Boolean array :\",barr)\n",
    "\"Odd numbers array :\",arr[barr]"
   ]
  },
  {
   "cell_type": "code",
   "execution_count": 9,
   "metadata": {},
   "outputs": [
    {
     "name": "stdout",
     "output_type": "stream",
     "text": [
      "Boolean array : [False  True False  True False False False False False False False False\n",
      " False  True False False False False  True  True  True  True False  True\n",
      " False]\n"
     ]
    },
    {
     "data": {
      "text/plain": [
       "('Multiple of 3 array :', array([33, 24, 60, 21, 48, 60, 18, 36]))"
      ]
     },
     "execution_count": 9,
     "metadata": {},
     "output_type": "execute_result"
    }
   ],
   "source": [
    "# only multiple of 3 in array\n",
    "barr = arr%3==0 # it create boolean array\n",
    "print(\"Boolean array :\",barr)\n",
    "\"Multiple of 3 array :\",arr[barr]"
   ]
  },
  {
   "cell_type": "code",
   "execution_count": 10,
   "metadata": {},
   "outputs": [
    {
     "name": "stdout",
     "output_type": "stream",
     "text": [
      "Boolean array : [False False False False False  True False False False False False False\n",
      "  True  True False False False False False False  True False False False\n",
      " False]\n"
     ]
    },
    {
     "data": {
      "text/plain": [
       "('Multiple of 5 array :', array([85, 80, 60, 60]))"
      ]
     },
     "execution_count": 10,
     "metadata": {},
     "output_type": "execute_result"
    }
   ],
   "source": [
    "# only multiple of 5 in array\n",
    "barr = arr%5==0 # it create boolean array\n",
    "print(\"Boolean array :\",barr)\n",
    "\"Multiple of 5 array :\",arr[barr]"
   ]
  },
  {
   "cell_type": "code",
   "execution_count": 13,
   "metadata": {},
   "outputs": [
    {
     "name": "stdout",
     "output_type": "stream",
     "text": [
      "Boolean array : [False False False False False False False False False False False False\n",
      " False  True False False False False False False  True False False False\n",
      " False]\n"
     ]
    },
    {
     "data": {
      "text/plain": [
       "('Multiple of 3 and 5 array :', array([60, 60]))"
      ]
     },
     "execution_count": 13,
     "metadata": {},
     "output_type": "execute_result"
    }
   ],
   "source": [
    "# only multiple of both 3 and 5 in array\n",
    "barr = (arr%3==0) & (arr%5==0) # it create boolean array\n",
    "print(\"Boolean array :\",barr)\n",
    "\"Multiple of 3 and 5 array :\",arr[barr]"
   ]
  },
  {
   "cell_type": "code",
   "execution_count": 15,
   "metadata": {},
   "outputs": [
    {
     "name": "stdout",
     "output_type": "stream",
     "text": [
      "(array([ 0,  1,  2,  3,  4,  5,  6,  7, 12], dtype=int64),) <class 'tuple'>\n",
      "0 1 2 3 4 5 6 7 12 "
     ]
    }
   ],
   "source": [
    "# where method\n",
    "\n",
    "arr = np.array([1,2,3,4,5,6,7,8,-1,-2,-3,-4,5,-5,-6])\n",
    "idx = np.where(arr > 0)\n",
    "print(idx , type(idx)) # return tuple of arrays\n",
    "for i in idx[0]: # idx[0] contain the index of the array where the condition is true\n",
    "    print(i,end=' ')"
   ]
  },
  {
   "cell_type": "code",
   "execution_count": 18,
   "metadata": {},
   "outputs": [
    {
     "name": "stdout",
     "output_type": "stream",
     "text": [
      "(array([0, 1, 2, 3, 4, 5, 6, 7, 8, 9], dtype=int64),) <class 'tuple'>\n",
      "0 1 2 3 4 5 6 7 8 9 "
     ]
    }
   ],
   "source": [
    "# where method\n",
    "\n",
    "arr = np.arange(4,41,4)\n",
    "idx = np.where(arr%4==0)\n",
    "print(idx , type(idx)) # return tuple of arrays\n",
    "for i in idx[0]: # idx[0] contain the index of the array where the condition is true\n",
    "    print(i,end=' ')"
   ]
  },
  {
   "cell_type": "code",
   "execution_count": 24,
   "metadata": {},
   "outputs": [
    {
     "name": "stdout",
     "output_type": "stream",
     "text": [
      "(array([ 1,  4,  7, 10, 13, 16, 19, 22, 25, 28, 31, 34, 37, 40, 43, 46, 49],\n",
      "      dtype=int64),) <class 'tuple'>\n",
      "1 4 7 10 13 16 19 22 25 28 31 34 37 40 43 46 49 "
     ]
    }
   ],
   "source": [
    "# where method\n",
    "# syntax : numpy.where(condition)\n",
    "# syntax-2 : numpy.where(condition,x,y)\n",
    "arr = np.arange(4,400,8)\n",
    "idx = np.where(arr%4==0)\n",
    "print(idx , type(idx)) # return tuple of arrays\n",
    "for i in idx[0]: # idx[0] contain the index of the array where the condition is true\n",
    "    print(i,end=' ')"
   ]
  },
  {
   "cell_type": "code",
   "execution_count": 25,
   "metadata": {},
   "outputs": [
    {
     "name": "stdout",
     "output_type": "stream",
     "text": [
      "(array([ 1,  4,  7, 10, 13, 16, 19, 22, 25, 28, 31, 34, 37, 40, 43, 46, 49],\n",
      "      dtype=int64),) <class 'tuple'>\n",
      "1 4 7 10 13 16 19 22 25 28 31 34 37 40 43 46 49 "
     ]
    }
   ],
   "source": [
    "# where method\n",
    "# syntax : numpy.where(condition)\n",
    "# syntax-2 : numpy.where(condition,x,y)\n",
    "arr = np.arange(4,400,8)\n",
    "idx = np.where((arr%4==0) & (arr%6==0))\n",
    "print(idx , type(idx)) # return tuple of arrays\n",
    "for i in idx[0]: # idx[0] contain the index of the array where the condition is true\n",
    "    print(i,end=' ')"
   ]
  },
  {
   "cell_type": "code",
   "execution_count": 34,
   "metadata": {},
   "outputs": [
    {
     "name": "stdout",
     "output_type": "stream",
     "text": [
      "Original : [4 400 8 None 23 45 43 324 324 3 34 324 34 23 4 None]\n",
      "[4 400 8 0 23 45 43 324 324 3 34 324 34 23 4 0] <class 'numpy.ndarray'>\n",
      "4 400 8 0 23 45 43 324 324 3 34 324 34 23 4 0 "
     ]
    }
   ],
   "source": [
    "# working with missing data\n",
    "# syntax : numpy.where(condition)\n",
    "# syntax-2 : numpy.where(condition,x,y)\n",
    "arr = np.array([4,400,8,None,23,45,43,324,324,3,34,324,34,23,4,None])\n",
    "print(\"Original :\",arr)\n",
    "idx = np.where(arr==None,0,arr)\n",
    "print(idx , type(idx))\n",
    "for i in idx:\n",
    "    print(i,end=' ')"
   ]
  },
  {
   "cell_type": "code",
   "execution_count": 36,
   "metadata": {},
   "outputs": [
    {
     "name": "stdout",
     "output_type": "stream",
     "text": [
      "Original : [4 400 8 None 23 45 43 324 324 3 34 324 34 23 4 None]\n",
      "[4 400 8 23 45 43 324 324 3 34 324 34 23 4] <class 'numpy.ndarray'>\n",
      "4 400 8 23 45 43 324 324 3 34 324 34 23 4 "
     ]
    }
   ],
   "source": [
    "# Working with missing data\n",
    "# syntax : numpy.where(condition)\n",
    "# syntax-2 : numpy.where(condition,x,y)\n",
    "arr = np.array([4,400,8,None,23,45,43,324,324,3,34,324,34,23,4,None])\n",
    "print(\"Original :\",arr)\n",
    "idx = np.extract(arr!=None,arr)\n",
    "print(idx , type(idx))\n",
    "for i in idx:\n",
    "    print(i,end=' ')"
   ]
  },
  {
   "cell_type": "code",
   "execution_count": 40,
   "metadata": {},
   "outputs": [
    {
     "name": "stdout",
     "output_type": "stream",
     "text": [
      "nan <class 'float'> nan <class 'float'>\n"
     ]
    }
   ],
   "source": [
    "print(np.NaN,type(np.NaN),np.nan,type(np.nan))"
   ]
  },
  {
   "cell_type": "code",
   "execution_count": 46,
   "metadata": {},
   "outputs": [
    {
     "name": "stdout",
     "output_type": "stream",
     "text": [
      "original : [38 32 43 13  8 25 48 12  2 24 44 21 35 36 47 41  9 37 15  3]\n",
      "Greater than 15 : [38 32 43 25 48 24 44 21 35 36 47 41 37]\n"
     ]
    }
   ],
   "source": [
    "# Example of np.extract()\n",
    "# np.extract(condition, array)\n",
    "arr = np.random.randint(2,50,20)\n",
    "print(f\"original : {arr}\")\n",
    "print(\"Greater than 15 :\",np.extract(arr>15,arr))"
   ]
  },
  {
   "cell_type": "code",
   "execution_count": 47,
   "metadata": {},
   "outputs": [
    {
     "name": "stdout",
     "output_type": "stream",
     "text": [
      "original : [ 7 14 41 49 34 35 20 21 34 20 49 19 31 18 47 35 42 18 44 44]\n",
      "Lesser than 15 : [ 7 14]\n"
     ]
    }
   ],
   "source": [
    "# Example of np.extract()\n",
    "# np.extract(condition, array)\n",
    "arr = np.random.randint(2,50,20)\n",
    "print(f\"original : {arr}\")\n",
    "print(\"Lesser than 15 :\",np.extract(arr<15,arr))"
   ]
  },
  {
   "cell_type": "code",
   "execution_count": null,
   "metadata": {},
   "outputs": [],
   "source": []
  }
 ],
 "metadata": {
  "kernelspec": {
   "display_name": "Python 3",
   "language": "python",
   "name": "python3"
  },
  "language_info": {
   "codemirror_mode": {
    "name": "ipython",
    "version": 3
   },
   "file_extension": ".py",
   "mimetype": "text/x-python",
   "name": "python",
   "nbconvert_exporter": "python",
   "pygments_lexer": "ipython3",
   "version": "3.11.9"
  }
 },
 "nbformat": 4,
 "nbformat_minor": 2
}
