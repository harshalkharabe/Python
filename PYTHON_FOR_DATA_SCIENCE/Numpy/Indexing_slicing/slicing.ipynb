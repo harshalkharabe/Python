{
 "cells": [
  {
   "cell_type": "code",
   "execution_count": null,
   "metadata": {},
   "outputs": [],
   "source": [
    "# slicing on 1D 2D and 3D arrays"
   ]
  },
  {
   "cell_type": "code",
   "execution_count": 4,
   "metadata": {},
   "outputs": [
    {
     "name": "stdout",
     "output_type": "stream",
     "text": [
      "Array : [85 43 58 24 13 33 91 75 54 63 44 62]\n",
      "Dimension of arr : 1\n",
      "Shape of arr : (12,)\n",
      "Size of arr : 12\n"
     ]
    }
   ],
   "source": [
    "import numpy as np\n",
    "arr = np.random.randint(12,99,12)\n",
    "# print(f\"Array : {arr}\")\n",
    "print(f\"Array : {arr}\")\n",
    "print(f\"Dimension of arr : {arr.ndim}\")\n",
    "print(f\"Shape of arr : {arr.shape}\")\n",
    "print(f\"Size of arr : {arr.size}\")"
   ]
  },
  {
   "cell_type": "code",
   "execution_count": 5,
   "metadata": {},
   "outputs": [
    {
     "data": {
      "text/plain": [
       "array([85, 43, 58, 24, 13, 33, 91, 75, 54, 63, 44, 62])"
      ]
     },
     "execution_count": 5,
     "metadata": {},
     "output_type": "execute_result"
    }
   ],
   "source": [
    "# basic slicing \n",
    "arr[::]"
   ]
  },
  {
   "cell_type": "code",
   "execution_count": 6,
   "metadata": {},
   "outputs": [
    {
     "data": {
      "text/plain": [
       "array([62, 44, 63, 54, 75, 91, 33, 13, 24, 58, 43, 85])"
      ]
     },
     "execution_count": 6,
     "metadata": {},
     "output_type": "execute_result"
    }
   ],
   "source": [
    "# reverse the array using slicing \n",
    "arr[::-1]"
   ]
  },
  {
   "cell_type": "code",
   "execution_count": 7,
   "metadata": {},
   "outputs": [
    {
     "data": {
      "text/plain": [
       "array([85, 58, 13, 91, 54, 44])"
      ]
     },
     "execution_count": 7,
     "metadata": {},
     "output_type": "execute_result"
    }
   ],
   "source": [
    "arr[::2]"
   ]
  },
  {
   "cell_type": "code",
   "execution_count": 8,
   "metadata": {},
   "outputs": [
    {
     "data": {
      "text/plain": [
       "array([62, 63, 75, 33, 24, 43])"
      ]
     },
     "execution_count": 8,
     "metadata": {},
     "output_type": "execute_result"
    }
   ],
   "source": [
    "arr[::-2]"
   ]
  },
  {
   "cell_type": "code",
   "execution_count": 9,
   "metadata": {},
   "outputs": [
    {
     "data": {
      "text/plain": [
       "array([24, 13, 33, 91, 75, 54])"
      ]
     },
     "execution_count": 9,
     "metadata": {},
     "output_type": "execute_result"
    }
   ],
   "source": [
    "arr[3:9] # +ve starting +ve ending"
   ]
  },
  {
   "cell_type": "code",
   "execution_count": 10,
   "metadata": {},
   "outputs": [
    {
     "data": {
      "text/plain": [
       "array([85, 43, 58, 24, 13])"
      ]
     },
     "execution_count": 10,
     "metadata": {},
     "output_type": "execute_result"
    }
   ],
   "source": [
    "arr[-len(arr):5]  # -ve starting +ve ending"
   ]
  },
  {
   "cell_type": "code",
   "execution_count": 11,
   "metadata": {},
   "outputs": [
    {
     "data": {
      "text/plain": [
       "array([24, 13, 33, 91, 75])"
      ]
     },
     "execution_count": 11,
     "metadata": {},
     "output_type": "execute_result"
    }
   ],
   "source": [
    "arr[-9:8] # -ve starting +ve ending"
   ]
  },
  {
   "cell_type": "code",
   "execution_count": 12,
   "metadata": {},
   "outputs": [
    {
     "data": {
      "text/plain": [
       "array([], dtype=int32)"
      ]
     },
     "execution_count": 12,
     "metadata": {},
     "output_type": "execute_result"
    }
   ],
   "source": [
    "arr[-3:-9]"
   ]
  },
  {
   "cell_type": "code",
   "execution_count": 13,
   "metadata": {},
   "outputs": [
    {
     "data": {
      "text/plain": [
       "array([63, 54, 75, 91, 33, 13])"
      ]
     },
     "execution_count": 13,
     "metadata": {},
     "output_type": "execute_result"
    }
   ],
   "source": [
    "arr[-3:-9:-1]"
   ]
  },
  {
   "cell_type": "code",
   "execution_count": 15,
   "metadata": {},
   "outputs": [
    {
     "data": {
      "text/plain": [
       "array([], dtype=int32)"
      ]
     },
     "execution_count": 15,
     "metadata": {},
     "output_type": "execute_result"
    }
   ],
   "source": [
    "arr[-2:2]"
   ]
  },
  {
   "cell_type": "code",
   "execution_count": 16,
   "metadata": {},
   "outputs": [
    {
     "data": {
      "text/plain": [
       "array([58, 24, 13, 33, 91, 75, 54, 63])"
      ]
     },
     "execution_count": 16,
     "metadata": {},
     "output_type": "execute_result"
    }
   ],
   "source": [
    "arr[2:-2]"
   ]
  },
  {
   "cell_type": "code",
   "execution_count": 19,
   "metadata": {},
   "outputs": [
    {
     "name": "stdout",
     "output_type": "stream",
     "text": [
      "Array : [[52 70]\n",
      " [85 22]\n",
      " [29 32]]\n",
      "Dimension of arr : 2\n",
      "Shape of arr : (3, 2)\n",
      "Size of arr : 6\n"
     ]
    }
   ],
   "source": [
    "# slicing in 2D array \n",
    "import numpy as np\n",
    "arr = np.random.randint(12,99,size=(3,2))\n",
    "# print(f\"Array : {arr}\")\n",
    "print(f\"Array : {arr}\")\n",
    "print(f\"Dimension of arr : {arr.ndim}\")\n",
    "print(f\"Shape of arr : {arr.shape}\")\n",
    "print(f\"Size of arr : {arr.size}\")"
   ]
  },
  {
   "cell_type": "code",
   "execution_count": 29,
   "metadata": {},
   "outputs": [
    {
     "name": "stdout",
     "output_type": "stream",
     "text": [
      "[[52]\n",
      " [85]\n",
      " [29]]\n",
      "\n",
      "[[52]\n",
      " [85]\n",
      " [29]]\n",
      "\n",
      "[[52]\n",
      " [85]\n",
      " [29]]\n",
      "\n",
      "[[52]\n",
      " [85]\n",
      " [29]]\n"
     ]
    }
   ],
   "source": [
    "# basic slicing on ndarray\n",
    "# retrive first column\n",
    "print(arr[::,0:1],arr[0:3,0:1],arr[:,0:1],arr[0:,:1],sep='\\n\\n')"
   ]
  },
  {
   "cell_type": "code",
   "execution_count": 36,
   "metadata": {},
   "outputs": [
    {
     "name": "stdout",
     "output_type": "stream",
     "text": [
      "[[85 22]\n",
      " [29 32]]\n",
      "\n",
      "[[85 22]\n",
      " [29 32]]\n",
      "\n",
      "[[85 22]\n",
      " [29 32]]\n",
      "\n",
      "[[85 22]\n",
      " [29 32]]\n",
      "\n",
      "[[85 22]\n",
      " [29 32]]\n"
     ]
    }
   ],
   "source": [
    "# retrive last 2 rows \n",
    "print(arr[1:,:],arr[1:,::],arr[1:,0:],arr[-2:,:],arr[-2:,::],sep='\\n\\n')"
   ]
  },
  {
   "cell_type": "code",
   "execution_count": 37,
   "metadata": {},
   "outputs": [
    {
     "name": "stdout",
     "output_type": "stream",
     "text": [
      "Array : [[88 19 85 59]\n",
      " [68 94 86 74]\n",
      " [29 46 35 89]]\n",
      "Dimension of arr : 2\n",
      "Shape of arr : (3, 4)\n",
      "Size of arr : 12\n"
     ]
    }
   ],
   "source": [
    "import numpy as np\n",
    "arr = np.random.randint(12,99,size=(3,4))\n",
    "# print(f\"Array : {arr}\")\n",
    "print(f\"Array : {arr}\")\n",
    "print(f\"Dimension of arr : {arr.ndim}\")\n",
    "print(f\"Shape of arr : {arr.shape}\")\n",
    "print(f\"Size of arr : {arr.size}\")"
   ]
  },
  {
   "cell_type": "code",
   "execution_count": 45,
   "metadata": {},
   "outputs": [
    {
     "data": {
      "text/plain": [
       "(array([[88, 85],\n",
       "        [29, 35]]),\n",
       " array([[88, 85],\n",
       "        [29, 35]]))"
      ]
     },
     "execution_count": 45,
     "metadata": {},
     "output_type": "execute_result"
    }
   ],
   "source": [
    "arr[::2,::2],arr[0::2,:3:2]"
   ]
  },
  {
   "cell_type": "code",
   "execution_count": 49,
   "metadata": {},
   "outputs": [
    {
     "data": {
      "text/plain": [
       "(array([[88, 85],\n",
       "        [29, 35]]),\n",
       " array([[88, 85],\n",
       "        [29, 35]]))"
      ]
     },
     "execution_count": 49,
     "metadata": {},
     "output_type": "execute_result"
    }
   ],
   "source": [
    "arr[-3::2,-4::2],arr[-3::2,::2]"
   ]
  },
  {
   "cell_type": "code",
   "execution_count": 50,
   "metadata": {},
   "outputs": [
    {
     "data": {
      "text/plain": [
       "array([[88, 19, 85, 59],\n",
       "       [29, 46, 35, 89]])"
      ]
     },
     "execution_count": 50,
     "metadata": {},
     "output_type": "execute_result"
    }
   ],
   "source": [
    "arr[::2,::]"
   ]
  },
  {
   "cell_type": "code",
   "execution_count": 51,
   "metadata": {},
   "outputs": [
    {
     "data": {
      "text/plain": [
       "array([[85, 59],\n",
       "       [86, 74]])"
      ]
     },
     "execution_count": 51,
     "metadata": {},
     "output_type": "execute_result"
    }
   ],
   "source": [
    "arr[:2,2:]"
   ]
  },
  {
   "cell_type": "code",
   "execution_count": null,
   "metadata": {},
   "outputs": [],
   "source": []
  }
 ],
 "metadata": {
  "kernelspec": {
   "display_name": "Python 3",
   "language": "python",
   "name": "python3"
  },
  "language_info": {
   "codemirror_mode": {
    "name": "ipython",
    "version": 3
   },
   "file_extension": ".py",
   "mimetype": "text/x-python",
   "name": "python",
   "nbconvert_exporter": "python",
   "pygments_lexer": "ipython3",
   "version": "3.11.9"
  }
 },
 "nbformat": 4,
 "nbformat_minor": 2
}
