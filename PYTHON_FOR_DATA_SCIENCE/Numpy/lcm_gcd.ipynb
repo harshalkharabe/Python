{
 "cells": [
  {
   "cell_type": "code",
   "execution_count": null,
   "metadata": {},
   "outputs": [],
   "source": [
    "# GCD : gcd is the greatest common divisor of two numbers.\n",
    "# The GCD (or HCF) of two numbers is the largest number that divides both numbers exactly.\n",
    "\n",
    "# Example :\n",
    "# 4,6 \n",
    "# 4 --> 1,2,4\n",
    "# 6 --> 1,2,3,6\n",
    "# common factors --> 1,2\n",
    "# Greater factor in common factor is 2.\n",
    "# GCD(4,6) = 2."
   ]
  },
  {
   "cell_type": "code",
   "execution_count": 1,
   "metadata": {},
   "outputs": [
    {
     "name": "stdout",
     "output_type": "stream",
     "text": [
      "Calculate GCD\n"
     ]
    }
   ],
   "source": [
    "print(\"Calculate GCD\")"
   ]
  },
  {
   "cell_type": "code",
   "execution_count": 3,
   "metadata": {},
   "outputs": [
    {
     "name": "stdout",
     "output_type": "stream",
     "text": [
      "Array : [12 34 98 56  5  8  9  7 64]\n",
      "GCD of arr : 1\n"
     ]
    }
   ],
   "source": [
    "import numpy as np\n",
    "arr = np.array([12,34,98,56,5,8,9,7,64])\n",
    "print(\"Array :\",arr)\n",
    "ans = np.gcd.reduce(arr)\n",
    "print(\"GCD of arr :\",ans)"
   ]
  },
  {
   "cell_type": "code",
   "execution_count": 5,
   "metadata": {},
   "outputs": [
    {
     "name": "stdout",
     "output_type": "stream",
     "text": [
      "Array : [ 1  5  9 13 17 21 25 29 33 37 41 45 49]\n",
      "GCD of arr : 1\n"
     ]
    }
   ],
   "source": [
    "import numpy as np\n",
    "arr = np.arange(1,50,4)\n",
    "print(\"Array :\",arr)\n",
    "ans = np.gcd.reduce(arr)\n",
    "print(\"GCD of arr :\",ans)"
   ]
  },
  {
   "cell_type": "code",
   "execution_count": null,
   "metadata": {},
   "outputs": [],
   "source": [
    "# LCM : The LCM of two numbers is the smallest number that is a multiple of both numbers.\n",
    "\n",
    "# Example : \n",
    "# 3,5\n",
    "# 3 Multiple : 3,9,12,15,18\n",
    "# 5 multiple : 5,10,15,20,25\n",
    "# common Multiple : 15\n",
    "# Smaller factor in common factor : 15\n",
    "# LCM of 3 and 5 is 15"
   ]
  },
  {
   "cell_type": "code",
   "execution_count": 8,
   "metadata": {},
   "outputs": [
    {
     "name": "stdout",
     "output_type": "stream",
     "text": [
      "Array : [ 8  9 10 11]\n",
      "GCD of arr : 3960\n"
     ]
    }
   ],
   "source": [
    "import numpy as np\n",
    "arr = np.arange(8,12)\n",
    "print(\"Array :\",arr)\n",
    "ans = np.lcm.reduce(arr)\n",
    "print(\"GCD of arr :\",ans)"
   ]
  },
  {
   "cell_type": "code",
   "execution_count": 8,
   "metadata": {},
   "outputs": [
    {
     "name": "stdout",
     "output_type": "stream",
     "text": [
      "Array : [1 2 3 4 5]\n",
      "New arr : [1 1 1 1]\n"
     ]
    }
   ],
   "source": [
    "# Discrete Difference\n",
    "# means the difference between two adjacent numbers\n",
    "# Example : [1,2,3,4]\n",
    "# [2-1,3-2,4,3] like these\n",
    "import numpy as np\n",
    "arr = np.array([1,2,3,4,5])\n",
    "print(\"Array :\",arr)\n",
    "new_arr = np.diff(arr)\n",
    "print(\"New arr :\",new_arr)\n",
    "# it has 2 parameters 1 takes array 2 takes number of discrete difference\n",
    "# [1,2,3,4] --> [1,1,1] --> [0,0] like these\n"
   ]
  },
  {
   "cell_type": "code",
   "execution_count": 9,
   "metadata": {},
   "outputs": [
    {
     "name": "stdout",
     "output_type": "stream",
     "text": [
      "Array : [1 2 3 4 5]\n",
      "New arr : [0 0 0]\n"
     ]
    }
   ],
   "source": [
    "import numpy as np\n",
    "arr = np.array([1,2,3,4,5])\n",
    "print(\"Array :\",arr)\n",
    "new_arr = np.diff(arr,n=2)\n",
    "print(\"New arr :\",new_arr)"
   ]
  },
  {
   "cell_type": "code",
   "execution_count": 11,
   "metadata": {},
   "outputs": [
    {
     "name": "stdout",
     "output_type": "stream",
     "text": [
      "Array : [[1 2]\n",
      " [3 4]\n",
      " [5 6]]\n",
      "New arr : [[1]\n",
      " [1]\n",
      " [1]]\n"
     ]
    }
   ],
   "source": [
    "import numpy as np\n",
    "arr = np.array([1,2,3,4,5,6]).reshape(3,2)\n",
    "print(\"Array :\",arr)\n",
    "new_arr = np.diff(arr,axis=1) #column (axis=1) column-column descrete difference\n",
    "print(\"New arr :\",new_arr)"
   ]
  },
  {
   "cell_type": "code",
   "execution_count": 13,
   "metadata": {},
   "outputs": [
    {
     "name": "stdout",
     "output_type": "stream",
     "text": [
      "Array : [[1 2]\n",
      " [3 4]\n",
      " [5 6]]\n",
      "New arr : [[2 2]\n",
      " [2 2]]\n"
     ]
    }
   ],
   "source": [
    "import numpy as np\n",
    "arr = np.array([1,2,3,4,5,6]).reshape(3,2)\n",
    "print(\"Array :\",arr)\n",
    "new_arr = np.diff(arr,n=1,axis=0)\n",
    "print(\"New arr :\",new_arr)"
   ]
  },
  {
   "cell_type": "code",
   "execution_count": null,
   "metadata": {},
   "outputs": [],
   "source": []
  }
 ],
 "metadata": {
  "kernelspec": {
   "display_name": "Python 3",
   "language": "python",
   "name": "python3"
  },
  "language_info": {
   "codemirror_mode": {
    "name": "ipython",
    "version": 3
   },
   "file_extension": ".py",
   "mimetype": "text/x-python",
   "name": "python",
   "nbconvert_exporter": "python",
   "pygments_lexer": "ipython3",
   "version": "3.11.9"
  }
 },
 "nbformat": 4,
 "nbformat_minor": 2
}
