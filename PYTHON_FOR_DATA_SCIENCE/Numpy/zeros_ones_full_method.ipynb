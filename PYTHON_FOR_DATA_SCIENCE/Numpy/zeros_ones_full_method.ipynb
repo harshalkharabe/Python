{
 "cells": [
  {
   "cell_type": "code",
   "execution_count": null,
   "id": "bd790c17-af37-448f-b440-1496c3a74ea9",
   "metadata": {},
   "outputs": [],
   "source": [
    "# zeros()\n",
    "#syntax : var_name = numpy.zeros(shape,dtype)"
   ]
  },
  {
   "cell_type": "code",
   "execution_count": 1,
   "id": "f3cb2af7-7ec3-43d9-8bf3-1102d11a2d98",
   "metadata": {},
   "outputs": [
    {
     "name": "stdout",
     "output_type": "stream",
     "text": [
      "Elements of arr : [[[0. 0.]\n",
      "  [0. 0.]]\n",
      "\n",
      " [[0. 0.]\n",
      "  [0. 0.]]]\n",
      "Type of arr : <class 'numpy.ndarray'>\n",
      "Datatype of arr : float64\n",
      "Size of arr : 8\n",
      "Shape of arr : (2, 2, 2)\n",
      "Dimension of arr : 3\n"
     ]
    }
   ],
   "source": [
    "import numpy as np \n",
    "arr = np.zeros((2,2,2))\n",
    "print(\"Elements of arr :\",arr)\n",
    "print(\"Type of arr :\",type(arr))\n",
    "print(\"Datatype of arr :\",arr.dtype)\n",
    "print(\"Size of arr :\",arr.size)\n",
    "print(\"Shape of arr :\",arr.shape)\n",
    "print(\"Dimension of arr :\",arr.ndim)"
   ]
  },
  {
   "cell_type": "code",
   "execution_count": 2,
   "id": "767cc0ed-e18a-4630-9a33-6a287a8d1deb",
   "metadata": {},
   "outputs": [
    {
     "name": "stdout",
     "output_type": "stream",
     "text": [
      "Elements of arr : [0 0 0 0 0 0 0 0]\n",
      "Type of arr : <class 'numpy.ndarray'>\n",
      "Datatype of arr : int32\n",
      "Size of arr : 8\n",
      "Shape of arr : (8,)\n",
      "Dimension of arr : 1\n"
     ]
    }
   ],
   "source": [
    "import numpy as np \n",
    "arr = np.zeros(8,dtype=int)\n",
    "print(\"Elements of arr :\",arr)\n",
    "print(\"Type of arr :\",type(arr))\n",
    "print(\"Datatype of arr :\",arr.dtype)\n",
    "print(\"Size of arr :\",arr.size)\n",
    "print(\"Shape of arr :\",arr.shape)\n",
    "print(\"Dimension of arr :\",arr.ndim)"
   ]
  },
  {
   "cell_type": "code",
   "execution_count": 3,
   "id": "efe160be-9d6e-4f63-b1ee-d013b074e315",
   "metadata": {},
   "outputs": [
    {
     "name": "stdout",
     "output_type": "stream",
     "text": [
      "Elements of arr : [[0 0 0]\n",
      " [0 0 0]\n",
      " [0 0 0]]\n",
      "Type of arr : <class 'numpy.ndarray'>\n",
      "Datatype of arr : int32\n",
      "Size of arr : 9\n",
      "Shape of arr : (3, 3)\n",
      "Dimension of arr : 2\n"
     ]
    }
   ],
   "source": [
    "import numpy as np \n",
    "arr = np.zeros(9,dtype=int).reshape(3,3)\n",
    "print(\"Elements of arr :\",arr)\n",
    "print(\"Type of arr :\",type(arr))\n",
    "print(\"Datatype of arr :\",arr.dtype)\n",
    "print(\"Size of arr :\",arr.size)\n",
    "print(\"Shape of arr :\",arr.shape)\n",
    "print(\"Dimension of arr :\",arr.ndim)"
   ]
  },
  {
   "cell_type": "code",
   "execution_count": null,
   "id": "20b09423-3f4f-4f37-b3d0-7984d78153b6",
   "metadata": {},
   "outputs": [],
   "source": []
  },
  {
   "cell_type": "code",
   "execution_count": 4,
   "id": "923c54b1-c693-4635-a77f-ef49b15756de",
   "metadata": {},
   "outputs": [
    {
     "name": "stdout",
     "output_type": "stream",
     "text": [
      "Elements of arr : [[[1. 1.]\n",
      "  [1. 1.]]\n",
      "\n",
      " [[1. 1.]\n",
      "  [1. 1.]]]\n",
      "Type of arr : <class 'numpy.ndarray'>\n",
      "Datatype of arr : float64\n",
      "Size of arr : 8\n",
      "Shape of arr : (2, 2, 2)\n",
      "Dimension of arr : 3\n"
     ]
    }
   ],
   "source": [
    "# onse()\n",
    "#syntax : var_name = numpy.ones(shape,dtype)\n",
    "import numpy as np \n",
    "arr = np.ones((2,2,2))\n",
    "print(\"Elements of arr :\",arr)\n",
    "print(\"Type of arr :\",type(arr))\n",
    "print(\"Datatype of arr :\",arr.dtype)\n",
    "print(\"Size of arr :\",arr.size)\n",
    "print(\"Shape of arr :\",arr.shape)\n",
    "print(\"Dimension of arr :\",arr.ndim)"
   ]
  },
  {
   "cell_type": "code",
   "execution_count": 5,
   "id": "029a73f5-de79-444c-9c69-a8f505d07e81",
   "metadata": {},
   "outputs": [
    {
     "name": "stdout",
     "output_type": "stream",
     "text": [
      "Elements of arr : [[1 1 1]\n",
      " [1 1 1]\n",
      " [1 1 1]]\n",
      "Type of arr : <class 'numpy.ndarray'>\n",
      "Datatype of arr : int32\n",
      "Size of arr : 9\n",
      "Shape of arr : (3, 3)\n",
      "Dimension of arr : 2\n"
     ]
    }
   ],
   "source": [
    "arr = np.ones(9,dtype=int).reshape(3,3)\n",
    "print(\"Elements of arr :\",arr)\n",
    "print(\"Type of arr :\",type(arr))\n",
    "print(\"Datatype of arr :\",arr.dtype)\n",
    "print(\"Size of arr :\",arr.size)\n",
    "print(\"Shape of arr :\",arr.shape)\n",
    "print(\"Dimension of arr :\",arr.ndim)"
   ]
  },
  {
   "cell_type": "code",
   "execution_count": 6,
   "id": "0d6c713e-e144-421c-8afd-0ab3bd917f8b",
   "metadata": {},
   "outputs": [
    {
     "name": "stdout",
     "output_type": "stream",
     "text": [
      "Elements of arr : [1. 1. 1. 1. 1. 1. 1. 1. 1.]\n",
      "Type of arr : <class 'numpy.ndarray'>\n",
      "Datatype of arr : float64\n",
      "Size of arr : 9\n",
      "Shape of arr : (9,)\n",
      "Dimension of arr : 1\n"
     ]
    }
   ],
   "source": [
    "arr = np.ones(9)\n",
    "print(\"Elements of arr :\",arr)\n",
    "print(\"Type of arr :\",type(arr))\n",
    "print(\"Datatype of arr :\",arr.dtype)\n",
    "print(\"Size of arr :\",arr.size)\n",
    "print(\"Shape of arr :\",arr.shape)\n",
    "print(\"Dimension of arr :\",arr.ndim)"
   ]
  },
  {
   "cell_type": "code",
   "execution_count": 7,
   "id": "529f7bad-cebd-4387-a418-dde8b51575cd",
   "metadata": {},
   "outputs": [
    {
     "name": "stdout",
     "output_type": "stream",
     "text": [
      "Elements of arr : [1 1 1 1 1 1 1 1 1]\n",
      "Type of arr : <class 'numpy.ndarray'>\n",
      "Datatype of arr : int32\n",
      "Size of arr : 9\n",
      "Shape of arr : (9,)\n",
      "Dimension of arr : 1\n"
     ]
    }
   ],
   "source": [
    "arr = np.ones(9,int)\n",
    "print(\"Elements of arr :\",arr)\n",
    "print(\"Type of arr :\",type(arr))\n",
    "print(\"Datatype of arr :\",arr.dtype)\n",
    "print(\"Size of arr :\",arr.size)\n",
    "print(\"Shape of arr :\",arr.shape)\n",
    "print(\"Dimension of arr :\",arr.ndim)"
   ]
  },
  {
   "cell_type": "code",
   "execution_count": null,
   "id": "b5873a30-5b4c-4e14-85e4-cdf33073a84a",
   "metadata": {},
   "outputs": [],
   "source": []
  },
  {
   "cell_type": "code",
   "execution_count": 8,
   "id": "ab06c072-963d-4b58-b6b4-7db3cfcc355e",
   "metadata": {},
   "outputs": [
    {
     "name": "stdout",
     "output_type": "stream",
     "text": [
      "Element of arr : [3 3 3 3]\n",
      "Type of arr : <class 'numpy.ndarray'>\n",
      "Datatype of arr : int32\n",
      "Shape of arr : (4,)\n",
      "Size of arr : 4\n",
      "Dimension of arr : 4\n"
     ]
    }
   ],
   "source": [
    "# full() method\n",
    "# syntax : var_name = numpy.full(shape,value,dtype)\n",
    "import numpy as np\n",
    "arr = np.full((4,),3)\n",
    "print(\"Element of arr :\",arr)\n",
    "print(\"Type of arr :\",type(arr))\n",
    "print(\"Datatype of arr :\",arr.dtype)\n",
    "print(\"Shape of arr :\",arr.shape)\n",
    "print(\"Size of arr :\",arr.size)\n",
    "print(\"Dimension of arr :\",arr.size)"
   ]
  },
  {
   "cell_type": "code",
   "execution_count": 9,
   "id": "eb88e558-5fc8-44a9-b4ae-f3d6c31a8111",
   "metadata": {},
   "outputs": [
    {
     "name": "stdout",
     "output_type": "stream",
     "text": [
      "Element of arr : [[3 3]\n",
      " [3 3]\n",
      " [3 3]\n",
      " [3 3]]\n",
      "Type of arr : <class 'numpy.ndarray'>\n",
      "Datatype of arr : int32\n",
      "Shape of arr : (4, 2)\n",
      "Size of arr : 8\n",
      "Dimension of arr : 2\n"
     ]
    }
   ],
   "source": [
    "arr = np.full((4,2),3)\n",
    "print(\"Element of arr :\",arr)\n",
    "print(\"Type of arr :\",type(arr))\n",
    "print(\"Datatype of arr :\",arr.dtype)\n",
    "print(\"Shape of arr :\",arr.shape)\n",
    "print(\"Size of arr :\",arr.size)\n",
    "print(\"Dimension of arr :\",arr.ndim)"
   ]
  },
  {
   "cell_type": "code",
   "execution_count": null,
   "id": "2fd2d3b7-d2f0-46bd-9f0b-ee0990077a1c",
   "metadata": {},
   "outputs": [],
   "source": []
  }
 ],
 "metadata": {
  "kernelspec": {
   "display_name": "Python 3",
   "language": "python",
   "name": "python3"
  },
  "language_info": {
   "codemirror_mode": {
    "name": "ipython",
    "version": 3
   },
   "file_extension": ".py",
   "mimetype": "text/x-python",
   "name": "python",
   "nbconvert_exporter": "python",
   "pygments_lexer": "ipython3",
   "version": "3.11.9"
  }
 },
 "nbformat": 4,
 "nbformat_minor": 5
}
