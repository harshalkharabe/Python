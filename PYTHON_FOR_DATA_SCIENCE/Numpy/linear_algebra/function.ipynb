{
 "cells": [
  {
   "cell_type": "code",
   "execution_count": 1,
   "metadata": {},
   "outputs": [
    {
     "name": "stdout",
     "output_type": "stream",
     "text": [
      "Hello linear algebra!\n"
     ]
    }
   ],
   "source": [
    "# linear algebra\n",
    "import numpy as np\n",
    "import numpy.linalg as al\n",
    "print(\"Hello linear Algebra!\")"
   ]
  },
  {
   "cell_type": "code",
   "execution_count": 2,
   "metadata": {},
   "outputs": [
    {
     "name": "stdout",
     "output_type": "stream",
     "text": [
      "10\n"
     ]
    }
   ],
   "source": [
    "# dot() product \n",
    "arr1 = np.array([1,2,3])\n",
    "arr2 = np.array([3,2,1])\n",
    "arr3 = np.dot(arr1,arr2)\n",
    "print(arr3)  # Output: 14"
   ]
  },
  {
   "cell_type": "code",
   "execution_count": 6,
   "metadata": {},
   "outputs": [
    {
     "name": "stdout",
     "output_type": "stream",
     "text": [
      "[[11  3]\n",
      " [ 5  6]] [[ 3  4]\n",
      " [ 9 21]]\n",
      "[[ 45 162]\n",
      " [ 39 171]]\n"
     ]
    }
   ],
   "source": [
    "# inner() inner product of matrix \n",
    "# calculate row with row (arr1 1 row with arr2 1 row)\n",
    "arr1 = np.array([11,3,5,6]).reshape(2,2)\n",
    "arr2 = np.array([3,4,9,21]).reshape(2,2)\n",
    "arr3 = np.inner(arr1,arr2)\n",
    "print(arr1,arr2)\n",
    "print(arr3)"
   ]
  },
  {
   "cell_type": "code",
   "execution_count": 8,
   "metadata": {},
   "outputs": [
    {
     "name": "stdout",
     "output_type": "stream",
     "text": [
      "[[11  3]\n",
      " [ 5  2]\n",
      " [ 5  6]] [[ 3  4]\n",
      " [ 9 21]\n",
      " [ 8  9]]\n",
      "[[ 45 162 115]\n",
      " [ 23  87  58]\n",
      " [ 39 171  94]]\n"
     ]
    }
   ],
   "source": [
    "# inner() inner product of matrix \n",
    "# inner product of 1D and dot product of !D is same\n",
    "# calculate row with row (arr1 1 row with arr2 1 row)\n",
    "arr1 = np.array([11,3,5,2,5,6]).reshape(3,2)\n",
    "arr2 = np.array([3,4,9,21,8,9]).reshape(3,2)\n",
    "arr3 = np.inner(arr1,arr2)\n",
    "print(arr1,arr2)\n",
    "print(arr3)"
   ]
  },
  {
   "cell_type": "code",
   "execution_count": 10,
   "metadata": {},
   "outputs": [
    {
     "name": "stdout",
     "output_type": "stream",
     "text": [
      "[11  3  5  6] [ 3  4  9 21]\n",
      "Inner od 1D : 216\n"
     ]
    }
   ],
   "source": [
    "# inner() inner product of matrix \n",
    "# inner product of 1D and dot product of !D is same\n",
    "# calculate row with row (arr1 1 row with arr2 1 row)\n",
    "arr1 = np.array([11,3,5,6])\n",
    "arr2 = np.array([3,4,9,21])\n",
    "arr3 = np.inner(arr1,arr2)\n",
    "print(arr1,arr2)\n",
    "print(\"Inner od 1D :\",arr3)"
   ]
  },
  {
   "cell_type": "code",
   "execution_count": 11,
   "metadata": {},
   "outputs": [
    {
     "name": "stdout",
     "output_type": "stream",
     "text": [
      "[11  3  5  6] [ 3  4  9 21]\n",
      "[[ 33  44  99 231]\n",
      " [  9  12  27  63]\n",
      " [ 15  20  45 105]\n",
      " [ 18  24  54 126]]\n"
     ]
    }
   ],
   "source": [
    "# outer() outer product of matrix \n",
    "# multipy each element of arr1 with each element of arr2\n",
    "arr1 = np.array([11,3,5,6])\n",
    "arr2 = np.array([3,4,9,21])\n",
    "arr3 = np.outer(arr1,arr2)\n",
    "print(arr1,arr2)\n",
    "print(arr3)"
   ]
  },
  {
   "cell_type": "code",
   "execution_count": 12,
   "metadata": {},
   "outputs": [
    {
     "name": "stdout",
     "output_type": "stream",
     "text": [
      "[[11  3]\n",
      " [ 5  6]] [[ 3  4]\n",
      " [ 9 21]]\n",
      "[[ 33  44  99 231]\n",
      " [  9  12  27  63]\n",
      " [ 15  20  45 105]\n",
      " [ 18  24  54 126]]\n"
     ]
    }
   ],
   "source": [
    "# outer() outer product of matrix \n",
    "# multipy each element of arr1 with each element of arr2\n",
    "arr1 = np.array([11,3,5,6]).reshape(2,2)\n",
    "arr2 = np.array([3,4,9,21]).reshape(2,2)\n",
    "arr3 = np.outer(arr1,arr2)\n",
    "print(arr1,arr2)\n",
    "print(arr3)"
   ]
  },
  {
   "cell_type": "code",
   "execution_count": 19,
   "metadata": {},
   "outputs": [
    {
     "name": "stdout",
     "output_type": "stream",
     "text": [
      "[[1 3]\n",
      " [5 9]]\n",
      "Determinant : -6.0\n"
     ]
    }
   ],
   "source": [
    "# det()\n",
    "# finding determinent\n",
    "arr = np.array([1,3,5,9]).reshape(2,2)\n",
    "D = np.linalg.det(arr)\n",
    "print(arr)\n",
    "print(\"Determinant :\",D)"
   ]
  },
  {
   "cell_type": "code",
   "execution_count": 20,
   "metadata": {},
   "outputs": [
    {
     "name": "stdout",
     "output_type": "stream",
     "text": [
      "[[1 3 5]\n",
      " [9 2 3]\n",
      " [4 5 6]]\n",
      "Determinant : 56.00000000000002\n"
     ]
    }
   ],
   "source": [
    "# det()\n",
    "# finding determinent\n",
    "arr = np.array([1,3,5,9,2,3,4,5,6]).reshape(3,3)\n",
    "D = np.linalg.det(arr)\n",
    "print(arr)\n",
    "print(\"Determinant :\",D)"
   ]
  },
  {
   "cell_type": "code",
   "execution_count": 21,
   "metadata": {},
   "outputs": [
    {
     "name": "stdout",
     "output_type": "stream",
     "text": [
      "[[2 3]\n",
      " [5 6]] [4 4]\n",
      "[-4.  4.]\n"
     ]
    }
   ],
   "source": [
    "# solve()\n",
    "# used to solve linear equations\n",
    "# 2x+3y=4 and 5x+6y=4 \n",
    "arr1 = np.array([[2,3],[5,6]])\n",
    "arr2 = np.array([4,4])\n",
    "arr3 = np.linalg.solve(arr1,arr2)\n",
    "print(arr1,arr2)\n",
    "print(arr3) "
   ]
  },
  {
   "cell_type": "code",
   "execution_count": 23,
   "metadata": {},
   "outputs": [
    {
     "name": "stdout",
     "output_type": "stream",
     "text": [
      "[[ 2  3  1]\n",
      " [ 5  6 -1]\n",
      " [ 1  2  3]] [4 4 4]\n",
      "[-4.00000000e+00  4.00000000e+00 -8.43769499e-16]\n"
     ]
    }
   ],
   "source": [
    "# solve()\n",
    "# used to solve linear equations\n",
    "# 2x+3y+z=4 and 5x+6y-z=4 \n",
    "arr1 = np.array([[2,3,1],[5,6,-1],[1,2,3]])\n",
    "arr2 = np.array([4,4,4])\n",
    "arr3 = np.linalg.solve(arr1,arr2)\n",
    "print(arr1,arr2)\n",
    "print(arr3) "
   ]
  },
  {
   "cell_type": "code",
   "execution_count": 28,
   "metadata": {},
   "outputs": [
    {
     "name": "stdout",
     "output_type": "stream",
     "text": [
      "Original : [[2 3]\n",
      " [6 1]]\n",
      "Inverse : [[-0.0625  0.1875]\n",
      " [ 0.375  -0.125 ]]\n"
     ]
    }
   ],
   "source": [
    "# inv()\n",
    "# 2x+3y=4 and 5x+6y=4 \n",
    "arr1 = np.array([[2,3],[6,1]])\n",
    "arr3 = np.linalg.inv(arr1)\n",
    "print(\"Original :\",arr1)\n",
    "print(\"Inverse :\",arr3) "
   ]
  },
  {
   "cell_type": "code",
   "execution_count": 29,
   "metadata": {},
   "outputs": [
    {
     "name": "stdout",
     "output_type": "stream",
     "text": [
      "Original : [[2 3]\n",
      " [2 2]]\n",
      "Inverse : [[-1.   1.5]\n",
      " [ 1.  -1. ]]\n"
     ]
    }
   ],
   "source": [
    "# inv()\n",
    "arr1 = np.array([[2,3],[2,2]])\n",
    "arr3 = np.linalg.inv(arr1)\n",
    "print(\"Original :\",arr1)\n",
    "print(\"Inverse :\",arr3) "
   ]
  },
  {
   "cell_type": "code",
   "execution_count": 30,
   "metadata": {},
   "outputs": [
    {
     "name": "stdout",
     "output_type": "stream",
     "text": [
      "[[2 3]\n",
      " [5 6]] [4 4]\n",
      "[-1.33333333  1.33333333]\n"
     ]
    }
   ],
   "source": [
    "# solve()\n",
    "# used to solve linear equations\n",
    "# 2x+3y=4 and 5x+6y=4 \n",
    "arr1 = np.array([[2,3],[5,6]])\n",
    "arr2 = np.array([4,4])\n",
    "arr3 = np.dot(arr2,np.linalg.inv(arr1))\n",
    "print(arr1,arr2)\n",
    "print(arr3) "
   ]
  },
  {
   "cell_type": "code",
   "execution_count": 35,
   "metadata": {},
   "outputs": [
    {
     "name": "stdout",
     "output_type": "stream",
     "text": [
      "Original array is:  [[12 21]\n",
      " [ 9  6]]\n",
      "18\n"
     ]
    }
   ],
   "source": [
    "# trace() used to give sum of diagonal elements\n",
    "arr1 = np.array([12,21,9,6]).reshape(2,2)\n",
    "print(\"Original array is: \", arr1)\n",
    "print(np.trace(arr1))"
   ]
  },
  {
   "cell_type": "code",
   "execution_count": 37,
   "metadata": {},
   "outputs": [
    {
     "name": "stdout",
     "output_type": "stream",
     "text": [
      "Original array is:  [[12 21  9]\n",
      " [ 6 45 46]\n",
      " [ 5 56  4]]\n",
      "61\n"
     ]
    }
   ],
   "source": [
    "# trace() used to give sum of diagonal elements\n",
    "arr1 = np.array([12,21,9,6,45,46,5,56,4]).reshape(3,3)\n",
    "print(\"Original array is: \", arr1)\n",
    "print(np.trace(arr1))"
   ]
  },
  {
   "cell_type": "code",
   "execution_count": null,
   "metadata": {},
   "outputs": [],
   "source": []
  }
 ],
 "metadata": {
  "kernelspec": {
   "display_name": "Python 3",
   "language": "python",
   "name": "python3"
  },
  "language_info": {
   "codemirror_mode": {
    "name": "ipython",
    "version": 3
   },
   "file_extension": ".py",
   "mimetype": "text/x-python",
   "name": "python",
   "nbconvert_exporter": "python",
   "pygments_lexer": "ipython3",
   "version": "3.11.9"
  }
 },
 "nbformat": 4,
 "nbformat_minor": 2
}
