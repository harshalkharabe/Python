{
 "cells": [
  {
   "cell_type": "code",
   "execution_count": 1,
   "id": "6d2afbf5-a00a-4f28-b428-825b2b6ba468",
   "metadata": {},
   "outputs": [
    {
     "name": "stdout",
     "output_type": "stream",
     "text": [
      "Hello, Python\n"
     ]
    }
   ],
   "source": [
    "print(\"Hello, Python\")"
   ]
  },
  {
   "cell_type": "code",
   "execution_count": 5,
   "id": "d8f70b38-f544-4d84-9b71-d44138980932",
   "metadata": {},
   "outputs": [
    {
     "name": "stdout",
     "output_type": "stream",
     "text": [
      "Elements in list :  [1011, 'Harshal', 23.45, (2+3j)]\n",
      "Type of lst : <class 'list'>\n",
      "Size of lst in bytes: 200 <class 'int'>\n",
      "Size of arr in bytes: 180 <class 'numpy.ndarray'>\n"
     ]
    }
   ],
   "source": [
    "lst = [1011,\"Harshal\",23.45,2+3j]\n",
    "print(\"Elements in list : \",lst)\n",
    "print(\"Type of lst :\",type(lst))\n",
    "\n",
    "import numpy as np\n",
    "import sys\n",
    "lst = [1,23,32,345,45,45,454,564,2342,1,23,32,345,45,45,454,5642342]\n",
    "s = sys.getsizeof(lst)\n",
    "print(\"Size of lst in bytes:\",s,type(s))\n",
    "arr = np.array(lst)\n",
    "print(\"Size of arr in bytes:\",sys.getsizeof(arr),type(arr))"
   ]
  },
  {
   "cell_type": "code",
   "execution_count": 2,
   "id": "b5350b97-ad15-41e8-86a9-02b2ceba566d",
   "metadata": {},
   "outputs": [],
   "source": [
    "import numpy as np"
   ]
  },
  {
   "cell_type": "code",
   "execution_count": 5,
   "id": "421180b0-dc5e-49a0-97f0-2f687cef09c4",
   "metadata": {},
   "outputs": [
    {
     "name": "stdout",
     "output_type": "stream",
     "text": [
      "Elements in arr : ['1011' 'Harshal' '23.45' '(2+3j)']\n",
      "Type of arr : <class 'numpy.ndarray'>\n",
      "Shape of arr : (4,)\n",
      "Size of arr : 4\n",
      "Dimension of arr : 1\n",
      "Type : <U64\n"
     ]
    }
   ],
   "source": [
    "arr = np.array(lst)\n",
    "print(\"Elements in arr :\",arr)\n",
    "print(\"Type of arr :\",type(arr))\n",
    "print(\"Shape of arr :\",arr.shape)\n",
    "print(\"Size of arr :\",arr.size)\n",
    "print(\"Dimension of arr :\",arr.ndim)\n",
    "print(\"Type :\",arr.dtype)"
   ]
  },
  {
   "cell_type": "code",
   "execution_count": 6,
   "id": "070c37a8-223b-48d6-bce8-6cc76111148d",
   "metadata": {},
   "outputs": [
    {
     "name": "stdout",
     "output_type": "stream",
     "text": [
      "Type : <U4\n",
      "Type : <U7\n",
      "Type : <U5\n",
      "Type : <U6\n"
     ]
    }
   ],
   "source": [
    "for val in arr:\n",
    "    print(\"Type :\",val.dtype)"
   ]
  },
  {
   "cell_type": "code",
   "execution_count": 33,
   "id": "dbf99a26-028e-406f-9719-d6fdae35a452",
   "metadata": {},
   "outputs": [
    {
     "name": "stdout",
     "output_type": "stream",
     "text": [
      "Elements in arr : [1011 'Harshal' 23.45 (2+3j)]\n",
      "Type of arr : <class 'numpy.ndarray'>\n",
      "Shape of arr : (4,)\n",
      "Size of arr : 4\n",
      "Dimension of arr : 1\n",
      "Type : object\n"
     ]
    }
   ],
   "source": [
    "arr = np.array(lst,dtype=object)\n",
    "print(\"Elements in arr :\",arr)\n",
    "print(\"Type of arr :\",type(arr))\n",
    "print(\"Shape of arr :\",arr.shape)\n",
    "print(\"Size of arr :\",arr.size)\n",
    "print(\"Dimension of arr :\",arr.ndim)\n",
    "print(\"Type :\",arr.dtype)"
   ]
  },
  {
   "cell_type": "code",
   "execution_count": 37,
   "id": "f38ce8f0-0360-4cf4-9f8f-be0d7692439c",
   "metadata": {},
   "outputs": [
    {
     "name": "stdout",
     "output_type": "stream",
     "text": [
      "Type : <class 'int'>\n",
      "Type : <class 'str'>\n",
      "Type : <class 'float'>\n",
      "Type : <class 'complex'>\n"
     ]
    }
   ],
   "source": [
    "for val in arr:\n",
    "    print(\"Type :\",type(val))"
   ]
  },
  {
   "cell_type": "code",
   "execution_count": 39,
   "id": "c8383360-47ab-4ded-a197-9128e726a35f",
   "metadata": {},
   "outputs": [
    {
     "data": {
      "text/plain": [
       "array([[1011, 'Harshal'],\n",
       "       [23.45, (2+3j)]], dtype=object)"
      ]
     },
     "execution_count": 39,
     "metadata": {},
     "output_type": "execute_result"
    }
   ],
   "source": [
    "arr.reshape(2,2)"
   ]
  },
  {
   "cell_type": "code",
   "execution_count": 45,
   "id": "e7105df5-8606-4c46-aeea-86fcc806569d",
   "metadata": {},
   "outputs": [
    {
     "name": "stdout",
     "output_type": "stream",
     "text": [
      "[[1011 'Harshal']\n",
      " [23.45 (2+3j)]]\n"
     ]
    }
   ],
   "source": [
    "arr = arr.reshape(2,2)\n",
    "print(arr)"
   ]
  },
  {
   "cell_type": "code",
   "execution_count": 47,
   "id": "ad395bed-f769-45a5-8c71-0d24a5943204",
   "metadata": {},
   "outputs": [
    {
     "name": "stdout",
     "output_type": "stream",
     "text": [
      "Elements in arr : [[1011 'Harshal']\n",
      " [23.45 (2+3j)]]\n",
      "Type of arr : <class 'numpy.ndarray'>\n",
      "Shape of arr : (2, 2)\n",
      "Size of arr : 4\n",
      "Dimension of arr : 2\n",
      "Type : object\n"
     ]
    }
   ],
   "source": [
    "print(\"Elements in arr :\",arr)\n",
    "print(\"Type of arr :\",type(arr))\n",
    "print(\"Shape of arr :\",arr.shape)\n",
    "print(\"Size of arr :\",arr.size)\n",
    "print(\"Dimension of arr :\",arr.ndim)\n",
    "print(\"Type :\",arr.dtype)"
   ]
  },
  {
   "cell_type": "code",
   "execution_count": 51,
   "id": "974a5978-04bf-4e23-b962-046d94682067",
   "metadata": {},
   "outputs": [
    {
     "name": "stdout",
     "output_type": "stream",
     "text": [
      "Element of set : {50, 20, 40, 10, 60, 30}\n",
      "Type of s: <class 'set'>\n"
     ]
    }
   ],
   "source": [
    "s = {10,20,30,40,50,60}\n",
    "print(\"Element of set :\",s)\n",
    "print(\"Type of s:\",type(s))"
   ]
  },
  {
   "cell_type": "code",
   "execution_count": 59,
   "id": "28a3c9d9-64e7-4969-80b8-7f41c5bd7143",
   "metadata": {},
   "outputs": [
    {
     "name": "stdout",
     "output_type": "stream",
     "text": [
      "Element of arr : {50, 20, 40, 10, 60, 30}\n",
      "Type of arr : object\n",
      "Type of arr : <class 'numpy.ndarray'>\n",
      "Dimension of arr : 0\n",
      "Size of arr: 1\n",
      "Shape of arr : ()\n"
     ]
    }
   ],
   "source": [
    "arr = np.array(s)\n",
    "print(\"Element of arr :\",arr)\n",
    "print(\"Type of arr :\",arr.dtype)\n",
    "print(\"Type of arr :\",type(arr))\n",
    "print(\"Dimension of arr :\",arr.ndim)\n",
    "print(\"Size of arr:\",arr.size)\n",
    "print(\"Shape of arr :\",arr.shape)"
   ]
  },
  {
   "cell_type": "code",
   "execution_count": 7,
   "id": "69a7ed44-2d49-4319-88f9-4bdece14bb1e",
   "metadata": {},
   "outputs": [
    {
     "name": "stdout",
     "output_type": "stream",
     "text": [
      "Element of dictionary : {1: 1.1, 2: 2.2, 3: 3.3}\n",
      "type of dictionary : <class 'dict'>\n"
     ]
    }
   ],
   "source": [
    "dic = {1:1.1,2:2.2,3:3.3}\n",
    "print(\"Element of dictionary :\",dic)\n",
    "print(\"type of dictionary :\",type(dic))"
   ]
  },
  {
   "cell_type": "code",
   "execution_count": 8,
   "id": "d5883752-a00a-4bb9-aec2-5b310108d620",
   "metadata": {},
   "outputs": [
    {
     "name": "stdout",
     "output_type": "stream",
     "text": [
      "Elements of arr : {1: 1.1, 2: 2.2, 3: 3.3}\n",
      "Type of arr : object\n",
      "Type of arr : <class 'numpy.ndarray'>\n",
      "Dimension of arr : 0\n",
      "Size of arr : 1\n",
      "Shape of arr : ()\n"
     ]
    }
   ],
   "source": [
    "arr = np.array(dic)\n",
    "print(\"Elements of arr :\",arr)\n",
    "print(\"Type of arr :\",arr.dtype)\n",
    "print(\"Type of arr :\",type(arr))\n",
    "print(\"Dimension of arr :\",arr.ndim)\n",
    "print(\"Size of arr :\",arr.size)\n",
    "print(\"Shape of arr :\",arr.shape)"
   ]
  },
  {
   "cell_type": "code",
   "execution_count": null,
   "id": "28167186-a8e8-4ed5-9955-2927d46c96f8",
   "metadata": {},
   "outputs": [],
   "source": []
  }
 ],
 "metadata": {
  "kernelspec": {
   "display_name": "Python 3",
   "language": "python",
   "name": "python3"
  },
  "language_info": {
   "codemirror_mode": {
    "name": "ipython",
    "version": 3
   },
   "file_extension": ".py",
   "mimetype": "text/x-python",
   "name": "python",
   "nbconvert_exporter": "python",
   "pygments_lexer": "ipython3",
   "version": "3.11.9"
  }
 },
 "nbformat": 4,
 "nbformat_minor": 5
}
