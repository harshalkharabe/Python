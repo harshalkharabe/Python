{
 "cells": [
  {
   "cell_type": "code",
   "execution_count": null,
   "metadata": {},
   "outputs": [],
   "source": [
    "# split methods\n",
    "# spliting arr using numpy methods"
   ]
  },
  {
   "cell_type": "code",
   "execution_count": 6,
   "metadata": {},
   "outputs": [
    {
     "name": "stdout",
     "output_type": "stream",
     "text": [
      "original arr : [21 34 54 67 78 89 90  9 12]\n",
      "spliting arr : [array([21, 34, 54]), array([67, 78, 89]), array([90,  9, 12])]\n"
     ]
    }
   ],
   "source": [
    "import numpy as np\n",
    "# split() only divide into equal parts\n",
    "arr = np.array([21,34,54,67,78,89,90,9,12])\n",
    "print(\"original arr :\",arr)\n",
    "print(\"spliting arr :\",np.split(arr,3))"
   ]
  },
  {
   "cell_type": "code",
   "execution_count": 8,
   "metadata": {},
   "outputs": [
    {
     "name": "stdout",
     "output_type": "stream",
     "text": [
      "original arr : [21 34 54 67 78 89 90  9 12 33]\n",
      "spliting arr : [array([21, 34]), array([54, 67]), array([78, 89]), array([90,  9]), array([12, 33])]\n"
     ]
    }
   ],
   "source": [
    "import numpy as np\n",
    "arr = np.array([21,34,54,67,78,89,90,9,12,33])\n",
    "print(\"original arr :\",arr)\n",
    "print(\"spliting arr :\",np.split(arr,5))"
   ]
  },
  {
   "cell_type": "code",
   "execution_count": 10,
   "metadata": {},
   "outputs": [
    {
     "name": "stdout",
     "output_type": "stream",
     "text": [
      "original arr : [21 34 54 67 78 89 90  9 12]\n",
      "spliting arr : [array([21, 34, 54]), array([67, 78]), array([89, 90]), array([ 9, 12])]\n"
     ]
    }
   ],
   "source": [
    "import numpy as np\n",
    "# array_split() used to split in both equal and unequal parts\n",
    "arr = np.array([21,34,54,67,78,89,90,9,12])\n",
    "print(\"original arr :\",arr)\n",
    "print(\"spliting arr :\",np.array_split(arr,4))"
   ]
  },
  {
   "cell_type": "code",
   "execution_count": 11,
   "metadata": {},
   "outputs": [
    {
     "name": "stdout",
     "output_type": "stream",
     "text": [
      "original arr : [[21 34 54]\n",
      " [67 78 89]\n",
      " [90  9 12]]\n",
      "spliting arr : [array([[21, 34, 54]]), array([[67, 78, 89]]), array([[90,  9, 12]])]\n"
     ]
    }
   ],
   "source": [
    "import numpy as np\n",
    "arr = np.array([21,34,54,67,78,89,90,9,12]).reshape(3,3)\n",
    "print(\"original arr :\",arr)\n",
    "print(\"spliting arr :\",np.split(arr,3,axis=0))"
   ]
  },
  {
   "cell_type": "code",
   "execution_count": 14,
   "metadata": {},
   "outputs": [
    {
     "name": "stdout",
     "output_type": "stream",
     "text": [
      "original arr : [[21 34]\n",
      " [54 67]\n",
      " [78 89]\n",
      " [90  9]\n",
      " [12 18]]\n",
      "spliting arr : [array([[21],\n",
      "       [54],\n",
      "       [78],\n",
      "       [90],\n",
      "       [12]]), array([[34],\n",
      "       [67],\n",
      "       [89],\n",
      "       [ 9],\n",
      "       [18]])]\n"
     ]
    }
   ],
   "source": [
    "import numpy as np\n",
    "arr = np.array([21,34,54,67,78,89,90,9,12,18]).reshape(5,2)\n",
    "print(\"original arr :\",arr)\n",
    "print(\"spliting arr :\",np.split(arr,2,axis=1))"
   ]
  },
  {
   "cell_type": "code",
   "execution_count": 18,
   "metadata": {},
   "outputs": [
    {
     "name": "stdout",
     "output_type": "stream",
     "text": [
      "original arr : [[21 34 54]\n",
      " [67 78 89]\n",
      " [90  9 12]]\n",
      "spliting arr : [array([[21],\n",
      "       [67],\n",
      "       [90]]), array([[34],\n",
      "       [78],\n",
      "       [ 9]]), array([[54],\n",
      "       [89],\n",
      "       [12]])]\n"
     ]
    }
   ],
   "source": [
    "import numpy as np\n",
    "arr = np.array([21,34,54,67,78,89,90,9,12]).reshape(3,3)\n",
    "print(\"original arr :\",arr)\n",
    "print(\"spliting arr :\",np.hsplit(arr,3))"
   ]
  },
  {
   "cell_type": "code",
   "execution_count": 17,
   "metadata": {},
   "outputs": [
    {
     "name": "stdout",
     "output_type": "stream",
     "text": [
      "original arr : [[21 34 54]\n",
      " [67 78 89]\n",
      " [90  9 12]]\n",
      "spliting arr : [array([[21, 34, 54]]), array([[67, 78, 89]]), array([[90,  9, 12]])]\n"
     ]
    }
   ],
   "source": [
    "import numpy as np\n",
    "arr = np.array([21,34,54,67,78,89,90,9,12]).reshape(3,3)\n",
    "print(\"original arr :\",arr)\n",
    "print(\"spliting arr :\",np.vsplit(arr,3))"
   ]
  },
  {
   "cell_type": "code",
   "execution_count": 34,
   "metadata": {},
   "outputs": [
    {
     "name": "stdout",
     "output_type": "stream",
     "text": [
      "Array : [[ 0  1  2  3]\n",
      " [ 4  5  6  7]\n",
      " [ 8  9 10 11]\n",
      " [12 13 14 15]]\n",
      "Advance slicing : [ 0  5 10 15]\n"
     ]
    }
   ],
   "source": [
    "# diagolan element\n",
    "# diag() without\n",
    "\n",
    "arr = np.arange(16).reshape(4,4)\n",
    "print(\"Array :\",arr)\n",
    "print(\"Advance slicing :\",arr[(0,1,2,3),(0,1,2,3)]) #Advance Slicing"
   ]
  },
  {
   "cell_type": "code",
   "execution_count": 35,
   "metadata": {},
   "outputs": [
    {
     "name": "stdout",
     "output_type": "stream",
     "text": [
      "Array : [[ 0  1  2  3]\n",
      " [ 4  5  6  7]\n",
      " [ 8  9 10 11]\n",
      " [12 13 14 15]]\n",
      "Advance slicing : [ 0  5 10 15]\n"
     ]
    }
   ],
   "source": [
    "# diagolan element\n",
    "# diag()\n",
    "\n",
    "arr = np.arange(16).reshape(4,4)\n",
    "print(\"Array :\",arr)\n",
    "print(\"Advance slicing :\",np.diag(arr)) #Advance Slicing"
   ]
  },
  {
   "cell_type": "code",
   "execution_count": 40,
   "metadata": {},
   "outputs": [
    {
     "name": "stdout",
     "output_type": "stream",
     "text": [
      "Array : [[ 0  1  2  3]\n",
      " [ 4  5  6  7]\n",
      " [ 8  9 10 11]\n",
      " [12 13 14 15]]\n",
      "Transpose Matrix using T attribute: [[ 0  4  8 12]\n",
      " [ 1  5  9 13]\n",
      " [ 2  6 10 14]\n",
      " [ 3  7 11 15]]\n",
      "Transpose Matrix using transpose attribute: [[ 0  4  8 12]\n",
      " [ 1  5  9 13]\n",
      " [ 2  6 10 14]\n",
      " [ 3  7 11 15]]\n"
     ]
    }
   ],
   "source": [
    "# tranpose matrix\n",
    "\n",
    "arr = np.arange(16).reshape(4,4)\n",
    "print(\"Array :\",arr)\n",
    "print(\"Transpose Matrix using T attribute:\",arr.T)\n",
    "print(\"Transpose Matrix using transpose attribute:\",np.transpose(arr))"
   ]
  },
  {
   "cell_type": "code",
   "execution_count": 41,
   "metadata": {},
   "outputs": [
    {
     "name": "stdout",
     "output_type": "stream",
     "text": [
      "Array : [[0 1]\n",
      " [2 3]\n",
      " [4 5]\n",
      " [6 7]]\n",
      "Transpose Matrix using T atttribute: [[0 2 4 6]\n",
      " [1 3 5 7]]\n",
      "Transpose Matrix using transpose method: [[0 2 4 6]\n",
      " [1 3 5 7]]\n"
     ]
    }
   ],
   "source": [
    "# tranpose matrix\n",
    "\n",
    "arr = np.arange(8).reshape(4,2)\n",
    "print(\"Array :\",arr)\n",
    "print(\"Transpose Matrix using T atttribute:\",arr.T)\n",
    "print(\"Transpose Matrix using transpose method:\",arr.T)"
   ]
  },
  {
   "cell_type": "code",
   "execution_count": null,
   "metadata": {},
   "outputs": [],
   "source": []
  }
 ],
 "metadata": {
  "kernelspec": {
   "display_name": "Python 3",
   "language": "python",
   "name": "python3"
  },
  "language_info": {
   "codemirror_mode": {
    "name": "ipython",
    "version": 3
   },
   "file_extension": ".py",
   "mimetype": "text/x-python",
   "name": "python",
   "nbconvert_exporter": "python",
   "pygments_lexer": "ipython3",
   "version": "3.11.9"
  }
 },
 "nbformat": 4,
 "nbformat_minor": 2
}
