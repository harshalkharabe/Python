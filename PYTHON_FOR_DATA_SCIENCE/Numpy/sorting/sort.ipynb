{
 "cells": [
  {
   "cell_type": "code",
   "execution_count": 2,
   "metadata": {},
   "outputs": [],
   "source": [
    "import numpy as np"
   ]
  },
  {
   "cell_type": "code",
   "execution_count": 3,
   "metadata": {},
   "outputs": [
    {
     "name": "stdout",
     "output_type": "stream",
     "text": [
      "Original : [ 23   4  34  34   3 435   3  55   4]\n",
      "sorted : [  3   3   4   4  23  34  34  55 435]\n"
     ]
    }
   ],
   "source": [
    "arr = np.array([23,4,34,34,3,435,3,55,4])\n",
    "print(\"Original :\",arr)\n",
    "arr = np.sort(arr)\n",
    "print(\"sorted :\",arr)"
   ]
  },
  {
   "cell_type": "code",
   "execution_count": 7,
   "metadata": {},
   "outputs": [
    {
     "name": "stdout",
     "output_type": "stream",
     "text": [
      "Original : [ 23   4  34  34   3 435   3  55   4]\n",
      "Sorted in decsending order : [435  55  34  34  23   4   4   3   3]\n"
     ]
    }
   ],
   "source": [
    "arr = np.array([23,4,34,34,3,435,3,55,4])\n",
    "print(\"Original :\",arr)\n",
    "arr = np.sort(arr)[::-1]\n",
    "print(\"Sorted in decsending order :\",arr)"
   ]
  },
  {
   "cell_type": "code",
   "execution_count": 8,
   "metadata": {},
   "outputs": [
    {
     "name": "stdout",
     "output_type": "stream",
     "text": [
      "Original : [[ 23   4  34]\n",
      " [ 34   3 435]\n",
      " [  3  55   4]]\n",
      "sorted : [[  4  23  34]\n",
      " [  3  34 435]\n",
      " [  3   4  55]]\n"
     ]
    }
   ],
   "source": [
    "arr = np.array([23,4,34,34,3,435,3,55,4]).reshape(3,3)\n",
    "print(\"Original :\",arr)\n",
    "arr = np.sort(arr)\n",
    "print(\"sorted :\",arr) # by befault sort by row wise"
   ]
  },
  {
   "cell_type": "code",
   "execution_count": 9,
   "metadata": {},
   "outputs": [
    {
     "name": "stdout",
     "output_type": "stream",
     "text": [
      "Original : [[ 23   4  34]\n",
      " [ 34   3 435]\n",
      " [  3  55   4]]\n",
      "sorted : [[  4  23  34]\n",
      " [  3  34 435]\n",
      " [  3   4  55]]\n"
     ]
    }
   ],
   "source": [
    "arr = np.array([23,4,34,34,3,435,3,55,4]).reshape(3,3)\n",
    "print(\"Original :\",arr)\n",
    "arr = np.sort(arr,axis=1)\n",
    "print(\"sorted :\",arr) # sort by row wise"
   ]
  },
  {
   "cell_type": "code",
   "execution_count": 10,
   "metadata": {},
   "outputs": [
    {
     "name": "stdout",
     "output_type": "stream",
     "text": [
      "Original : [[ 23   4  34]\n",
      " [ 34   3 435]\n",
      " [  3  55   4]]\n",
      "sorted : [[  3   3   4]\n",
      " [ 23   4  34]\n",
      " [ 34  55 435]]\n"
     ]
    }
   ],
   "source": [
    "arr = np.array([23,4,34,34,3,435,3,55,4]).reshape(3,3)\n",
    "print(\"Original :\",arr)\n",
    "arr = np.sort(arr,axis=0)\n",
    "print(\"sorted :\",arr) #sort by col wise"
   ]
  },
  {
   "cell_type": "code",
   "execution_count": 12,
   "metadata": {},
   "outputs": [
    {
     "name": "stdout",
     "output_type": "stream",
     "text": [
      "Original : [[ 23   4  34]\n",
      " [ 34   3 435]\n",
      " [  3  55   4]]\n",
      "sorted : [[  3   3   4]\n",
      " [  4  23  34]\n",
      " [ 34  55 435]]\n"
     ]
    }
   ],
   "source": [
    "arr = np.array([23,4,34,34,3,435,3,55,4]).reshape(3,3)\n",
    "print(\"Original :\",arr)\n",
    "arr = arr.flatten()\n",
    "arr = np.sort(arr).reshape(3,3)\n",
    "print(\"sorted :\",arr) # by befault sort by row wise"
   ]
  },
  {
   "cell_type": "code",
   "execution_count": null,
   "metadata": {},
   "outputs": [],
   "source": []
  }
 ],
 "metadata": {
  "kernelspec": {
   "display_name": "Python 3",
   "language": "python",
   "name": "python3"
  },
  "language_info": {
   "codemirror_mode": {
    "name": "ipython",
    "version": 3
   },
   "file_extension": ".py",
   "mimetype": "text/x-python",
   "name": "python",
   "nbconvert_exporter": "python",
   "pygments_lexer": "ipython3",
   "version": "3.11.9"
  }
 },
 "nbformat": 4,
 "nbformat_minor": 2
}
