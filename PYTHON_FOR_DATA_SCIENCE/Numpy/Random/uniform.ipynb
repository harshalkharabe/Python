{
 "cells": [
  {
   "cell_type": "code",
   "execution_count": null,
   "id": "485f1acd-88ba-4775-b9fe-fe4f92f58afc",
   "metadata": {},
   "outputs": [],
   "source": [
    "# uniform() method\n",
    "# syntax : numpy.random.uniform()\n",
    "# similar to the rand() but slightly different."
   ]
  },
  {
   "cell_type": "code",
   "execution_count": 1,
   "id": "fbd1989f-919e-45b2-93f3-91b08611b5e4",
   "metadata": {},
   "outputs": [
    {
     "name": "stdout",
     "output_type": "stream",
     "text": [
      "0.7054371782000337 <class 'float'>\n"
     ]
    }
   ],
   "source": [
    "from numpy import random as r\n",
    "val = r.uniform()\n",
    "print(val,type(val))"
   ]
  },
  {
   "cell_type": "code",
   "execution_count": 3,
   "id": "320c2db5-bf43-449a-b4fe-90bae66e6ab5",
   "metadata": {},
   "outputs": [
    {
     "name": "stdout",
     "output_type": "stream",
     "text": [
      "0.4249127333462118 <class 'float'>\n"
     ]
    }
   ],
   "source": [
    "val = r.uniform()\n",
    "print(val,type(val))"
   ]
  },
  {
   "cell_type": "code",
   "execution_count": 9,
   "id": "63735b77-1ad1-4800-b3ef-aa4ecd34cdf8",
   "metadata": {},
   "outputs": [
    {
     "name": "stdout",
     "output_type": "stream",
     "text": [
      "12.599449647789047 <class 'float'>\n"
     ]
    }
   ],
   "source": [
    "# syntax : numpy.random.uniform(low,high)\n",
    "val = r.uniform(12,13)\n",
    "print(val,type(val))"
   ]
  },
  {
   "cell_type": "code",
   "execution_count": 11,
   "id": "dd041097-8c2b-4aef-9090-882cf53cb3d3",
   "metadata": {},
   "outputs": [
    {
     "name": "stdout",
     "output_type": "stream",
     "text": [
      "12.462231579923447 <class 'float'>\n"
     ]
    }
   ],
   "source": [
    "# syntax : numpy.random.uniform(high,low)\n",
    "val = r.uniform(12,13)\n",
    "print(val,type(val))"
   ]
  },
  {
   "cell_type": "code",
   "execution_count": 13,
   "id": "aaf992ad-b356-4c88-b6cb-abca5383bf53",
   "metadata": {},
   "outputs": [
    {
     "name": "stdout",
     "output_type": "stream",
     "text": [
      "[12.89548778 12.92436319 12.56431095 12.4546055  12.29855123 12.71496174\n",
      " 12.45703427 12.13202794] <class 'numpy.ndarray'>\n"
     ]
    }
   ],
   "source": [
    "# syntax : numpy.random.uniform(low,high,size=value)\n",
    "val = r.uniform(12,13,size=8)\n",
    "print(val,type(val))"
   ]
  },
  {
   "cell_type": "code",
   "execution_count": 15,
   "id": "9876e7b1-785b-4af3-b0ff-adea7a7d1c92",
   "metadata": {},
   "outputs": [
    {
     "name": "stdout",
     "output_type": "stream",
     "text": [
      "[12.5625214  12.66174287 12.2487413  12.58322922 12.87510563 12.07147817\n",
      " 12.02174275 12.55627376 12.90595952 12.9385851  12.33535407 12.42345347\n",
      " 12.38074339 12.35217161 12.53491587 12.06501223] <class 'numpy.ndarray'>\n"
     ]
    }
   ],
   "source": [
    "# syntax : numpy.random.uniform(low,high,size=value)\n",
    "val = r.uniform(12,13,size=16)\n",
    "print(val,type(val))"
   ]
  },
  {
   "cell_type": "code",
   "execution_count": 17,
   "id": "6b4d7b73-d309-46b9-9b26-3a2940eee8b1",
   "metadata": {},
   "outputs": [
    {
     "name": "stdout",
     "output_type": "stream",
     "text": [
      "[14.38664838 22.30044207 20.70878131 16.27883728 17.19069006 20.34122399\n",
      " 17.37884949 21.95588026] <class 'numpy.ndarray'>\n"
     ]
    }
   ],
   "source": [
    "# syntax : numpy.random.uniform(low,high,size=value)\n",
    "val = r.uniform(12,23,size=8)\n",
    "print(val,type(val))"
   ]
  },
  {
   "cell_type": "code",
   "execution_count": 21,
   "id": "79b9cba4-9718-4a26-9172-cf333557e945",
   "metadata": {},
   "outputs": [
    {
     "name": "stdout",
     "output_type": "stream",
     "text": [
      "[[12.86897604 12.20851183 12.49100791]\n",
      " [12.29523161 12.96558749 12.27908345]\n",
      " [12.66556549 12.99307734 12.95288888]] <class 'numpy.ndarray'>\n",
      "Size of arr :  9\n",
      "Dimension of arr :  2\n"
     ]
    }
   ],
   "source": [
    "# syntax : numpy.random.uniform(low,high,size=value)\n",
    "val = r.uniform(12,13,size=(3,3))\n",
    "print(val,type(val))\n",
    "print(\"Size of arr : \",val.size)\n",
    "print(\"Dimension of arr : \",val.ndim)"
   ]
  },
  {
   "cell_type": "code",
   "execution_count": 23,
   "id": "91bf0049-42e9-421b-9d9c-d40def0ae5bc",
   "metadata": {},
   "outputs": [
    {
     "name": "stdout",
     "output_type": "stream",
     "text": [
      "[[12.72767369 12.62799988 12.74589842]\n",
      " [12.49814813 12.27007913 12.98270949]\n",
      " [12.65082034 12.90493479 12.54554977]\n",
      " [12.67523265 12.80208426 12.85270682]\n",
      " [12.62539437 12.88982162 12.24764233]\n",
      " [12.38636136 12.83331096 12.06537974]\n",
      " [12.26043814 12.69746223 12.4251362 ]\n",
      " [12.39076683 12.69833475 12.67293689]] <class 'numpy.ndarray'>\n",
      "Size of arr :  24\n",
      "Dimension of arr :  2\n"
     ]
    }
   ],
   "source": [
    "# syntax : numpy.random.uniform(low,high,size=value)\n",
    "val = r.uniform(12,13,size=(8,3))\n",
    "print(val,type(val))\n",
    "print(\"Size of arr : \",val.size)\n",
    "print(\"Dimension of arr : \",val.ndim)"
   ]
  },
  {
   "cell_type": "code",
   "execution_count": 25,
   "id": "958cc8a5-9cb5-4d6a-8f5c-a9d6c90e8faf",
   "metadata": {},
   "outputs": [
    {
     "name": "stdout",
     "output_type": "stream",
     "text": [
      "[[[12.70448894 12.48085315 12.27850808]\n",
      "  [12.57219098 12.70139285 12.72159733]\n",
      "  [12.1289539  12.64684146 12.55459359]]\n",
      "\n",
      " [[12.3216275  12.67314714 12.71478545]\n",
      "  [12.28864055 12.90820903 12.92410313]\n",
      "  [12.49374173 12.79618676 12.69029949]]\n",
      "\n",
      " [[12.44170604 12.79002497 12.18983677]\n",
      "  [12.41099876 12.01652497 12.33960977]\n",
      "  [12.72723196 12.84046208 12.67207977]]\n",
      "\n",
      " [[12.38818005 12.90835321 12.15680752]\n",
      "  [12.00719831 12.75313641 12.91317996]\n",
      "  [12.88424621 12.14651461 12.21482431]]] <class 'numpy.ndarray'>\n",
      "Size of arr :  36\n",
      "Dimension of arr :  3\n"
     ]
    }
   ],
   "source": [
    "# syntax : numpy.random.uniform(low,high,size=value)\n",
    "val = r.uniform(12,13,size=(4,3,3))\n",
    "print(val,type(val))\n",
    "print(\"Size of arr : \",val.size)\n",
    "print(\"Dimension of arr : \",val.ndim)"
   ]
  },
  {
   "cell_type": "code",
   "execution_count": 27,
   "id": "55fe50c4-d5c2-41cb-8dca-2f90bb156783",
   "metadata": {},
   "outputs": [
    {
     "name": "stdout",
     "output_type": "stream",
     "text": [
      "[[[[12.1534286  12.76398859 12.00519428]\n",
      "   [12.42510574 12.09486666 12.91960139]\n",
      "   [12.63567733 12.62475545 12.61036726]]\n",
      "\n",
      "  [[12.89450549 12.57948732 12.52294766]\n",
      "   [12.02496064 12.6321383  12.77181041]\n",
      "   [12.69069294 12.3921564  12.51893643]]]\n",
      "\n",
      "\n",
      " [[[12.34255677 12.44449201 12.88634644]\n",
      "   [12.34963579 12.08309785 12.1707835 ]\n",
      "   [12.15346497 12.12528785 12.26026619]]\n",
      "\n",
      "  [[12.48902969 12.41169997 12.23191665]\n",
      "   [12.24124475 12.96020046 12.03481741]\n",
      "   [12.66279754 12.90051798 12.33438542]]]] <class 'numpy.ndarray'>\n",
      "Size of arr :  36\n",
      "Dimension of arr :  4\n"
     ]
    }
   ],
   "source": [
    "# syntax : numpy.random.uniform(low,high,size=value)\n",
    "val = r.uniform(12,13,size=(2,2,3,3))\n",
    "print(val,type(val))\n",
    "print(\"Size of arr : \",val.size)\n",
    "print(\"Dimension of arr : \",val.ndim)"
   ]
  },
  {
   "cell_type": "code",
   "execution_count": null,
   "id": "13083041-57f8-4c0f-b362-a93e2c711326",
   "metadata": {},
   "outputs": [],
   "source": []
  }
 ],
 "metadata": {
  "kernelspec": {
   "display_name": "Python [conda env:base] *",
   "language": "python",
   "name": "conda-base-py"
  },
  "language_info": {
   "codemirror_mode": {
    "name": "ipython",
    "version": 3
   },
   "file_extension": ".py",
   "mimetype": "text/x-python",
   "name": "python",
   "nbconvert_exporter": "python",
   "pygments_lexer": "ipython3",
   "version": "3.12.7"
  }
 },
 "nbformat": 4,
 "nbformat_minor": 5
}
