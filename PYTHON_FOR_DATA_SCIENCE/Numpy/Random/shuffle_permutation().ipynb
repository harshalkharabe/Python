{
 "cells": [
  {
   "cell_type": "code",
   "execution_count": null,
   "id": "57ed7529-1056-47e3-b8d1-9bce30cc8091",
   "metadata": {},
   "outputs": [],
   "source": [
    "# shuffle() method\n",
    "# syntax : numpy.random.shuffle(ndarrayobject)"
   ]
  },
  {
   "cell_type": "code",
   "execution_count": 15,
   "id": "90a0a701-afcc-42a0-ba8c-d370803a8e58",
   "metadata": {},
   "outputs": [
    {
     "name": "stdout",
     "output_type": "stream",
     "text": [
      "Unshuffle :  [0 1 2 3 4 5 6 7 8 9] 2736921837072\n",
      "Shuffle :  [2 1 8 5 3 7 9 4 0 6] 2736921837072\n"
     ]
    }
   ],
   "source": [
    "from numpy import random as r\n",
    "import numpy as np\n",
    "arr = np.arange(10,dtype=int)\n",
    "print(\"Unshuffle : \",arr,id(arr))\n",
    "\n",
    "r.shuffle(arr)\n",
    "print(\"Shuffle : \",arr,id(arr))"
   ]
  },
  {
   "cell_type": "code",
   "execution_count": 17,
   "id": "03d2a088-5f18-4648-8dfd-93f3708a44a0",
   "metadata": {},
   "outputs": [
    {
     "name": "stdout",
     "output_type": "stream",
     "text": [
      "Unshuffle :  [0 1 2 3 4 5 6 7 8 9] 2736907880368\n",
      "Shuffle :  [1 3 9 2 7 5 8 0 4 6] 2736907880368\n"
     ]
    }
   ],
   "source": [
    "arr = np.arange(10,dtype=int)\n",
    "print(\"Unshuffle : \",arr,id(arr))\n",
    "r.shuffle(arr)\n",
    "print(\"Shuffle : \",arr,id(arr))"
   ]
  },
  {
   "cell_type": "code",
   "execution_count": 19,
   "id": "75bf44fc-98f1-4a5f-b905-0f7163c9ab4a",
   "metadata": {},
   "outputs": [
    {
     "name": "stdout",
     "output_type": "stream",
     "text": [
      "Unshuffle :  [0 1 2 3 4 5 6 7 8 9]\n",
      "Shuffle :  [3 1 0 9 2 7 6 8 5 4]\n",
      "Combination 1 --> [0 6 9 7 5 4 1 8 2 3]\n",
      "Combination 2 --> [9 8 4 1 7 0 6 5 2 3]\n",
      "Combination 3 --> [2 0 8 4 1 9 7 3 6 5]\n",
      "Combination 4 --> [2 7 9 0 6 1 5 8 3 4]\n",
      "Combination 5 --> [4 3 0 5 2 8 7 1 6 9]\n",
      "Combination 6 --> [1 7 9 5 6 2 3 0 8 4]\n",
      "Combination 7 --> [1 6 2 0 5 7 4 9 8 3]\n",
      "Combination 8 --> [3 2 9 5 8 7 6 1 4 0]\n",
      "Combination 9 --> [4 5 1 9 0 8 7 2 3 6]\n",
      "Combination 10 --> [9 3 5 8 7 6 0 4 1 2]\n"
     ]
    }
   ],
   "source": [
    "arr = np.arange(10,dtype=int)\n",
    "print(\"Unshuffle : \",arr)\n",
    "r.shuffle(arr)\n",
    "print(\"Shuffle : \",arr)\n",
    "\n",
    "for i in range(1,len(arr)+1):\n",
    "    r.shuffle(arr)\n",
    "    print(f\"Combination {i} --> {arr}\")"
   ]
  },
  {
   "cell_type": "code",
   "execution_count": 35,
   "id": "d32b0690-a24a-4d4e-b0ac-4a20d31a21b9",
   "metadata": {},
   "outputs": [
    {
     "name": "stdout",
     "output_type": "stream",
     "text": [
      "1 Rearrangement of 'MISSISSIPPI' : IPMIIIPSSSS\n",
      "2 Rearrangement of 'MISSISSIPPI' : IISMIPSIPSS\n",
      "3 Rearrangement of 'MISSISSIPPI' : SSMPSSIPIII\n",
      "4 Rearrangement of 'MISSISSIPPI' : PSISSIMPIIS\n",
      "5 Rearrangement of 'MISSISSIPPI' : IPPSSISMIIS\n"
     ]
    }
   ],
   "source": [
    "# show the no.of.rearrangement values of \"MISSISSIPPI\"\n",
    "s = \"MISSISSIPPI\"\n",
    "arr = np.array(list(s))\n",
    "for i in range(1,6):\n",
    "    r.shuffle(arr)\n",
    "    print(f\"{i} Rearrangement of 'MISSISSIPPI' : {\"\".join(arr)}\")"
   ]
  },
  {
   "cell_type": "code",
   "execution_count": 43,
   "id": "20596bfe-8213-47c6-b927-dccb3a1bdc2c",
   "metadata": {},
   "outputs": [
    {
     "name": "stdout",
     "output_type": "stream",
     "text": [
      "Original array : [[79 28 85 14  8]\n",
      " [34 60 42 36 57]\n",
      " [84 93 24 97 82]\n",
      " [85 43 13 83  2]\n",
      " [21 59 99 89 59]\n",
      " [74 74  1 56 11]]\n",
      "Shuffle array : [[85 43 13 83  2]\n",
      " [84 93 24 97 82]\n",
      " [74 74  1 56 11]\n",
      " [21 59 99 89 59]\n",
      " [79 28 85 14  8]\n",
      " [34 60 42 36 57]]\n"
     ]
    }
   ],
   "source": [
    "# Shufffleing of 2D matrix\n",
    "# in 2D rows will shuffled.\n",
    "arr = r.randint(1,101,size=(6,5))\n",
    "print(\"Original array :\",arr)\n",
    "r.shuffle(arr)\n",
    "print(\"Shuffle array :\",arr)"
   ]
  },
  {
   "cell_type": "code",
   "execution_count": 45,
   "id": "c25c3fa8-136a-4c45-aa66-9720cb9d7ffb",
   "metadata": {},
   "outputs": [
    {
     "name": "stdout",
     "output_type": "stream",
     "text": [
      "Original array : [[32 57 32 95 13]\n",
      " [ 2 62 37 70 31]\n",
      " [75 47 65 78 64]\n",
      " [32  2 47 93  1]\n",
      " [23 82 18 68 36]\n",
      " [31 64 56 43 65]]\n",
      "Shuffle array : [[75 47 65 78 64]\n",
      " [31 64 56 43 65]\n",
      " [32 57 32 95 13]\n",
      " [32  2 47 93  1]\n",
      " [23 82 18 68 36]\n",
      " [ 2 62 37 70 31]]\n"
     ]
    }
   ],
   "source": [
    "# Shufffleing of 2D matrix\n",
    "# in 2D rows will shuffled.\n",
    "arr = r.randint(1,101,size=(6,5))\n",
    "print(\"Original array :\",arr)\n",
    "r.shuffle(arr)\n",
    "print(\"Shuffle array :\",arr)"
   ]
  },
  {
   "cell_type": "code",
   "execution_count": 49,
   "id": "02897b17-0729-4fa0-a185-45705adb87f2",
   "metadata": {},
   "outputs": [
    {
     "name": "stdout",
     "output_type": "stream",
     "text": [
      "Original array : [[[20  9 45 10 99]\n",
      "  [70 78 41 24 33]\n",
      "  [72 29 51 12 99]\n",
      "  [14 31 12  6 25]\n",
      "  [52 28 84 64 34]\n",
      "  [52 29 97  5 71]]\n",
      "\n",
      " [[47 96 12 77 94]\n",
      "  [92 28 79 66 69]\n",
      "  [94 81 41 51 54]\n",
      "  [86 30 47 19 92]\n",
      "  [42  9 62 54 88]\n",
      "  [41 57 88 82 52]]]\n",
      "Shuffle array : [[[47 96 12 77 94]\n",
      "  [92 28 79 66 69]\n",
      "  [94 81 41 51 54]\n",
      "  [86 30 47 19 92]\n",
      "  [42  9 62 54 88]\n",
      "  [41 57 88 82 52]]\n",
      "\n",
      " [[20  9 45 10 99]\n",
      "  [70 78 41 24 33]\n",
      "  [72 29 51 12 99]\n",
      "  [14 31 12  6 25]\n",
      "  [52 28 84 64 34]\n",
      "  [52 29 97  5 71]]]\n",
      "Shuffle array : [[[20  9 45 10 99]\n",
      "  [70 78 41 24 33]\n",
      "  [72 29 51 12 99]\n",
      "  [14 31 12  6 25]\n",
      "  [52 28 84 64 34]\n",
      "  [52 29 97  5 71]]\n",
      "\n",
      " [[47 96 12 77 94]\n",
      "  [92 28 79 66 69]\n",
      "  [94 81 41 51 54]\n",
      "  [86 30 47 19 92]\n",
      "  [42  9 62 54 88]\n",
      "  [41 57 88 82 52]]]\n"
     ]
    }
   ],
   "source": [
    "# Shufffleing of #3D matrix\n",
    "# in 3D matrix will shuffled.\n",
    "arr = r.randint(1,101,size=(2,6,5))\n",
    "print(\"Original array :\",arr)\n",
    "r.shuffle(arr)\n",
    "print(\"Shuffle array :\",arr)\n",
    "r.shuffle(arr)\n",
    "print(\"Shuffle array :\",arr)"
   ]
  },
  {
   "cell_type": "code",
   "execution_count": 53,
   "id": "59ef9ecb-98b9-4076-bf2b-b30aa9c2973c",
   "metadata": {},
   "outputs": [
    {
     "name": "stdout",
     "output_type": "stream",
     "text": [
      "Original : [ 1  2  3 45  6  7 89 10]\n",
      "Shuffled : [89  6  2  3 10 45  7  1]\n"
     ]
    }
   ],
   "source": [
    "# Another method for rearrangement of array\n",
    "# permutation() method\n",
    "# syntax : var = numpy.random.permutation(ndarrayobject)\n",
    "# difference between both shuffle & permutation is \n",
    "# -- Permutation store the shuffle array in a variable and shuffle not stored array.\n",
    "\n",
    "arr = np.array([1,2,3,45,6,7,89,10])\n",
    "print(\"Original :\",arr)\n",
    "l1 = r.permutation(arr)\n",
    "print(\"Shuffled :\",l1)\n",
    "\n"
   ]
  },
  {
   "cell_type": "code",
   "execution_count": 63,
   "id": "b2d18d8a-559e-43ae-898a-0fee9ca9d1dd",
   "metadata": {},
   "outputs": [
    {
     "name": "stdout",
     "output_type": "stream",
     "text": [
      "(1, 2, 3)\n",
      "(1, 3, 2)\n",
      "(2, 1, 3)\n",
      "(2, 3, 1)\n",
      "(3, 1, 2)\n",
      "(3, 2, 1)\n"
     ]
    }
   ],
   "source": [
    "# find all possible permutations of list\n",
    "l1 = [1,2,3] \n",
    "import itertools as it\n",
    "prem = it.permutations(l1)\n",
    "l1 = list(prem)\n",
    "for i in l1:\n",
    "    print(i)"
   ]
  },
  {
   "cell_type": "code",
   "execution_count": 69,
   "id": "a097aed4-5ee8-427b-8545-b3f216150302",
   "metadata": {},
   "outputs": [
    {
     "name": "stdout",
     "output_type": "stream",
     "text": [
      "(1, 2)\n",
      "(1, 3)\n",
      "(2, 1)\n",
      "(2, 3)\n",
      "(3, 1)\n",
      "(3, 2)\n"
     ]
    }
   ],
   "source": [
    "# find all possible permutations of list need no.of.combinations.\n",
    "l1 = [1,2,3] \n",
    "import itertools as it\n",
    "c = 2\n",
    "prem = it.permutations(l1,c)\n",
    "l1 = list(prem)\n",
    "for i in l1:\n",
    "    print(i)"
   ]
  },
  {
   "cell_type": "code",
   "execution_count": 81,
   "id": "630221b8-5d56-476f-b4c6-8efad3d1d1a7",
   "metadata": {},
   "outputs": [
    {
     "name": "stdout",
     "output_type": "stream",
     "text": [
      "<itertools.permutations object at 0x0000027D3D5A0950>\n",
      "<itertools.permutations object at 0x0000027D3D5A35B0>\n",
      "<itertools.permutations object at 0x0000027D3D5A0950>\n",
      "[(1,), (2,), (3,), (1, 2), (1, 3), (2, 1), (2, 3), (3, 1), (3, 2), (1, 2, 3), (1, 3, 2), (2, 1, 3), (2, 3, 1), (3, 1, 2), (3, 2, 1)]\n"
     ]
    }
   ],
   "source": [
    "# find all possible permutations of list need no.of.combinations.\n",
    "l1 = [1,2,3] \n",
    "import itertools as it\n",
    "arr=[]\n",
    "for i in range(1,len(l1)+1):\n",
    "    prem = it.permutations(l1,i)\n",
    "    print(prem)\n",
    "    arr.extend(list(prem))\n",
    "print(arr)"
   ]
  },
  {
   "cell_type": "code",
   "execution_count": 85,
   "id": "464dd77b-8765-4e1c-8c05-4a0235974ec9",
   "metadata": {},
   "outputs": [
    {
     "name": "stdout",
     "output_type": "stream",
     "text": [
      "[10 20 30]\n",
      "[(10, 20, 30), (10, 30, 20), (20, 10, 30), (20, 30, 10), (30, 10, 20), (30, 20, 10)]\n"
     ]
    }
   ],
   "source": [
    "# permutation of numpy array\n",
    "\n",
    "arr = np.array([10,20,30])\n",
    "print(arr)\n",
    "prem = list(it.permutations(arr))\n",
    "print(prem)\n",
    "for i in prem:"
   ]
  },
  {
   "cell_type": "code",
   "execution_count": null,
   "id": "04b4691e-83b2-427b-ab6b-9e0518e70fa3",
   "metadata": {},
   "outputs": [],
   "source": []
  }
 ],
 "metadata": {
  "kernelspec": {
   "display_name": "Python [conda env:base] *",
   "language": "python",
   "name": "conda-base-py"
  },
  "language_info": {
   "codemirror_mode": {
    "name": "ipython",
    "version": 3
   },
   "file_extension": ".py",
   "mimetype": "text/x-python",
   "name": "python",
   "nbconvert_exporter": "python",
   "pygments_lexer": "ipython3",
   "version": "3.12.7"
  }
 },
 "nbformat": 4,
 "nbformat_minor": 5
}
