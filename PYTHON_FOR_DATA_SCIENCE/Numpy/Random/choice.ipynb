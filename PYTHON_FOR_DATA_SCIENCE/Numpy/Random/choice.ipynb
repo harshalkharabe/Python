{
 "cells": [
  {
   "cell_type": "code",
   "execution_count": null,
   "id": "b2b4ca29-29b4-41db-a83e-eb66d8b788a5",
   "metadata": {},
   "outputs": [],
   "source": [
    "# choice() method"
   ]
  },
  {
   "cell_type": "code",
   "execution_count": 1,
   "id": "5415a75e-226b-40fd-873b-218d813c854b",
   "metadata": {},
   "outputs": [
    {
     "name": "stdout",
     "output_type": "stream",
     "text": [
      "Choice in arr : P\n"
     ]
    }
   ],
   "source": [
    "from numpy import random as r\n",
    "import numpy as np\n",
    "arr = np.array(list(\"PYTHON\"))\n",
    "ch = r.choice(arr)\n",
    "print(\"Choice in arr :\",ch)"
   ]
  },
  {
   "cell_type": "code",
   "execution_count": 3,
   "id": "4ca8eb04-193f-4706-93db-386bd7c397c1",
   "metadata": {},
   "outputs": [
    {
     "name": "stdout",
     "output_type": "stream",
     "text": [
      "Choice in arr : T\n"
     ]
    }
   ],
   "source": [
    "arr = np.array(list(\"PYTHON\"))\n",
    "ch = r.choice(arr)\n",
    "print(\"Choice in arr :\",ch)"
   ]
  },
  {
   "cell_type": "code",
   "execution_count": 5,
   "id": "98c4d542-9008-4b8e-aeed-bced6be41e49",
   "metadata": {},
   "outputs": [
    {
     "name": "stdout",
     "output_type": "stream",
     "text": [
      "Choice in arr : O\n"
     ]
    }
   ],
   "source": [
    "arr = np.array(list(\"PYTHON\"))\n",
    "ch = r.choice(arr)\n",
    "print(\"Choice in arr :\",ch)"
   ]
  },
  {
   "cell_type": "code",
   "execution_count": 7,
   "id": "c1edede1-10d8-44e5-8ed4-fcaf41e0efb3",
   "metadata": {},
   "outputs": [
    {
     "name": "stdout",
     "output_type": "stream",
     "text": [
      "Choice in arr : 2\n"
     ]
    }
   ],
   "source": [
    "arr = np.arange(10)\n",
    "ch = r.choice(arr)\n",
    "print(\"Choice in arr :\",ch)"
   ]
  },
  {
   "cell_type": "code",
   "execution_count": 15,
   "id": "36f5a89f-cf43-4bba-ae04-13e5f57203ad",
   "metadata": {},
   "outputs": [
    {
     "name": "stdout",
     "output_type": "stream",
     "text": [
      "Choice in arr : [8 3 8 5 9 4 6 3]\n",
      "Type of choice : <class 'numpy.ndarray'>\n"
     ]
    }
   ],
   "source": [
    "arr = np.arange(10)\n",
    "ch = r.choice(arr,size=8)\n",
    "print(\"Choice in arr :\",ch)\n",
    "print(\"Type of choice :\",type(ch))"
   ]
  },
  {
   "cell_type": "code",
   "execution_count": 19,
   "id": "54c2fc7a-8874-4540-9621-e9a732150c84",
   "metadata": {},
   "outputs": [
    {
     "name": "stdout",
     "output_type": "stream",
     "text": [
      "Choice in arr : [[7 8 7]\n",
      " [7 1 3]\n",
      " [5 1 8]]\n",
      "Type of choice : <class 'numpy.ndarray'>\n",
      "Dimension choice : 2\n"
     ]
    }
   ],
   "source": [
    "arr = np.arange(10)\n",
    "ch = r.choice(arr,size=(3,3))\n",
    "print(\"Choice in arr :\",ch)\n",
    "print(\"Type of choice :\",type(ch))\n",
    "print(\"Dimension choice :\",ch.ndim)"
   ]
  },
  {
   "cell_type": "code",
   "execution_count": 39,
   "id": "2b2aaad3-1e53-4ba9-8365-f441117a522e",
   "metadata": {},
   "outputs": [
    {
     "name": "stdout",
     "output_type": "stream",
     "text": [
      "Caphcha code : uffcB\n"
     ]
    }
   ],
   "source": [
    "arr = np.array(list(\"123456789ncxnkdsjsqwertyuioplkjhgfdazxcvbnmLAKSJDHFGTQRWEUIOPMZNBXVC\"))\n",
    "ch = r.choice(arr,size=5)\n",
    "ch = list(ch)\n",
    "print(\"Caphcha code :\",\"\".join(ch))"
   ]
  },
  {
   "cell_type": "code",
   "execution_count": 41,
   "id": "d0d405a9-0155-4081-b63e-e6e7d161e8d0",
   "metadata": {},
   "outputs": [
    {
     "name": "stdout",
     "output_type": "stream",
     "text": [
      "Caphcha code : QWd9n\n"
     ]
    }
   ],
   "source": [
    "arr = np.array(list(\"123456789ncxnkdsjsqwertyuioplkjhgfdazxcvbnmLAKSJDHFGTQRWEUIOPMZNBXVC\"))\n",
    "ch = r.choice(arr,size=5)\n",
    "ch = list(ch)\n",
    "print(\"Caphcha code :\",\"\".join(ch))"
   ]
  },
  {
   "cell_type": "code",
   "execution_count": 43,
   "id": "2483c60c-fef5-4b03-8281-55a11ed89dbc",
   "metadata": {},
   "outputs": [
    {
     "name": "stdout",
     "output_type": "stream",
     "text": [
      "Caphcha code : 9yn1q\n"
     ]
    }
   ],
   "source": [
    "arr = np.array(list(\"123456789ncxnkdsjsqwertyuioplkjhgfdazxcvbnmLAKSJDHFGTQRWEUIOPMZNBXVC\"))\n",
    "ch = r.choice(arr,size=5)\n",
    "ch = list(ch)\n",
    "print(\"Caphcha code :\",\"\".join(ch))"
   ]
  },
  {
   "cell_type": "code",
   "execution_count": 57,
   "id": "d59a1713-c320-4f8c-b4f0-3e7f008d8dd2",
   "metadata": {},
   "outputs": [
    {
     "name": "stdout",
     "output_type": "stream",
     "text": [
      "2x2 Matrix :\n",
      " [[22 72]\n",
      " [84 53]]\n"
     ]
    }
   ],
   "source": [
    "# I want 2x2 matrix number between 10,100\n",
    "arr = np.arange(10,100)\n",
    "matrix = r.choice(arr,size=(2,2))\n",
    "print(\"2x2 Matrix :\\n\",matrix)"
   ]
  },
  {
   "cell_type": "code",
   "execution_count": 63,
   "id": "c6b20ecb-db5e-426b-b391-899b7fd0efb2",
   "metadata": {},
   "outputs": [
    {
     "name": "stdout",
     "output_type": "stream",
     "text": [
      "2x2 Matrix :\n",
      " [[[40 26]\n",
      "  [82 72]]\n",
      "\n",
      " [[12 36]\n",
      "  [49 36]]\n",
      "\n",
      " [[78 32]\n",
      "  [24 82]]]\n",
      "Dimension choice : 3\n"
     ]
    }
   ],
   "source": [
    "# I want 2x2 matrix number between 10,100\n",
    "arr = np.arange(10,100)\n",
    "matrix = r.choice(arr,size=(3,2,2))\n",
    "print(\"2x2 Matrix :\\n\",matrix)\n",
    "print(\"Dimension choice :\",matrix.ndim)"
   ]
  },
  {
   "cell_type": "code",
   "execution_count": null,
   "id": "80b1c92b-9f66-4cd7-b58b-f7a90748483a",
   "metadata": {},
   "outputs": [],
   "source": []
  }
 ],
 "metadata": {
  "kernelspec": {
   "display_name": "Python [conda env:base] *",
   "language": "python",
   "name": "conda-base-py"
  },
  "language_info": {
   "codemirror_mode": {
    "name": "ipython",
    "version": 3
   },
   "file_extension": ".py",
   "mimetype": "text/x-python",
   "name": "python",
   "nbconvert_exporter": "python",
   "pygments_lexer": "ipython3",
   "version": "3.12.7"
  }
 },
 "nbformat": 4,
 "nbformat_minor": 5
}
