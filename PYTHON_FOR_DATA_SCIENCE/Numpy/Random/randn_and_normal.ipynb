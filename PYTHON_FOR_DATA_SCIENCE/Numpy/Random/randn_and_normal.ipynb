{
 "cells": [
  {
   "cell_type": "code",
   "execution_count": null,
   "id": "991ae95a-4fc9-4e43-adeb-9a9285977587",
   "metadata": {},
   "outputs": [],
   "source": [
    "# randn() method\n",
    "# randn() generate any floating point number between any positive or negative numbers.\n",
    "# syntax : numpy.random.randn() "
   ]
  },
  {
   "cell_type": "code",
   "execution_count": 1,
   "id": "ec3e9e9b-2379-4a6d-a0b3-cb06cb1debba",
   "metadata": {},
   "outputs": [
    {
     "name": "stdout",
     "output_type": "stream",
     "text": [
      "Random value : -1.1415410795228382\n"
     ]
    }
   ],
   "source": [
    "from numpy import random as r\n",
    "val = r.randn()\n",
    "print(\"Random value :\",val)"
   ]
  },
  {
   "cell_type": "code",
   "execution_count": 3,
   "id": "c559d5f7-80d8-4500-8aeb-e2f902a24ba2",
   "metadata": {},
   "outputs": [
    {
     "name": "stdout",
     "output_type": "stream",
     "text": [
      "Random value : 1.9025403696256151\n"
     ]
    }
   ],
   "source": [
    "val = r.randn()\n",
    "print(\"Random value :\",val)"
   ]
  },
  {
   "cell_type": "code",
   "execution_count": 9,
   "id": "276d91c6-15e0-4785-89fa-6d8db0b335b6",
   "metadata": {},
   "outputs": [
    {
     "name": "stdout",
     "output_type": "stream",
     "text": [
      "Random value : [0.59121674 0.96415015 0.09541568]\n",
      "Type of arr : <class 'numpy.ndarray'>\n",
      "Dimension of arr : 1\n"
     ]
    }
   ],
   "source": [
    "# syntax : val = numpy.random.randn(number) -- number is 3 then it generate 3 positive or negative random value\n",
    "val = r.randn(3)\n",
    "print(\"Random value :\",val)\n",
    "print(\"Type of arr :\",type(val))\n",
    "print(\"Dimension of arr :\",val.ndim)"
   ]
  },
  {
   "cell_type": "code",
   "execution_count": 11,
   "id": "c4ab7cf7-b71b-44e9-aac4-950f9a1a3d7a",
   "metadata": {},
   "outputs": [
    {
     "name": "stdout",
     "output_type": "stream",
     "text": [
      "Random value : [-0.05710819 -0.80068328 -1.28870323 -0.45289128  1.44255159  2.20497737\n",
      " -0.22008853  0.1890448 ]\n",
      "Type of arr : <class 'numpy.ndarray'>\n",
      "Dimension of arr : 1\n"
     ]
    }
   ],
   "source": [
    "val = r.randn(8)\n",
    "print(\"Random value :\",val)\n",
    "print(\"Type of arr :\",type(val))\n",
    "print(\"Dimension of arr :\",val.ndim)"
   ]
  },
  {
   "cell_type": "code",
   "execution_count": 17,
   "id": "75054558-8a43-4f09-826d-49bc4720c7ac",
   "metadata": {},
   "outputs": [
    {
     "name": "stdout",
     "output_type": "stream",
     "text": [
      "Random value : [[ 0.38161655 -0.70681101  0.66978571  1.57476808 -0.28297913]\n",
      " [ 0.99133741  1.73197901  0.98692594  0.66170205  1.08117707]\n",
      " [ 2.02967855  2.3817548  -0.04875395 -1.05502942 -0.67834636]\n",
      " [-1.64691894 -1.11361022  0.14256503 -1.06010689  0.6326731 ]]\n",
      "Type of arr : <class 'numpy.ndarray'>\n",
      "Dimension of arr : 2\n"
     ]
    }
   ],
   "source": [
    "# syntax : arr = r.randn(rows,cols)\n",
    "val = r.randn(4,5)\n",
    "print(\"Random value :\",val)\n",
    "print(\"Type of arr :\",type(val))\n",
    "print(\"Dimension of arr :\",val.ndim)"
   ]
  },
  {
   "cell_type": "code",
   "execution_count": 19,
   "id": "9deeecab-12e7-4470-9836-4c5a22bbdf8b",
   "metadata": {},
   "outputs": [
    {
     "name": "stdout",
     "output_type": "stream",
     "text": [
      "Random value : [[ 2.75354769  0.43921644  1.23260741 -1.80992409 -0.78463286]\n",
      " [-1.45901759  1.2448724  -0.42933962  1.23444754  0.78897797]\n",
      " [ 1.03541212  0.59487575  0.8603334   0.5394352  -0.2155535 ]\n",
      " [ 0.24949889  0.03826265  1.46671135 -0.35896051 -0.71458833]\n",
      " [ 0.22190462 -1.63053283 -0.85785777  0.55931356  0.21003243]\n",
      " [ 0.42633564 -0.76804971  0.98034821 -0.41697401  0.02387962]\n",
      " [-1.04766268  0.70545732 -1.15348527 -0.65401758 -0.55599036]\n",
      " [-0.54316855  1.92370411  1.04372664 -2.01691201  0.04362439]]\n",
      "Type of arr : <class 'numpy.ndarray'>\n",
      "Dimension of arr : 2\n"
     ]
    }
   ],
   "source": [
    "# syntax : arr = r.randn(rows,cols)\n",
    "val = r.randn(8,5)\n",
    "print(\"Random value :\",val)\n",
    "print(\"Type of arr :\",type(val))\n",
    "print(\"Dimension of arr :\",val.ndim)"
   ]
  },
  {
   "cell_type": "code",
   "execution_count": 21,
   "id": "f084826a-c645-4e9d-8904-d34c5d3e2b11",
   "metadata": {},
   "outputs": [
    {
     "name": "stdout",
     "output_type": "stream",
     "text": [
      "Random value : [[[ 0.10441683 -0.87199094 -0.52976388  0.45610173 -0.65148368]\n",
      "  [ 0.17786545  0.88961877 -1.835957   -0.03363171  0.17946114]]\n",
      "\n",
      " [[ 1.88717452 -0.42540685 -0.62648831 -0.97653857  0.92419842]\n",
      "  [-1.02621613  0.83467788  2.12683452 -0.92572606 -0.84705435]]\n",
      "\n",
      " [[ 0.4705183   0.17233065  0.32101332  0.68588501  0.31405978]\n",
      "  [-0.4614326  -0.44010071  0.36979499 -0.03894276  1.32520332]]\n",
      "\n",
      " [[ 0.66630338  0.10767212 -0.46073303 -0.38240407  1.21227821]\n",
      "  [ 0.10704123  0.34937507  0.30673686 -0.36751012  0.82717647]]]\n",
      "Type of arr : <class 'numpy.ndarray'>\n",
      "Dimension of arr : 3\n"
     ]
    }
   ],
   "source": [
    "# syntax : arr = r.randn(no.of.matrics,rows,cols)\n",
    "val = r.randn(4,2,5)\n",
    "print(\"Random value :\",val)\n",
    "print(\"Type of arr :\",type(val))\n",
    "print(\"Dimension of arr :\",val.ndim)"
   ]
  },
  {
   "cell_type": "code",
   "execution_count": 39,
   "id": "bbb273dc-046d-4551-af14-dc10fedd897a",
   "metadata": {},
   "outputs": [
    {
     "name": "stdout",
     "output_type": "stream",
     "text": [
      "Random value : [[[-0.80426287 -0.73025654]\n",
      "  [ 0.88583768 -0.24955525]]\n",
      "\n",
      " [[ 1.18214122 -1.08555511]\n",
      "  [ 0.43857275  1.26442146]]\n",
      "\n",
      " [[-0.52352952  0.94928995]\n",
      "  [-0.44984958  1.73133971]]]\n",
      "Type of arr : <class 'numpy.ndarray'>\n",
      "Dimension of arr : 3\n",
      "---------------------------------------\n",
      "-0.804 -- -0.73 -- \n",
      "0.886 -- -0.25 -- \n",
      "\n",
      "1.182 -- -1.086 -- \n",
      "0.439 -- 1.264 -- \n",
      "\n",
      "-0.524 -- 0.949 -- \n",
      "-0.45 -- 1.731 -- \n",
      "\n"
     ]
    }
   ],
   "source": [
    "# syntax : arr = r.randn(no.of.matrics,rows,cols)\n",
    "val = r.randn(3,2,2)\n",
    "print(\"Random value :\",val)\n",
    "print(\"Type of arr :\",type(val))\n",
    "print(\"Dimension of arr :\",val.ndim)\n",
    "print(\"---------------------------------------\")\n",
    "for i in range(len(val)):\n",
    "    for j in range(len(val[0])):\n",
    "        for k in range(len(val[0,0])):\n",
    "                print(round(val[i,j,k],3),end=' -- ')\n",
    "        print()\n",
    "    print()"
   ]
  },
  {
   "cell_type": "code",
   "execution_count": 27,
   "id": "7cae601b-9a25-438f-96dc-8b717ca718f4",
   "metadata": {},
   "outputs": [
    {
     "name": "stdout",
     "output_type": "stream",
     "text": [
      "Random value : [[[[-1.19246156 -0.87791287]\n",
      "   [-1.22295845  0.12992055]]\n",
      "\n",
      "  [[ 0.75870745  0.71539676]\n",
      "   [ 0.92224581  0.91196154]]]\n",
      "\n",
      "\n",
      " [[[-0.01678692  0.37653134]\n",
      "   [-0.48359337  1.49347408]]\n",
      "\n",
      "  [[ 1.79940941 -0.84814498]\n",
      "   [-0.04483064  1.49329665]]]]\n",
      "Type of arr : <class 'numpy.ndarray'>\n",
      "Dimension of arr : 4\n"
     ]
    }
   ],
   "source": [
    "# syntax : arr = r.randn(cluster,no.of.matrics,rows,cols)\n",
    "val = r.randn(2,2,2,2)\n",
    "print(\"Random value :\",val)\n",
    "print(\"Type of arr :\",type(val))\n",
    "print(\"Dimension of arr :\",val.ndim)"
   ]
  },
  {
   "cell_type": "code",
   "execution_count": 33,
   "id": "84c97847-a544-4e20-9560-e776cab4204e",
   "metadata": {},
   "outputs": [
    {
     "name": "stdout",
     "output_type": "stream",
     "text": [
      "Random value : [[-2.69729534 -0.3176783 ]\n",
      " [-0.18030947 -0.94368722]\n",
      " [ 0.46484755 -0.78371865]\n",
      " [-0.6476897   0.89547401]]\n",
      "Type of arr : <class 'numpy.ndarray'>\n",
      "Dimension of arr : 2\n"
     ]
    }
   ],
   "source": [
    "# syntax : arr = r.randn(no.of.matrics,rows,cols)\n",
    "val = r.randn(4,2)\n",
    "print(\"Random value :\",val)\n",
    "print(\"Type of arr :\",type(val))\n",
    "print(\"Dimension of arr :\",val.ndim)"
   ]
  },
  {
   "cell_type": "code",
   "execution_count": null,
   "id": "ab3cd4c5-4244-4373-ace6-34a7ec535c12",
   "metadata": {},
   "outputs": [],
   "source": [
    "# normal() method\n",
    "# syntax : np.random.normal()\n",
    "# Generate a single random number\n",
    "# Use a mean (center) of 0\n",
    "# Use a standard deviation of 1"
   ]
  },
  {
   "cell_type": "code",
   "execution_count": 43,
   "id": "75779757-2013-424d-81db-12eca679e006",
   "metadata": {},
   "outputs": [
    {
     "name": "stdout",
     "output_type": "stream",
     "text": [
      "0.7403632756223247\n"
     ]
    }
   ],
   "source": [
    "from numpy import random as r\n",
    "arr = r.normal() # --> mean is 0 and standard deviation id 1\n",
    "print(arr)"
   ]
  },
  {
   "cell_type": "code",
   "execution_count": 49,
   "id": "e877af07-e666-4cea-9214-8d93c1791c5c",
   "metadata": {},
   "outputs": [
    {
     "name": "stdout",
     "output_type": "stream",
     "text": [
      "Random value : 0.34649410124177676 <class 'float'>\n"
     ]
    }
   ],
   "source": [
    "arr = r.normal() # --> mean is 0 and standard deviation id 1\n",
    "print(\"Random value :\",arr,type(arr))"
   ]
  },
  {
   "cell_type": "code",
   "execution_count": 51,
   "id": "8079b6fa-06d3-4884-99db-734a8d365d7e",
   "metadata": {},
   "outputs": [
    {
     "name": "stdout",
     "output_type": "stream",
     "text": [
      "Random value : 0.37759276056179697 <class 'float'>\n"
     ]
    }
   ],
   "source": [
    "arr = r.normal() # --> mean is 0 and standard deviation id 1\n",
    "print(\"Random value :\",arr,type(arr))"
   ]
  },
  {
   "cell_type": "code",
   "execution_count": null,
   "id": "d952eedc-72e2-4037-9105-fe6fdfb6e04e",
   "metadata": {},
   "outputs": [],
   "source": [
    "# syntax : np.random.nprmal(loc=0,scale=1,size=None)\n",
    "# loc = mean (center of the distribution)\n",
    "# scale = standard deviation (spread of the distribution)\n",
    "# size = number of values to generate"
   ]
  },
  {
   "cell_type": "code",
   "execution_count": 108,
   "id": "0a206cbc-bd5c-4738-8edf-aa10c6e76853",
   "metadata": {},
   "outputs": [
    {
     "name": "stdout",
     "output_type": "stream",
     "text": [
      "[ 2.94381237 -3.62000967  8.05273474 -3.64858049 -3.05437407 -6.56430043\n",
      "  5.22418148  1.43245855  5.94445972  8.50950234 -2.39457864  9.22116039\n",
      "  1.74564283  8.11281005 10.27537671 10.89582119  4.24090933  9.09883301\n",
      "  7.53581586  2.8382713  12.41547851  7.13685545 -0.39172994  6.78415973\n",
      " -3.71434307  2.55082823 12.65745949 10.23617089  7.15002725 -5.23409563\n",
      " 12.04889837  9.77102326  2.4484065   1.28589654  1.917916    8.23527722\n",
      "  4.91543801  6.49650696  0.62688735  0.69911466  2.81284818  5.72062119\n",
      "  3.97942027 -2.37768248  6.7703298  -1.59638036 12.29368079 -4.3136429\n",
      " -1.77930861 -3.69315819 -4.16268489 -0.43761947 -0.67303096 -0.52722245\n",
      "  2.88465313 -0.18258743  7.39810684  8.55788474  3.46753962  1.77618542\n",
      "  4.20278246  0.14121365 -9.41272713  3.4118019  -4.80946975 11.86127292\n",
      "  4.5183169  -2.30216058  1.8835085   3.45030361 11.16893341  7.67828029\n",
      "  5.89301398  2.66481101  4.97109277  4.06634793  6.35923951 11.03029744\n",
      "  2.34537837  3.68398734  6.46573644 10.50849156  6.74234908  8.08571162\n",
      "  8.64872479  6.78289758  4.81626419 19.14076592  9.24427888 -1.07236419\n",
      " 13.63318396  0.88068861 -6.56086348  9.13821668 10.6771648   6.2845735\n",
      "  9.4665356  -1.12215158  3.01026685  4.32831113]\n",
      "Mean : 4.126490810518302\n",
      "Stander Deviation : 5.311687770028993\n"
     ]
    }
   ],
   "source": [
    "from numpy import random as r\n",
    "arr = r.normal(4,5,100)\n",
    "print(arr)\n",
    "m = numpy.mean(arr)\n",
    "s = numpy.std(arr)\n",
    "print(\"Mean :\",m)\n",
    "print(\"Stander Deviation :\",s)"
   ]
  },
  {
   "cell_type": "code",
   "execution_count": 112,
   "id": "fbb2b8b5-d597-4104-942b-6cc44799319c",
   "metadata": {},
   "outputs": [
    {
     "name": "stdout",
     "output_type": "stream",
     "text": [
      "[[[-4.36349802e+00  1.03485937e+01  3.36181141e+00  7.93707826e+00]\n",
      "  [ 7.87758775e-01  3.13134984e+00  9.53218898e+00  4.29408803e+00]\n",
      "  [ 4.81172956e+00  4.11489737e+00  1.91545045e-01  1.10895960e+01]]\n",
      "\n",
      " [[ 9.05532265e+00  4.53394854e+00  1.21365558e+01 -3.38296176e+00]\n",
      "  [ 7.13062316e+00  3.92842462e-01  5.83036743e+00  4.50995083e-03]\n",
      "  [-1.61122824e+00  4.70574455e+00  3.07400299e+00  1.32373923e+01]]\n",
      "\n",
      " [[ 2.90116896e+00 -1.01720555e-01  4.15532711e+00  1.20678091e+01]\n",
      "  [ 1.09402120e+01 -1.47117911e+00 -5.17371513e+00  1.17835455e+01]\n",
      "  [ 1.44272515e+00  6.76135980e+00  7.15202235e-01  6.88735721e-01]]]\n",
      "Mean : 4.307048042217863\n",
      "Stander Deviation : 4.940551659787564\n"
     ]
    }
   ],
   "source": [
    "from numpy import random as r\n",
    "arr = r.normal(5,5,size=(3,3,4))\n",
    "print(arr)\n",
    "m = numpy.mean(arr)\n",
    "s = numpy.std(arr)\n",
    "print(\"Mean :\",m)\n",
    "print(\"Stander Deviation :\",s)\n",
    "print()"
   ]
  },
  {
   "cell_type": "code",
   "execution_count": null,
   "id": "215db5d9-4d15-4555-97bb-bdd3167e4dd7",
   "metadata": {},
   "outputs": [],
   "source": [
    "from numpy import random as r\n",
    "arr = r.normal(4,5,100)\n",
    "print(arr)\n",
    "m = numpy.mean(arr)\n",
    "s = numpy.std(arr)\n",
    "print(\"Mean :\",m)\n",
    "print(\"Stander Deviation :\",s)"
   ]
  }
 ],
 "metadata": {
  "kernelspec": {
   "display_name": "Python [conda env:base] *",
   "language": "python",
   "name": "conda-base-py"
  },
  "language_info": {
   "codemirror_mode": {
    "name": "ipython",
    "version": 3
   },
   "file_extension": ".py",
   "mimetype": "text/x-python",
   "name": "python",
   "nbconvert_exporter": "python",
   "pygments_lexer": "ipython3",
   "version": "3.12.7"
  }
 },
 "nbformat": 4,
 "nbformat_minor": 5
}
