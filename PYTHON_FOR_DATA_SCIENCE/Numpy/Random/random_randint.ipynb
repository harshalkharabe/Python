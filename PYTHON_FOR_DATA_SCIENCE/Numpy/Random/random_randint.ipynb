{
 "cells": [
  {
   "cell_type": "code",
   "execution_count": null,
   "id": "104833a8-8eb9-4019-9d2d-5aa9885331e2",
   "metadata": {},
   "outputs": [],
   "source": [
    "# randint()\n",
    "# syntax : var_name = numpy.random.randint(10)\n",
    "# it gives any one random number between 0 to 9"
   ]
  },
  {
   "cell_type": "code",
   "execution_count": 1,
   "id": "5efcdcb3-23c2-4b3c-a4c0-2b1e75508074",
   "metadata": {},
   "outputs": [],
   "source": [
    "from numpy import random as r"
   ]
  },
  {
   "cell_type": "code",
   "execution_count": 3,
   "id": "ab05ab2c-a99a-4386-97ae-c8940284811c",
   "metadata": {},
   "outputs": [
    {
     "name": "stdout",
     "output_type": "stream",
     "text": [
      "Random value : 2\n"
     ]
    }
   ],
   "source": [
    "val = r.randint(10)\n",
    "print(f\"Random value : {val}\")"
   ]
  },
  {
   "cell_type": "code",
   "execution_count": 5,
   "id": "52a15555-dbd6-4277-b34a-318c528775c4",
   "metadata": {},
   "outputs": [
    {
     "name": "stdout",
     "output_type": "stream",
     "text": [
      "Random value : 98\n"
     ]
    }
   ],
   "source": [
    "val = r.randint(100)\n",
    "print(f\"Random value : {val}\")"
   ]
  },
  {
   "cell_type": "code",
   "execution_count": 7,
   "id": "0ce3c565-bd36-4f6c-9e6f-b4f40eaa492b",
   "metadata": {},
   "outputs": [
    {
     "name": "stdout",
     "output_type": "stream",
     "text": [
      "Random value : 5\n"
     ]
    }
   ],
   "source": [
    "val = r.randint(10)\n",
    "print(f\"Random value : {val}\")"
   ]
  },
  {
   "cell_type": "code",
   "execution_count": 9,
   "id": "88c19eae-710f-4694-85ae-268317831e19",
   "metadata": {},
   "outputs": [
    {
     "name": "stdout",
     "output_type": "stream",
     "text": [
      "Random value : 2\n"
     ]
    }
   ],
   "source": [
    "val = r.randint(10)\n",
    "print(f\"Random value : {val}\")"
   ]
  },
  {
   "cell_type": "code",
   "execution_count": 11,
   "id": "6f76be93-4f4f-45d1-9faa-f54b0fe73038",
   "metadata": {},
   "outputs": [
    {
     "name": "stdout",
     "output_type": "stream",
     "text": [
      "Random value : 54\n"
     ]
    }
   ],
   "source": [
    "val = r.randint(10,100)\n",
    "print(f\"Random value : {val}\")"
   ]
  },
  {
   "cell_type": "code",
   "execution_count": 15,
   "id": "ac628be4-237a-480b-98eb-c8a7f94f76f1",
   "metadata": {},
   "outputs": [
    {
     "name": "stdout",
     "output_type": "stream",
     "text": [
      "Random value : 82\n"
     ]
    }
   ],
   "source": [
    "val = r.randint(10,100)\n",
    "print(f\"Random value : {val}\")"
   ]
  },
  {
   "cell_type": "code",
   "execution_count": null,
   "id": "a37b48f6-1b55-4a9e-8221-29cb5f9a1fa4",
   "metadata": {},
   "outputs": [],
   "source": [
    "# 4 digit OTP generation using randint\n",
    "val = r.randint(1000,100)\n",
    "print(f\"Random value : {val}\")"
   ]
  },
  {
   "cell_type": "code",
   "execution_count": 35,
   "id": "0648b3e0-98a7-4ef8-8c0b-2e4a3366f445",
   "metadata": {},
   "outputs": [
    {
     "name": "stdout",
     "output_type": "stream",
     "text": [
      "Random value : [30 32 50 21 75 12 57 15 72 29 99 39] \n",
      "Type of val is <class 'numpy.ndarray'>\n"
     ]
    }
   ],
   "source": [
    "val = r.randint(10,100,size=12)\n",
    "print(f\"Random value : {val} \\nType of val is {type(val)}\")"
   ]
  },
  {
   "cell_type": "code",
   "execution_count": 37,
   "id": "75304adf-086a-4db9-ae25-282baf23c115",
   "metadata": {},
   "outputs": [
    {
     "name": "stdout",
     "output_type": "stream",
     "text": [
      "Random value : [[80 35 17 44 50 89]\n",
      " [32 90 93 33 67 31]] \n",
      "Type of val is <class 'numpy.ndarray'>\n",
      "Dimension of arr is 2\n",
      "Size of arr is 12\n",
      "Shape of arr is (2, 6)\n"
     ]
    }
   ],
   "source": [
    "val = r.randint(10,100,size=12).reshape(2,6)\n",
    "print(f\"Random value : {val} \\nType of val is {type(val)}\")\n",
    "print(f\"Dimension of arr is {val.ndim}\")\n",
    "print(f\"Size of arr is {val.size}\")\n",
    "print(f\"Shape of arr is {val.shape}\")"
   ]
  },
  {
   "cell_type": "code",
   "execution_count": 39,
   "id": "8f99d85c-1759-4d95-863d-277c2fa569a0",
   "metadata": {},
   "outputs": [
    {
     "name": "stdout",
     "output_type": "stream",
     "text": [
      "Random value : [[[[[92 21]\n",
      "    [22 86]]\n",
      "\n",
      "   [[52 97]\n",
      "    [44 45]]]\n",
      "\n",
      "\n",
      "  [[[52 72]\n",
      "    [96 61]]\n",
      "\n",
      "   [[42 42]\n",
      "    [69 23]]]]\n",
      "\n",
      "\n",
      "\n",
      " [[[[72 21]\n",
      "    [34 86]]\n",
      "\n",
      "   [[51 21]\n",
      "    [21 48]]]\n",
      "\n",
      "\n",
      "  [[[47 81]\n",
      "    [14 24]]\n",
      "\n",
      "   [[53 65]\n",
      "    [71 12]]]]] \n",
      "Type of val is <class 'numpy.ndarray'>\n",
      "Dimension of arr is 5\n",
      "Size of arr is 32\n",
      "Shape of arr is (2, 2, 2, 2, 2)\n"
     ]
    }
   ],
   "source": [
    "val = r.randint(10,100,size=32).reshape(2,2,2,2,2)\n",
    "print(f\"Random value : {val} \\nType of val is {type(val)}\")\n",
    "print(f\"Dimension of arr is {val.ndim}\")\n",
    "print(f\"Size of arr is {val.size}\")\n",
    "print(f\"Shape of arr is {val.shape}\")"
   ]
  },
  {
   "cell_type": "code",
   "execution_count": 43,
   "id": "b3b59998-ccf9-4de0-857c-a54c7503d524",
   "metadata": {},
   "outputs": [
    {
     "name": "stdout",
     "output_type": "stream",
     "text": [
      "Random value : [[[43 63 73]\n",
      "  [96 51 62]\n",
      "  [35 17 27]\n",
      "  [10 35 26]\n",
      "  [20 53 30]\n",
      "  [85 27 43]]\n",
      "\n",
      " [[15 96 61]\n",
      "  [40 36 22]\n",
      "  [60 39 45]\n",
      "  [72 73 83]\n",
      "  [52 36 10]\n",
      "  [86 41 19]]] \n",
      "Type of val is <class 'numpy.ndarray'>\n",
      "Dimension of arr is 3\n",
      "Size of arr is 36\n",
      "Shape of arr is (2, 6, 3)\n"
     ]
    }
   ],
   "source": [
    "val = r.randint(10,100,size=2*6*3).reshape(2,6,3)\n",
    "print(f\"Random value : {val} \\nType of val is {type(val)}\")\n",
    "print(f\"Dimension of arr is {val.ndim}\")\n",
    "print(f\"Size of arr is {val.size}\")\n",
    "print(f\"Shape of arr is {val.shape}\")"
   ]
  },
  {
   "cell_type": "code",
   "execution_count": null,
   "id": "b2ef884d-1223-4549-a980-64c6f60de49d",
   "metadata": {},
   "outputs": [],
   "source": []
  }
 ],
 "metadata": {
  "kernelspec": {
   "display_name": "Python [conda env:base] *",
   "language": "python",
   "name": "conda-base-py"
  },
  "language_info": {
   "codemirror_mode": {
    "name": "ipython",
    "version": 3
   },
   "file_extension": ".py",
   "mimetype": "text/x-python",
   "name": "python",
   "nbconvert_exporter": "python",
   "pygments_lexer": "ipython3",
   "version": "3.12.7"
  }
 },
 "nbformat": 4,
 "nbformat_minor": 5
}
