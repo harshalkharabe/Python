{
 "cells": [
  {
   "cell_type": "code",
   "execution_count": null,
   "id": "9cd705ed-16e4-4d62-822c-f2f909f2f9aa",
   "metadata": {},
   "outputs": [],
   "source": [
    "# rand() method\n",
    "# syntax : numpy.random.rand()\n",
    "# used to generate random float numbers."
   ]
  },
  {
   "cell_type": "code",
   "execution_count": 30,
   "id": "2432315e-b97e-47b6-b39d-b95fde9577a6",
   "metadata": {},
   "outputs": [
    {
     "name": "stdout",
     "output_type": "stream",
     "text": [
      "1\n"
     ]
    }
   ],
   "source": [
    "from numpy import random as r\n",
    "arr = r.randint(1.0,2.5) # randint only support integer numbers.\n",
    "print(arr)"
   ]
  },
  {
   "cell_type": "code",
   "execution_count": 72,
   "id": "b50ad2d6-90cc-4fcb-9b3a-55a450de0cd3",
   "metadata": {},
   "outputs": [
    {
     "name": "stdout",
     "output_type": "stream",
     "text": [
      "Random float value : 0.40474175217916264\n"
     ]
    }
   ],
   "source": [
    "from numpy import random as r\n",
    "arr = r.rand() # rand only generate single float numbers between 0.0 to 1.0 both will not include\n",
    "print(\"Random float value :\",arr)"
   ]
  },
  {
   "cell_type": "code",
   "execution_count": 70,
   "id": "a4af03a9-b1fb-41d0-aabb-32debb8f6169",
   "metadata": {},
   "outputs": [
    {
     "name": "stdout",
     "output_type": "stream",
     "text": [
      "Random float value : 0.405\n"
     ]
    }
   ],
   "source": [
    "arr = r.rand() # rand only generate single float numbers between 0.0 to 1.0 both will not include\n",
    "print(\"Random float value :\",round(arr,3))"
   ]
  },
  {
   "cell_type": "code",
   "execution_count": 74,
   "id": "14f03c96-dd53-4002-8084-f2ac174f348f",
   "metadata": {},
   "outputs": [
    {
     "name": "stdout",
     "output_type": "stream",
     "text": [
      "Random float value : 0.9872882034731824\n"
     ]
    }
   ],
   "source": [
    "arr = r.rand() # rand only generate single float numbers between 0.0 to 1.0 both will not include\n",
    "print(\"Random float value :\",arr)"
   ]
  },
  {
   "cell_type": "code",
   "execution_count": 64,
   "id": "b3b5d2e8-2005-46bb-9a83-38dea9f9baf5",
   "metadata": {},
   "outputs": [
    {
     "name": "stdout",
     "output_type": "stream",
     "text": [
      "[0.4821727  0.09576162 0.78394626] <class 'numpy.ndarray'>\n",
      "Dimension of arr : 1\n",
      "Size of arr : 3\n"
     ]
    }
   ],
   "source": [
    "# syntax : arr = numpy.random.rand(value)\n",
    "arr = r.rand(3) # rand generates float numbers value times between 0.0 to 1.0\n",
    "print(arr,type(arr))\n",
    "print(\"Dimension of arr :\",arr.ndim)\n",
    "print(\"Size of arr :\",arr.size)"
   ]
  },
  {
   "cell_type": "code",
   "execution_count": 62,
   "id": "ecd7814a-bafa-4094-bf45-e26fc9d0e4a2",
   "metadata": {},
   "outputs": [
    {
     "name": "stdout",
     "output_type": "stream",
     "text": [
      "[[0.00623503 0.22148836 0.11026748]\n",
      " [0.14900453 0.76608575 0.01743953]\n",
      " [0.2478816  0.59539922 0.39292592]] <class 'numpy.ndarray'>\n",
      "Dimension of arr : 2\n",
      "Size of arr : 9\n"
     ]
    }
   ],
   "source": [
    "# syntax : arr = numpy.random.rand(rows,cols)\n",
    "arr = r.rand(3,3) # rand generates float numbers value times between 0.0 to 1.0\n",
    "print(arr,type(arr))\n",
    "print(\"Dimension of arr :\",arr.ndim)\n",
    "print(\"Size of arr :\",arr.size)"
   ]
  },
  {
   "cell_type": "code",
   "execution_count": 60,
   "id": "bd733425-8dad-48fa-afd5-5b94a6849e21",
   "metadata": {},
   "outputs": [
    {
     "name": "stdout",
     "output_type": "stream",
     "text": [
      "[[0.25548726 0.09451096 0.83375125 0.27826583 0.78470018 0.83619418]\n",
      " [0.40762592 0.88342325 0.389051   0.58495451 0.96205281 0.59705148]\n",
      " [0.94699606 0.34692993 0.61042938 0.83951166 0.30090955 0.29847891]\n",
      " [0.67482448 0.12943123 0.50978534 0.93248093 0.2434716  0.77470855]\n",
      " [0.33402019 0.04746496 0.85442017 0.0092849  0.46293841 0.19549779]] <class 'numpy.ndarray'>\n",
      "Dimension of arr : 2\n",
      "Size of arr : 30\n"
     ]
    }
   ],
   "source": [
    "# syntax : arr = numpy.random.rand(rows,cols)\n",
    "arr = r.rand(5,6) # rand generates float numbers value times between 0.0 to 1.0\n",
    "print(arr,type(arr))\n",
    "print(\"Dimension of arr :\",arr.ndim)\n",
    "print(\"Size of arr :\",arr.size)"
   ]
  },
  {
   "cell_type": "code",
   "execution_count": 66,
   "id": "6eab2f68-961e-4ba0-a4db-f250e537caa8",
   "metadata": {},
   "outputs": [
    {
     "name": "stdout",
     "output_type": "stream",
     "text": [
      "[[[0.66994054 0.18826088 0.29322739]\n",
      "  [0.766958   0.68881565 0.36160513]\n",
      "  [0.84339288 0.53970986 0.96997733]]\n",
      "\n",
      " [[0.16237721 0.05419397 0.13047253]\n",
      "  [0.67874156 0.28641139 0.0538013 ]\n",
      "  [0.51904038 0.07795482 0.96389929]]] <class 'numpy.ndarray'>\n",
      "Dimension of arr : 3\n",
      "Size of arr : 18\n"
     ]
    }
   ],
   "source": [
    "# syntax : arr = numpy.random.rand(no.of.matrix,rows,cols)\n",
    "arr = r.rand(2,3,3) # rand generates float numbers value times between 0.0 to 1.0\n",
    "print(arr,type(arr))\n",
    "print(\"Dimension of arr :\",arr.ndim)\n",
    "print(\"Size of arr :\",arr.size)"
   ]
  },
  {
   "cell_type": "code",
   "execution_count": 76,
   "id": "bccd0514-a67d-4747-a9dc-175f5f51861e",
   "metadata": {},
   "outputs": [
    {
     "name": "stdout",
     "output_type": "stream",
     "text": [
      "[[[0.60324592 0.65071766 0.27717907]\n",
      "  [0.19630387 0.86106318 0.51108874]]\n",
      "\n",
      " [[0.44070775 0.20795993 0.26357326]\n",
      "  [0.81793572 0.24865955 0.88889634]]\n",
      "\n",
      " [[0.71379968 0.24096162 0.29677569]\n",
      "  [0.74222343 0.45126741 0.36646191]]] <class 'numpy.ndarray'>\n",
      "Dimension of arr : 3\n",
      "Dimension of arr : 18\n"
     ]
    }
   ],
   "source": [
    "# syntax : arr = numpy.random.rand(no.of.matrix,rows,cols)\n",
    "arr = r.rand(3,2,3) # rand generates float numbers value times between 0.0 to 1.0\n",
    "print(arr,type(arr))\n",
    "print(\"Dimension of arr :\",arr.ndim)\n",
    "print(\"Dimension of arr :\",arr.size)"
   ]
  },
  {
   "cell_type": "code",
   "execution_count": 86,
   "id": "57485117-8b27-403e-9695-3401b0ba2685",
   "metadata": {},
   "outputs": [
    {
     "name": "stdout",
     "output_type": "stream",
     "text": [
      "Values in arr :\n",
      "0.47 0.92 0.52 0.92 0.9 0.72 0.35 0.83 "
     ]
    }
   ],
   "source": [
    "arr = r.rand(8)\n",
    "print(\"Values in arr :\")\n",
    "for i in arr:\n",
    "    print(round(i,2),end=' ')"
   ]
  },
  {
   "cell_type": "code",
   "execution_count": 96,
   "id": "8b8748f9-712d-4677-b680-825d23bb959c",
   "metadata": {},
   "outputs": [
    {
     "name": "stdout",
     "output_type": "stream",
     "text": [
      "[[6.78962642e-04 5.96808092e-02 9.74921071e-01]\n",
      " [5.91573531e-02 5.96357636e-03 3.25456010e-01]\n",
      " [2.44100526e-01 6.92087432e-02 1.82607289e-01]\n",
      " [7.23129437e-01 1.56085159e-01 1.38827523e-01]] <class 'numpy.ndarray'>\n",
      "Dimension of arr : 2\n",
      "Dimension of arr : 12\n",
      "-------------------------------------------\n",
      "0.001 0.06 0.975 \n",
      "0.059 0.006 0.325 \n",
      "0.244 0.069 0.183 \n",
      "0.723 0.156 0.139 \n"
     ]
    }
   ],
   "source": [
    "# syntax : arr = numpy.random.rand(rows,cols)\n",
    "arr = r.rand(4,3) # rand generates float numbers value times between 0.0 to 1.0\n",
    "print(arr,type(arr))\n",
    "print(\"Dimension of arr :\",arr.ndim)\n",
    "print(\"Dimension of arr :\",arr.size)\n",
    "print(\"-------------------------------------------\")\n",
    "for row in range(len(arr)):\n",
    "    for col in range(len(arr[0])):\n",
    "        print(round(arr[row,col],3),end=' ')\n",
    "    print()"
   ]
  },
  {
   "cell_type": "code",
   "execution_count": 116,
   "id": "754e04f8-5eeb-4feb-aa9e-e31586a8da29",
   "metadata": {},
   "outputs": [
    {
     "name": "stdout",
     "output_type": "stream",
     "text": [
      "[[[0.26690665 0.88664896 0.65720862]\n",
      "  [0.03038526 0.26219987 0.29728339]\n",
      "  [0.80330952 0.54141711 0.17228164]\n",
      "  [0.49170499 0.57356619 0.52011041]]\n",
      "\n",
      " [[0.68014806 0.37853087 0.12068008]\n",
      "  [0.9772859  0.0510087  0.48770124]\n",
      "  [0.31254911 0.07814658 0.01487179]\n",
      "  [0.43423297 0.04606448 0.88295808]]\n",
      "\n",
      " [[0.99251165 0.48952633 0.02556288]\n",
      "  [0.33492204 0.84547959 0.85730974]\n",
      "  [0.13968023 0.40264261 0.20150787]\n",
      "  [0.63776055 0.90834833 0.30278781]]] <class 'numpy.ndarray'>\n",
      "Dimension of arr : 3\n",
      "Dimension of arr : 36\n",
      "-------------------------------------------\n",
      "0.267 -- 0.887 -- 0.657 -- \n",
      "0.03 -- 0.262 -- 0.297 -- \n",
      "0.803 -- 0.541 -- 0.172 -- \n",
      "0.492 -- 0.574 -- 0.52 -- \n",
      "\n",
      "0.68 -- 0.379 -- 0.121 -- \n",
      "0.977 -- 0.051 -- 0.488 -- \n",
      "0.313 -- 0.078 -- 0.015 -- \n",
      "0.434 -- 0.046 -- 0.883 -- \n",
      "\n",
      "0.993 -- 0.49 -- 0.026 -- \n",
      "0.335 -- 0.845 -- 0.857 -- \n",
      "0.14 -- 0.403 -- 0.202 -- \n",
      "0.638 -- 0.908 -- 0.303 -- \n",
      "\n"
     ]
    }
   ],
   "source": [
    "arr = r.rand(3,4,3) # rand generates float numbers value times between 0.0 to 1.0\n",
    "print(arr,type(arr))\n",
    "print(\"Dimension of arr :\",arr.ndim)\n",
    "print(\"Dimension of arr :\",arr.size)\n",
    "print(\"-------------------------------------------\")\n",
    "for matrix in range(len(arr)):\n",
    "    for row in range(len(arr[0])):\n",
    "        for col in range(len(arr[0,0])):\n",
    "            print(round(arr[matrix,row,col],3),\"--\",end=' ')\n",
    "        print()\n",
    "    print()"
   ]
  },
  {
   "cell_type": "code",
   "execution_count": null,
   "id": "e059f723-0c4c-4fc6-9c50-b629f5ceddfa",
   "metadata": {},
   "outputs": [],
   "source": []
  }
 ],
 "metadata": {
  "kernelspec": {
   "display_name": "Python [conda env:base] *",
   "language": "python",
   "name": "conda-base-py"
  },
  "language_info": {
   "codemirror_mode": {
    "name": "ipython",
    "version": 3
   },
   "file_extension": ".py",
   "mimetype": "text/x-python",
   "name": "python",
   "nbconvert_exporter": "python",
   "pygments_lexer": "ipython3",
   "version": "3.12.7"
  }
 },
 "nbformat": 4,
 "nbformat_minor": 5
}
