{
 "cells": [
  {
   "cell_type": "code",
   "execution_count": 6,
   "metadata": {},
   "outputs": [
    {
     "name": "stdout",
     "output_type": "stream",
     "text": [
      "[23 53 79  3 86 24 42 44 37 17 57  2 86 41  8 24 86 53 18 75]\n",
      "Max :  86\n",
      "Min :  2\n"
     ]
    }
   ],
   "source": [
    "import numpy as np\n",
    "from numpy import random as r\n",
    "arr = r.randint(2,90,size=20)\n",
    "print(arr)\n",
    "print(\"Max : \",np.amax(arr))\n",
    "print(\"Min : \",np.amin(arr))"
   ]
  },
  {
   "cell_type": "code",
   "execution_count": 13,
   "metadata": {},
   "outputs": [
    {
     "name": "stdout",
     "output_type": "stream",
     "text": [
      "[[37 75 42 35]\n",
      " [25 18 22 63]\n",
      " [80 79 72 10]]\n",
      "Max :  80\n",
      "Min :  10\n",
      "Column Wise Max :  [80 79 72 63]\n",
      "Row Wise Max :  [75 63 80]\n",
      "Column Wise Min :  [80 79 72 63]\n",
      "Row Wise Min :  [35 18 10]\n"
     ]
    }
   ],
   "source": [
    "import numpy as np\n",
    "from numpy import random as r\n",
    "arr = r.randint(2,90,size=(3,4))\n",
    "print(arr)\n",
    "print(\"Max : \",np.amax(arr))\n",
    "print(\"Min : \",np.amin(arr))\n",
    "print(\"Column Wise Max : \",np.amax(arr,axis=0)) # return maxium value in each column\n",
    "print(\"Row Wise Max : \",np.amax(arr,axis=1)) # return maxium value in each row\n",
    "print(\"Column Wise Min : \",np.amax(arr,axis=0)) # return minium value in each column\n",
    "print(\"Row Wise Min : \",np.amin(arr,axis=1)) # return minium value in each row"
   ]
  },
  {
   "cell_type": "code",
   "execution_count": 16,
   "metadata": {},
   "outputs": [
    {
     "name": "stdout",
     "output_type": "stream",
     "text": [
      "[[81 27 61 78]\n",
      " [42 81 31 15]\n",
      " [ 8 23 50 48]]\n",
      "Max :  81\n",
      "Min :  8\n",
      "Column Wise Max :  [81 81 61 78]\n",
      "Row Wise Max :  [81 81 50]\n",
      "Column Wise Min :  [81 81 61 78]\n",
      "Row Wise Min :  [27 15  8]\n"
     ]
    }
   ],
   "source": [
    "import numpy as np\n",
    "from numpy import random as r\n",
    "arr = r.randint(2,90,size=(3,4))\n",
    "print(arr)\n",
    "print(\"Max : \",np.amax(arr))\n",
    "print(\"Min : \",np.amin(arr))\n",
    "print(\"Column Wise Max : \",np.amax(arr,axis=0)) # return maxium value in each column\n",
    "print(\"Row Wise Max : \",np.amax(arr,axis=1)) # return maxium value in each row\n",
    "print(\"Column Wise Min : \",np.amax(arr,axis=0)) # return minium value in each column\n",
    "print(\"Row Wise Min : \",np.amin(arr,axis=1)) # return minium value in each row"
   ]
  },
  {
   "cell_type": "code",
   "execution_count": null,
   "metadata": {},
   "outputs": [],
   "source": []
  }
 ],
 "metadata": {
  "kernelspec": {
   "display_name": "Python 3",
   "language": "python",
   "name": "python3"
  },
  "language_info": {
   "codemirror_mode": {
    "name": "ipython",
    "version": 3
   },
   "file_extension": ".py",
   "mimetype": "text/x-python",
   "name": "python",
   "nbconvert_exporter": "python",
   "pygments_lexer": "ipython3",
   "version": "3.11.9"
  }
 },
 "nbformat": 4,
 "nbformat_minor": 2
}
