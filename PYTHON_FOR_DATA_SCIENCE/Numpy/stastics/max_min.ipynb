{
 "cells": [
  {
   "cell_type": "code",
   "execution_count": 1,
   "metadata": {},
   "outputs": [
    {
     "name": "stdout",
     "output_type": "stream",
     "text": [
      "[25 31 28 79 57 10  2 10 85 30 12 14 79 55 26 33 27  9 49 38]\n",
      "Max :  85\n",
      "Min :  2\n"
     ]
    }
   ],
   "source": [
    "import numpy as np\n",
    "from numpy import random as r\n",
    "arr = r.randint(2,90,size=20)\n",
    "print(arr)\n",
    "print(\"Max : \",np.amax(arr))\n",
    "print(\"Min : \",np.amin(arr))"
   ]
  },
  {
   "cell_type": "code",
   "execution_count": 2,
   "metadata": {},
   "outputs": [
    {
     "name": "stdout",
     "output_type": "stream",
     "text": [
      "[[38 72  3 23]\n",
      " [11 69 75 76]\n",
      " [67 13 36 59]]\n",
      "Max :  76\n",
      "Min :  3\n",
      "Column Wise Max :  [67 72 75 76]\n",
      "Row Wise Max :  [72 76 67]\n",
      "Column Wise Min :  [67 72 75 76]\n",
      "Row Wise Min :  [ 3 11 13]\n"
     ]
    }
   ],
   "source": [
    "import numpy as np\n",
    "from numpy import random as r\n",
    "arr = r.randint(2,90,size=(3,4))\n",
    "print(arr)\n",
    "print(\"Max : \",np.amax(arr))\n",
    "print(\"Min : \",np.amin(arr))\n",
    "print(\"Column Wise Max : \",np.amax(arr,axis=0)) # return maxium value in each column\n",
    "print(\"Row Wise Max : \",np.amax(arr,axis=1)) # return maxium value in each row\n",
    "print(\"Column Wise Min : \",np.amax(arr,axis=0)) # return minium value in each column\n",
    "print(\"Row Wise Min : \",np.amin(arr,axis=1)) # return minium value in each row"
   ]
  },
  {
   "cell_type": "code",
   "execution_count": 16,
   "metadata": {},
   "outputs": [
    {
     "name": "stdout",
     "output_type": "stream",
     "text": [
      "[[81 27 61 78]\n",
      " [42 81 31 15]\n",
      " [ 8 23 50 48]]\n",
      "Max :  81\n",
      "Min :  8\n",
      "Column Wise Max :  [81 81 61 78]\n",
      "Row Wise Max :  [81 81 50]\n",
      "Column Wise Min :  [81 81 61 78]\n",
      "Row Wise Min :  [27 15  8]\n"
     ]
    }
   ],
   "source": [
    "import numpy as np\n",
    "from numpy import random as r\n",
    "arr = r.randint(2,90,size=(3,4))\n",
    "print(arr)\n",
    "print(\"Max : \",np.amax(arr))\n",
    "print(\"Min : \",np.amin(arr))\n",
    "print(\"Column Wise Max : \",np.amax(arr,axis=0)) # return maxium value in each column\n",
    "print(\"Row Wise Max : \",np.amax(arr,axis=1)) # return maxium value in each row\n",
    "print(\"Column Wise Min : \",np.amax(arr,axis=0)) # return minium value in each column\n",
    "print(\"Row Wise Min : \",np.amin(arr,axis=1)) # return minium value in each row"
   ]
  },
  {
   "cell_type": "code",
   "execution_count": 7,
   "metadata": {},
   "outputs": [
    {
     "name": "stdout",
     "output_type": "stream",
     "text": [
      "[[64 35 25 59 38]\n",
      " [79 86 58 91 33]\n",
      " [55  5 50 45 34]\n",
      " [48 93 34 56 81]]\n",
      "Max in matrix : 93\n",
      "Min in matrix : 5\n",
      "Column max :  [79 93 58 91 81]\n",
      "Column min :  [25 33  5 34]\n",
      "Row min :  [48  5 25 45 33]\n",
      "Row max :  [64 91 55 93]\n"
     ]
    }
   ],
   "source": [
    "arr = r.randint(2,99,size=(4,5))\n",
    "print(arr)\n",
    "print(\"Max in matrix :\",np.amax(arr))\n",
    "print(\"Min in matrix :\",np.amin(arr))\n",
    "colmax = np.amax(arr,axis=0)\n",
    "rowmax = np.amax(arr,axis=1)\n",
    "rowmin = np.amin(arr,axis=0)\n",
    "colmin = np.amin(arr,axis=1)\n",
    "print(\"Column max : \",colmax)\n",
    "print(\"Column min : \",colmin)\n",
    "print(\"Row min : \",rowmin)\n",
    "print(\"Row max : \",rowmax)"
   ]
  },
  {
   "cell_type": "code",
   "execution_count": null,
   "metadata": {},
   "outputs": [],
   "source": []
  }
 ],
 "metadata": {
  "kernelspec": {
   "display_name": "Python 3",
   "language": "python",
   "name": "python3"
  },
  "language_info": {
   "codemirror_mode": {
    "name": "ipython",
    "version": 3
   },
   "file_extension": ".py",
   "mimetype": "text/x-python",
   "name": "python",
   "nbconvert_exporter": "python",
   "pygments_lexer": "ipython3",
   "version": "3.11.9"
  }
 },
 "nbformat": 4,
 "nbformat_minor": 2
}
