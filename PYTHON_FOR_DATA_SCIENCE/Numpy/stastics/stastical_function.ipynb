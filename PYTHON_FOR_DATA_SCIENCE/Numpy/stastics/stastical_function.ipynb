{
 "cells": [
  {
   "cell_type": "code",
   "execution_count": 1,
   "metadata": {},
   "outputs": [],
   "source": [
    "import numpy as np"
   ]
  },
  {
   "cell_type": "code",
   "execution_count": 5,
   "metadata": {},
   "outputs": [
    {
     "name": "stdout",
     "output_type": "stream",
     "text": [
      "Mean : 42.0\n"
     ]
    }
   ],
   "source": [
    "# mean()\n",
    "\n",
    "arr = np.array([12,34,56,56,65,65,6])\n",
    "print(\"Mean :\",np.mean(arr))  # Output: 41.8"
   ]
  },
  {
   "cell_type": "code",
   "execution_count": 4,
   "metadata": {},
   "outputs": [
    {
     "name": "stdout",
     "output_type": "stream",
     "text": [
      "Without mean() : 42.0\n"
     ]
    }
   ],
   "source": [
    "# without mean()\n",
    "def find_mean(nums):\n",
    "    return sum(nums)/len(nums)\n",
    "\n",
    "# find median without mean()\n",
    "print(\"Without mean() :\",find_mean(arr))"
   ]
  },
  {
   "cell_type": "code",
   "execution_count": 9,
   "metadata": {},
   "outputs": [
    {
     "name": "stdout",
     "output_type": "stream",
     "text": [
      "[[12 34]\n",
      " [32 21]\n",
      " [56 78]]\n",
      "[23.  26.5 67. ]\n",
      "[33.33333333 44.33333333]\n"
     ]
    }
   ],
   "source": [
    "# mean of a column\n",
    "\n",
    "arr = np.array([12,34,32,21,56,78]).reshape(3,2)\n",
    "print(arr)\n",
    "print(arr.mean(axis=1))  # axis=1 means along rows\n",
    "print(arr.mean(axis=0))  # axis=1 means along rows"
   ]
  },
  {
   "cell_type": "code",
   "execution_count": null,
   "metadata": {},
   "outputs": [],
   "source": [
    "# median()"
   ]
  },
  {
   "cell_type": "code",
   "execution_count": 15,
   "metadata": {},
   "outputs": [
    {
     "name": "stdout",
     "output_type": "stream",
     "text": [
      "Median : 33.0\n"
     ]
    }
   ],
   "source": [
    "arr = np.array([12,82,3,5,33,33,35,67,])\n",
    "m = np.median(arr)\n",
    "print(\"Median :\",m)"
   ]
  },
  {
   "cell_type": "code",
   "execution_count": 22,
   "metadata": {},
   "outputs": [
    {
     "name": "stdout",
     "output_type": "stream",
     "text": [
      "[[  2  32  45  90]\n",
      " [ 56   7  77  12]\n",
      " [ 34   4   5   7]\n",
      " [757   5 745 634]\n",
      " [542  24   5  43]]\n",
      "Row wise median : [ 38.5  34.    6.  689.5  33.5]\n",
      "Col wise median : [56.  7. 45. 43.]\n"
     ]
    }
   ],
   "source": [
    "arr = np.array([2,32,45,90,56,7,77,12,34,4,5,7,757,5,745,634,542,24,5,43,]).reshape(5,4)\n",
    "print(arr)\n",
    "print(\"Row wise median :\",np.median(arr,axis=1))\n",
    "print(\"Col wise median :\",np.median(arr,axis=0))"
   ]
  },
  {
   "cell_type": "code",
   "execution_count": 23,
   "metadata": {},
   "outputs": [
    {
     "name": "stdout",
     "output_type": "stream",
     "text": [
      "[12 21  2  3 23 24 45  4]\n",
      "Variance : 187.4375\n"
     ]
    }
   ],
   "source": [
    "# variance()\n",
    "\n",
    "arr = np.array([12,21,2,3,23,24,45,4])\n",
    "print(arr)\n",
    "print(\"Variance :\",np.var(arr))"
   ]
  },
  {
   "cell_type": "code",
   "execution_count": 27,
   "metadata": {},
   "outputs": [
    {
     "name": "stdout",
     "output_type": "stream",
     "text": [
      "[[12 21]\n",
      " [ 2  3]\n",
      " [23 24]\n",
      " [45  4]]\n",
      "Col Variance : [255.25  91.5 ]\n",
      "Row Variance : [2.0250e+01 2.5000e-01 2.5000e-01 4.2025e+02]\n"
     ]
    }
   ],
   "source": [
    "# variance()\n",
    "\n",
    "arr = np.array([12,21,2,3,23,24,45,4]).reshape(4,2)\n",
    "print(arr)\n",
    "print(\"Col Variance :\",np.var(arr,axis=0))\n",
    "print(\"Row Variance :\",np.var(arr,axis=1))"
   ]
  },
  {
   "cell_type": "code",
   "execution_count": 28,
   "metadata": {},
   "outputs": [
    {
     "name": "stdout",
     "output_type": "stream",
     "text": [
      "[[ 0  1  2  3  4]\n",
      " [ 5  6  7  8  9]\n",
      " [10 11 12 13 14]\n",
      " [15 16 17 18 19]\n",
      " [20 21 22 23 24]\n",
      " [25 26 27 28 29]]\n",
      "Col Variance : [72.91666667 72.91666667 72.91666667 72.91666667 72.91666667]\n",
      "Row Variance : [2. 2. 2. 2. 2. 2.]\n"
     ]
    }
   ],
   "source": [
    "# variance()\n",
    "\n",
    "arr = np.arange(5*6).reshape(6,5)\n",
    "print(arr)\n",
    "print(\"Col Variance :\",np.var(arr,axis=0))\n",
    "print(\"Row Variance :\",np.var(arr,axis=1))"
   ]
  },
  {
   "cell_type": "code",
   "execution_count": 32,
   "metadata": {},
   "outputs": [
    {
     "name": "stdout",
     "output_type": "stream",
     "text": [
      "[12 21  2  3 23 24 45  4]\n",
      "Stander deviation : 13.690781570093067\n"
     ]
    }
   ],
   "source": [
    "# stander_deviation()\n",
    "\n",
    "arr = np.array([12,21,2,3,23,24,45,4])\n",
    "print(arr)\n",
    "print(\"Stander deviation :\",np.std(arr))"
   ]
  },
  {
   "cell_type": "code",
   "execution_count": 33,
   "metadata": {},
   "outputs": [
    {
     "name": "stdout",
     "output_type": "stream",
     "text": [
      "[[12 21]\n",
      " [ 2  3]\n",
      " [23 24]\n",
      " [45  4]]\n",
      "Col std : [15.97654531  9.56556323]\n",
      "Row std : [ 4.5  0.5  0.5 20.5]\n"
     ]
    }
   ],
   "source": [
    "# stander_deviation()\n",
    "\n",
    "arr = np.array([12,21,2,3,23,24,45,4]).reshape(4,2)\n",
    "print(arr)\n",
    "print(\"Col std :\",np.std(arr,axis=0))\n",
    "print(\"Row std :\",np.std(arr,axis=1))"
   ]
  },
  {
   "cell_type": "code",
   "execution_count": 36,
   "metadata": {},
   "outputs": [
    {
     "name": "stdout",
     "output_type": "stream",
     "text": [
      "[12 21  2  3 23 24 45  4]\n",
      "Mode : 12\n"
     ]
    }
   ],
   "source": [
    "# mode()\n",
    "import statistics as s\n",
    "arr = np.array([12,21,2,3,23,24,45,4])\n",
    "print(arr)\n",
    "print(\"Mode :\",s.mode(arr))"
   ]
  },
  {
   "cell_type": "code",
   "execution_count": 38,
   "metadata": {},
   "outputs": [
    {
     "name": "stdout",
     "output_type": "stream",
     "text": [
      "[1 1 1 3 3 3 2 2 2 8]\n",
      "Mode : 1\n",
      "MultiMode : [1, 3, 2]\n"
     ]
    }
   ],
   "source": [
    "# mode()\n",
    "import statistics as s\n",
    "arr = np.array([1,1,1,3,3,3,2,2,2,8])\n",
    "print(arr)\n",
    "print(\"Mode :\",s.mode(arr))\n",
    "print(\"MultiMode :\",s.multimode(arr))"
   ]
  },
  {
   "cell_type": "code",
   "execution_count": null,
   "metadata": {},
   "outputs": [],
   "source": []
  }
 ],
 "metadata": {
  "kernelspec": {
   "display_name": "Python 3",
   "language": "python",
   "name": "python3"
  },
  "language_info": {
   "codemirror_mode": {
    "name": "ipython",
    "version": 3
   },
   "file_extension": ".py",
   "mimetype": "text/x-python",
   "name": "python",
   "nbconvert_exporter": "python",
   "pygments_lexer": "ipython3",
   "version": "3.11.9"
  }
 },
 "nbformat": 4,
 "nbformat_minor": 2
}
