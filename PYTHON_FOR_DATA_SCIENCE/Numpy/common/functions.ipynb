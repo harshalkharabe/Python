{
 "cells": [
  {
   "cell_type": "code",
   "execution_count": 1,
   "metadata": {},
   "outputs": [],
   "source": [
    "import numpy as np"
   ]
  },
  {
   "cell_type": "code",
   "execution_count": 2,
   "metadata": {},
   "outputs": [
    {
     "name": "stdout",
     "output_type": "stream",
     "text": [
      "Predefined Methods : Append Insert Delete\n"
     ]
    }
   ],
   "source": [
    "print(\"Predefined Methods : Append Insert Delete\")"
   ]
  },
  {
   "cell_type": "code",
   "execution_count": 6,
   "metadata": {},
   "outputs": [
    {
     "name": "stdout",
     "output_type": "stream",
     "text": [
      "Before append : [ 12  43   3  90   6   7 778]\n",
      "After append : [ 12  43   3  90   6   7 778 223]\n"
     ]
    }
   ],
   "source": [
    "arr = np.array([12,43,3,90,6,7,778])\n",
    "print(\"Before append :\",arr)\n",
    "arr = np.append(arr,223)\n",
    "print(\"After append :\",arr)\n"
   ]
  },
  {
   "cell_type": "code",
   "execution_count": 7,
   "metadata": {},
   "outputs": [
    {
     "name": "stdout",
     "output_type": "stream",
     "text": [
      "Before append : [ 12  43   3  90   6   7 778]\n",
      "After append : [ 12  43   3  90   6   7 778   1   2   3]\n"
     ]
    }
   ],
   "source": [
    "arr = np.array([12,43,3,90,6,7,778])\n",
    "print(\"Before append :\",arr)\n",
    "arr = np.append(arr,[1,2,3])\n",
    "print(\"After append :\",arr)\n"
   ]
  },
  {
   "cell_type": "code",
   "execution_count": 15,
   "metadata": {},
   "outputs": [
    {
     "name": "stdout",
     "output_type": "stream",
     "text": [
      "Appending Row \n",
      "Before append :\n",
      " [[ 12  43   3]\n",
      " [ 90   6   7]\n",
      " [778  76   4]]\n",
      "After append :\n",
      " [[ 12  43   3]\n",
      " [ 90   6   7]\n",
      " [778  76   4]\n",
      " [  1   2   3]]\n"
     ]
    }
   ],
   "source": [
    "print('Appending Row ')\n",
    "arr = np.array([12,43,3,90,6,7,778,76,4]).reshape(3,3)\n",
    "print(\"Before append :\\n\",arr)\n",
    "arr = np.append(arr,[[1,2,3]],axis=0)\n",
    "print(\"After append :\\n\",arr)\n"
   ]
  },
  {
   "cell_type": "code",
   "execution_count": 14,
   "metadata": {},
   "outputs": [
    {
     "name": "stdout",
     "output_type": "stream",
     "text": [
      "Appending Coulmn \n",
      "Before append :\n",
      " [[ 12  43   3]\n",
      " [ 90   6   7]\n",
      " [778  76   4]]\n",
      "After append :\n",
      " [[ 12  43   3   1]\n",
      " [ 90   6   7   2]\n",
      " [778  76   4   3]]\n"
     ]
    }
   ],
   "source": [
    "print(\"Appending Coulmn \")\n",
    "arr = np.array([12,43,3,90,6,7,778,76,4]).reshape(3,3)\n",
    "print(\"Before append :\\n\",arr)\n",
    "arr = np.append(arr,[[1],[2],[3]],axis=1)\n",
    "print(\"After append :\\n\",arr)\n"
   ]
  },
  {
   "cell_type": "code",
   "execution_count": 18,
   "metadata": {},
   "outputs": [
    {
     "name": "stdout",
     "output_type": "stream",
     "text": [
      "Appending Row \n",
      "Before append :\n",
      " [[ 12  43   3  90]\n",
      " [  6   7 778  76]\n",
      " [  4  11  43  66]]\n",
      "After append :\n",
      " [[ 12  43   3  90]\n",
      " [  6   7 778  76]\n",
      " [  4  11  43  66]\n",
      " [  1   2  12   3]]\n"
     ]
    }
   ],
   "source": [
    "print(\"Appending Row \")\n",
    "arr = np.array([12,43,3,90,6,7,778,76,4,11,43,66]).reshape(3,4)\n",
    "print(\"Before append :\\n\",arr)\n",
    "arr = np.append(arr,[[1,2,12,3]],axis=0)\n",
    "print(\"After append :\\n\",arr)\n"
   ]
  },
  {
   "cell_type": "code",
   "execution_count": 21,
   "metadata": {},
   "outputs": [
    {
     "name": "stdout",
     "output_type": "stream",
     "text": [
      "Before insert :\n",
      " [ 12  43   3  90   6   7 778  76   4]\n",
      "After insert :\n",
      " [ 12  43   3  12  34  90   6   7 778  76   4]\n"
     ]
    }
   ],
   "source": [
    "# insert()\n",
    "arr = np.array([12,43,3,90,6,7,778,76,4])\n",
    "print(\"Before insert :\\n\",arr)\n",
    "arr = np.insert(arr,3,[12,34])\n",
    "print(\"After insert :\\n\",arr)\n"
   ]
  },
  {
   "cell_type": "code",
   "execution_count": 22,
   "metadata": {},
   "outputs": [
    {
     "name": "stdout",
     "output_type": "stream",
     "text": [
      "Before insert :\n",
      " [ 12  43   3  90   6   7 778  76   4]\n",
      "After insert :\n",
      " [ 12  43  12   3  90  34   6   7 778  76   4]\n"
     ]
    }
   ],
   "source": [
    "# insert()\n",
    "arr = np.array([12,43,3,90,6,7,778,76,4])\n",
    "print(\"Before insert :\\n\",arr)\n",
    "arr = np.insert(arr,[2,4],[12,34])\n",
    "print(\"After insert :\\n\",arr)\n"
   ]
  },
  {
   "cell_type": "code",
   "execution_count": 23,
   "metadata": {},
   "outputs": [
    {
     "name": "stdout",
     "output_type": "stream",
     "text": [
      "Before insert :\n",
      " [ 12  43   3  90   6   7 778  76   4]\n",
      "After insert :\n",
      " [ 12  12  43   3  90   6   7 778  76  34   4]\n"
     ]
    }
   ],
   "source": [
    "# insert()\n",
    "arr = np.array([12,43,3,90,6,7,778,76,4])\n",
    "print(\"Before insert :\\n\",arr)\n",
    "arr = np.insert(arr,[0,-1],[12,34])\n",
    "print(\"After insert :\\n\",arr)\n"
   ]
  },
  {
   "cell_type": "code",
   "execution_count": 24,
   "metadata": {},
   "outputs": [
    {
     "name": "stdout",
     "output_type": "stream",
     "text": [
      "Before insert :\n",
      " [[ 12  43   3]\n",
      " [ 90   6   7]\n",
      " [778  76   4]]\n",
      "After insert :\n",
      " [[ 12  43   3]\n",
      " [ 12  34   2]\n",
      " [ 90   6   7]\n",
      " [778  76   4]]\n"
     ]
    }
   ],
   "source": [
    "# insert()\n",
    "print(\"Insert in row \")\n",
    "arr = np.array([12,43,3,90,6,7,778,76,4]).reshape(3,3)\n",
    "print(\"Before insert :\\n\",arr)\n",
    "arr = np.insert(arr,1,[[12,34,2]],axis=0)\n",
    "print(\"After insert :\\n\",arr)\n"
   ]
  },
  {
   "cell_type": "code",
   "execution_count": 26,
   "metadata": {},
   "outputs": [
    {
     "name": "stdout",
     "output_type": "stream",
     "text": [
      "Insert in Column \n",
      "Before insert :\n",
      " [[ 12  43   3]\n",
      " [ 90   6   7]\n",
      " [778  76   4]]\n",
      "After insert :\n",
      " [[ 12  11  43   3]\n",
      " [ 90  11   6   7]\n",
      " [778  11  76   4]]\n"
     ]
    }
   ],
   "source": [
    "# insert()\n",
    "print(\"Insert in Column \")\n",
    "arr = np.array([12,43,3,90,6,7,778,76,4]).reshape(3,3)\n",
    "print(\"Before insert :\\n\",arr)\n",
    "arr = np.insert(arr,1,[[11,11,11]],axis=1)\n",
    "print(\"After insert :\\n\",arr)\n"
   ]
  },
  {
   "cell_type": "code",
   "execution_count": 27,
   "metadata": {},
   "outputs": [
    {
     "name": "stdout",
     "output_type": "stream",
     "text": [
      "Insert in Column \n",
      "Before insert :\n",
      " [[ 12  43   3]\n",
      " [ 90   6   7]\n",
      " [778  76   4]]\n",
      "After insert :\n",
      " [[ 12  43  85   3]\n",
      " [ 90   6  90   7]\n",
      " [778  76 121   4]]\n"
     ]
    }
   ],
   "source": [
    "# insert()\n",
    "print(\"Insert in Column \")\n",
    "arr = np.array([12,43,3,90,6,7,778,76,4]).reshape(3,3)\n",
    "print(\"Before insert :\\n\",arr)\n",
    "arr = np.insert(arr,2,[[85,90,121]],axis=1)\n",
    "print(\"After insert :\\n\",arr)\n"
   ]
  },
  {
   "cell_type": "code",
   "execution_count": 31,
   "metadata": {},
   "outputs": [
    {
     "name": "stdout",
     "output_type": "stream",
     "text": [
      "Insert in Row \n",
      "Before insert :\n",
      " [[ 12  43   3]\n",
      " [ 90   6   7]\n",
      " [778  76   4]]\n",
      "After insert :\n",
      " [[  1   1   1]\n",
      " [ 12  43   3]\n",
      " [ 90   6   7]\n",
      " [ 11  11  11]\n",
      " [778  76   4]]\n"
     ]
    }
   ],
   "source": [
    "# insert()\n",
    "print(\"Insert in Row \")\n",
    "arr = np.array([12,43,3,90,6,7,778,76,4]).reshape(3,3)\n",
    "print(\"Before insert :\\n\",arr)\n",
    "arr = np.insert(arr,[0,2],[[1,1,1],[11,11,11]],axis=0)\n",
    "print(\"After insert :\\n\",arr)\n"
   ]
  },
  {
   "cell_type": "code",
   "execution_count": 39,
   "metadata": {},
   "outputs": [
    {
     "name": "stdout",
     "output_type": "stream",
     "text": [
      "Insert in Column \n",
      "Before insert :\n",
      " [[12 43 33]\n",
      " [ 3 90  6]]\n",
      "After insert :\n",
      " [[ 1 12  1 43 33]\n",
      " [11  3 11 90  6]]\n"
     ]
    }
   ],
   "source": [
    "# insert()\n",
    "print(\"Insert in Column \")\n",
    "arr = np.array([12,43,33,3,90,6]).reshape(2,3)\n",
    "print(\"Before insert :\\n\",arr)\n",
    "arr = np.insert(arr,[0,1],[[1,1],[11,11]],axis=1)\n",
    "print(\"After insert :\\n\",arr)\n"
   ]
  },
  {
   "cell_type": "code",
   "execution_count": 42,
   "metadata": {},
   "outputs": [
    {
     "name": "stdout",
     "output_type": "stream",
     "text": [
      "Insert in Column \n",
      "Before insert :\n",
      " [[ 12  43   3]\n",
      " [ 90   6   7]\n",
      " [778  76   4]]\n",
      "After insert :\n",
      " [[  1  12   1  43   1   3]\n",
      " [ 11  90  11   6  11   7]\n",
      " [  2 778   2  76   2   4]]\n"
     ]
    }
   ],
   "source": [
    "# insert()\n",
    "print(\"Insert in Column \")\n",
    "arr = np.array([12,43,3,90,6,7,778,76,4]).reshape(3,3)\n",
    "print(\"Before insert :\\n\",arr)\n",
    "arr = np.insert(arr,[0,1,2],[[1,1,1,],[11,11,11],[2,2,2]],axis=1)\n",
    "print(\"After insert :\\n\",arr)\n"
   ]
  },
  {
   "cell_type": "code",
   "execution_count": 43,
   "metadata": {},
   "outputs": [
    {
     "name": "stdout",
     "output_type": "stream",
     "text": [
      "Insert in Column \n",
      "Before insert :\n",
      " [12 43 33  3 90  6]\n",
      "After delete :\n",
      " [12 43  3 90  6]\n"
     ]
    }
   ],
   "source": [
    "# delete()\n",
    "\n",
    "print(\"Delete in matrix \")\n",
    "arr = np.array([12,43,33,3,90,6])\n",
    "print(\"Before delete :\\n\",arr)\n",
    "arr = np.delete(arr,2)\n",
    "print(\"After delete :\\n\",arr)\n"
   ]
  },
  {
   "cell_type": "code",
   "execution_count": 44,
   "metadata": {},
   "outputs": [
    {
     "name": "stdout",
     "output_type": "stream",
     "text": [
      "Delete in matrix \n",
      "Before delete :\n",
      " [12 43 33  3 90  6]\n",
      "After delete :\n",
      " [12 43 33  3  6]\n"
     ]
    }
   ],
   "source": [
    "# delete()\n",
    "\n",
    "print(\"Delete in matrix \")\n",
    "arr = np.array([12,43,33,3,90,6])\n",
    "print(\"Before delete :\\n\",arr)\n",
    "arr = np.delete(arr,-2)\n",
    "print(\"After delete :\\n\",arr)\n"
   ]
  },
  {
   "cell_type": "code",
   "execution_count": 46,
   "metadata": {},
   "outputs": [
    {
     "name": "stdout",
     "output_type": "stream",
     "text": [
      "Delete Multiple element in matrix \n",
      "Before delete :\n",
      " [12 43 33  3 90  6]\n",
      "After delete :\n",
      " [12 43 33]\n"
     ]
    }
   ],
   "source": [
    "# delete()\n",
    "\n",
    "print(\"Delete Multiple element in matrix \")\n",
    "arr = np.array([12,43,33,3,90,6])\n",
    "print(\"Before delete :\\n\",arr)\n",
    "arr = np.delete(arr,[-1,3,-2])\n",
    "print(\"After delete :\\n\",arr)\n"
   ]
  },
  {
   "cell_type": "code",
   "execution_count": 51,
   "metadata": {},
   "outputs": [
    {
     "name": "stdout",
     "output_type": "stream",
     "text": [
      "Delete in matrix \n",
      "Before delete :\n",
      " [[12 43]\n",
      " [33  3]\n",
      " [90  6]]\n",
      "After delete :\n",
      " [[33  3]\n",
      " [90  6]]\n"
     ]
    }
   ],
   "source": [
    "# delete()\n",
    "\n",
    "print(\"Delete row in matrix \")\n",
    "arr = np.array([12,43,33,3,90,6]).reshape(3,2)\n",
    "print(\"Before delete :\\n\",arr)\n",
    "arr = np.delete(arr,0,axis=0)\n",
    "print(\"After delete :\\n\",arr)\n"
   ]
  },
  {
   "cell_type": "code",
   "execution_count": 52,
   "metadata": {},
   "outputs": [
    {
     "name": "stdout",
     "output_type": "stream",
     "text": [
      "Delete col in matrix \n",
      "Before delete :\n",
      " [[12 43]\n",
      " [33  3]\n",
      " [90  6]]\n",
      "After delete :\n",
      " [[43]\n",
      " [ 3]\n",
      " [ 6]]\n"
     ]
    }
   ],
   "source": [
    "# delete()\n",
    "\n",
    "print(\"Delete col in matrix \")\n",
    "arr = np.array([12,43,33,3,90,6]).reshape(3,2)\n",
    "print(\"Before delete :\\n\",arr)\n",
    "arr = np.delete(arr,0,axis=1)\n",
    "print(\"After delete :\\n\",arr)\n"
   ]
  },
  {
   "cell_type": "code",
   "execution_count": null,
   "metadata": {},
   "outputs": [],
   "source": []
  }
 ],
 "metadata": {
  "kernelspec": {
   "display_name": "Python 3",
   "language": "python",
   "name": "python3"
  },
  "language_info": {
   "codemirror_mode": {
    "name": "ipython",
    "version": 3
   },
   "file_extension": ".py",
   "mimetype": "text/x-python",
   "name": "python",
   "nbconvert_exporter": "python",
   "pygments_lexer": "ipython3",
   "version": "3.11.9"
  }
 },
 "nbformat": 4,
 "nbformat_minor": 2
}
