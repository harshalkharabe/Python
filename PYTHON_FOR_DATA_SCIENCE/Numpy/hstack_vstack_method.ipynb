{
 "cells": [
  {
   "cell_type": "code",
   "execution_count": null,
   "id": "84f50803-bb52-4457-8156-95ce69393320",
   "metadata": {},
   "outputs": [],
   "source": [
    "# hstack() -- Horizontal stack (stacking means merging)\n",
    "# syntax = var_name = numpy.hstack((ndarray1,ndarray2)) --> no.of.rows must be same "
   ]
  },
  {
   "cell_type": "code",
   "execution_count": 91,
   "id": "ab2429a3-facd-417e-8e5e-69083fd45dd1",
   "metadata": {},
   "outputs": [
    {
     "name": "stdout",
     "output_type": "stream",
     "text": [
      "Element befor merging : [0 1 2 3 4 5 6 7 8]\n",
      "Element befor merging : [10 20 30 40 50 60 70 80 90]\n",
      "Element after horizontal(row) merging : [ 0  1  2  3  4  5  6  7  8 10 20 30 40 50 60 70 80 90]\n",
      "Dimension of arr3 :  1\n",
      "Shape of arr3 :  (18,)\n"
     ]
    }
   ],
   "source": [
    "import numpy as np\n",
    "arr1 = np.arange(9)\n",
    "arr2 = np.array([10,20,30,40,50,60,70,80,90])\n",
    "print(\"Element befor merging :\",arr1)\n",
    "print(\"Element befor merging :\",arr2)\n",
    "arr3 = np.hstack((arr1,arr2))\n",
    "print(\"Element after horizontal(row) merging :\",arr3)\n",
    "print(\"Dimension of arr3 : \",arr3.ndim)\n",
    "print(\"Shape of arr3 : \",arr3.shape)"
   ]
  },
  {
   "cell_type": "code",
   "execution_count": 89,
   "id": "de86331c-97ca-47e1-836c-805d17231eed",
   "metadata": {},
   "outputs": [
    {
     "name": "stdout",
     "output_type": "stream",
     "text": [
      "Element befor merging : [0 1 2 3 4 5 6 7 8]\n",
      "Element befor merging : [10 20 30 40 50 60 70 80 90]\n",
      "Element after horizontal(row) merging : [10 20 30 40 50 60 70 80 90  0  1  2  3  4  5  6  7  8]\n",
      "Dimension of arr3 :  1\n",
      "Shape of arr3 :  (18,)\n"
     ]
    }
   ],
   "source": [
    "arr1 = np.arange(9)\n",
    "arr2 = np.array([10,20,30,40,50,60,70,80,90])\n",
    "print(\"Element befor merging :\",arr1)\n",
    "print(\"Element befor merging :\",arr2)\n",
    "arr3 = np.hstack((arr2,arr1))\n",
    "print(\"Element after horizontal(row) merging :\",arr3)\n",
    "print(\"Dimension of arr3 : \",arr3.ndim)\n",
    "print(\"Shape of arr3 : \",arr3.shape)"
   ]
  },
  {
   "cell_type": "code",
   "execution_count": 87,
   "id": "83fe6fd1-a3f6-4997-91af-c59c0e3a6b2a",
   "metadata": {},
   "outputs": [
    {
     "name": "stdout",
     "output_type": "stream",
     "text": [
      "Element befor merging : [[0 1 2]\n",
      " [3 4 5]\n",
      " [6 7 8]]\n",
      "Element befor merging : [[10 20 30]\n",
      " [40 50 60]\n",
      " [70 80 90]]\n",
      "Element after horizontal(row) merging : [[ 0  1  2 10 20 30]\n",
      " [ 3  4  5 40 50 60]\n",
      " [ 6  7  8 70 80 90]]\n",
      "Dimension of arr3 :  2\n",
      "Shape of arr3 :  (3, 6)\n"
     ]
    }
   ],
   "source": [
    "arr1 = np.arange(9).reshape(3,3)\n",
    "arr2 = np.array([10,20,30,40,50,60,70,80,90]).reshape(3,3)\n",
    "print(\"Element befor merging :\",arr1)\n",
    "print(\"Element befor merging :\",arr2)\n",
    "arr3 = np.hstack((arr1,arr2))\n",
    "print(\"Element after horizontal(row) merging :\",arr3)\n",
    "print(\"Dimension of arr3 : \",arr3.ndim)\n",
    "print(\"Shape of arr3 : \",arr3.shape)"
   ]
  },
  {
   "cell_type": "code",
   "execution_count": 83,
   "id": "8571f52b-845d-4c56-8990-8d0e22c25ea7",
   "metadata": {},
   "outputs": [
    {
     "name": "stdout",
     "output_type": "stream",
     "text": [
      "Element befor merging : [[0 1]\n",
      " [2 3]\n",
      " [4 5]\n",
      " [6 7]\n",
      " [8 9]]\n",
      "Element befor merging : [[ 10  20  30]\n",
      " [ 40  50  60]\n",
      " [ 70  80  90]\n",
      " [100 110 120]\n",
      " [130 140 150]]\n",
      "Element after horizontal(row) merging : [[  0   1  10  20  30]\n",
      " [  2   3  40  50  60]\n",
      " [  4   5  70  80  90]\n",
      " [  6   7 100 110 120]\n",
      " [  8   9 130 140 150]]\n",
      "Dimension of arr3 :  2\n",
      "Shape of arr3 :  (5, 5)\n"
     ]
    }
   ],
   "source": [
    "arr1 = np.arange(10).reshape(5,2)\n",
    "arr2 = np.array([10,20,30,40,50,60,70,80,90,100,110,120,130,140,150]).reshape(5,3)\n",
    "print(\"Element befor merging :\",arr1)\n",
    "print(\"Element befor merging :\",arr2)\n",
    "arr3 = np.hstack((arr1,arr2))\n",
    "print(\"Element after horizontal(row) merging :\",arr3)\n",
    "print(\"Dimension of arr3 : \",arr3.ndim)\n",
    "print(\"Shape of arr3 : \",arr3.shape)"
   ]
  },
  {
   "cell_type": "code",
   "execution_count": null,
   "id": "45a3ff50-401d-47d1-abe1-122b6b2e72c9",
   "metadata": {},
   "outputs": [],
   "source": [
    "# vstack() method -- Vertical stack (stacking means merging)\n",
    "# syntax = var_name = numpy.vstack((arr1,arr2))  -- no.of.columns must be same"
   ]
  },
  {
   "cell_type": "code",
   "execution_count": 81,
   "id": "b882ee53-22a3-4d36-98ad-813c76107c4c",
   "metadata": {},
   "outputs": [
    {
     "name": "stdout",
     "output_type": "stream",
     "text": [
      "Element befor merging : [0 1 2 3 4 5 6 7 8]\n",
      "Element befor merging : [10 20 30 40 50 60 70 80 90]\n",
      "Element after vertical(column) merging : [[ 0  1  2  3  4  5  6  7  8]\n",
      " [10 20 30 40 50 60 70 80 90]]\n",
      "Dimension of arr3 :  2\n",
      "Shape of arr3 :  (2, 9)\n"
     ]
    }
   ],
   "source": [
    "import numpy as np\n",
    "arr1 = np.arange(9)\n",
    "arr2 = np.array([10,20,30,40,50,60,70,80,90])\n",
    "print(\"Element befor merging :\",arr1)\n",
    "print(\"Element befor merging :\",arr2)\n",
    "arr3 = np.vstack((arr1,arr2))\n",
    "print(\"Element after vertical(column) merging :\",arr3)\n",
    "print(\"Dimension of arr3 : \",arr3.ndim)\n",
    "print(\"Shape of arr3 : \",arr3.shape)"
   ]
  },
  {
   "cell_type": "code",
   "execution_count": 77,
   "id": "0054a3e8-3b4e-4304-86f4-5c4914221ba0",
   "metadata": {},
   "outputs": [
    {
     "name": "stdout",
     "output_type": "stream",
     "text": [
      "Element befor merging : [[0 1 2]\n",
      " [3 4 5]\n",
      " [6 7 8]]\n",
      "Element befor merging : [[10 20 30]\n",
      " [40 50 60]\n",
      " [70 80 90]]\n",
      "Element after vertical(column) merging : [[ 0  1  2]\n",
      " [ 3  4  5]\n",
      " [ 6  7  8]\n",
      " [10 20 30]\n",
      " [40 50 60]\n",
      " [70 80 90]]\n",
      "Dimension of arr3 :  2\n",
      "Shape of arr3 :  (6, 3)\n"
     ]
    }
   ],
   "source": [
    "# import numpy as np\n",
    "arr1 = np.arange(9).reshape(3,3)\n",
    "arr2 = np.array([10,20,30,40,50,60,70,80,90]).reshape(3,3)\n",
    "print(\"Element befor merging :\",arr1)\n",
    "print(\"Element befor merging :\",arr2)\n",
    "arr3 = np.vstack((arr1,arr2))\n",
    "print(\"Element after vertical(column) merging :\",arr3)\n",
    "print(\"Dimension of arr3 : \",arr3.ndim)\n",
    "print(\"Shape of arr3 : \",arr3.shape)"
   ]
  },
  {
   "cell_type": "code",
   "execution_count": 93,
   "id": "77eb0188-8c76-427b-aad7-a8700e4ca1d3",
   "metadata": {},
   "outputs": [
    {
     "name": "stdout",
     "output_type": "stream",
     "text": [
      "Element befor merging : [[0 1 2]\n",
      " [3 4 5]\n",
      " [6 7 8]]\n",
      "Element befor merging : [[10 20 30]\n",
      " [40 50 60]\n",
      " [70 80 90]]\n",
      "Element after vertical(column) merging : [[10 20 30]\n",
      " [40 50 60]\n",
      " [70 80 90]\n",
      " [ 0  1  2]\n",
      " [ 3  4  5]\n",
      " [ 6  7  8]]\n",
      "Dimension of arr3 :  2\n",
      "Shape of arr3 :  (6, 3)\n"
     ]
    }
   ],
   "source": [
    "arr1 = np.arange(9).reshape(3,3)\n",
    "arr2 = np.array([10,20,30,40,50,60,70,80,90]).reshape(3,3)\n",
    "print(\"Element befor merging :\",arr1)\n",
    "print(\"Element befor merging :\",arr2)\n",
    "arr3 = np.vstack((arr2,arr1))\n",
    "print(\"Element after vertical(column) merging :\",arr3)\n",
    "print(\"Dimension of arr3 : \",arr3.ndim)\n",
    "print(\"Shape of arr3 : \",arr3.shape)"
   ]
  },
  {
   "cell_type": "code",
   "execution_count": null,
   "id": "8163bed1-1b6a-4781-bc51-86f8e2fceaea",
   "metadata": {},
   "outputs": [],
   "source": []
  }
 ],
 "metadata": {
  "kernelspec": {
   "display_name": "Python [conda env:base] *",
   "language": "python",
   "name": "conda-base-py"
  },
  "language_info": {
   "codemirror_mode": {
    "name": "ipython",
    "version": 3
   },
   "file_extension": ".py",
   "mimetype": "text/x-python",
   "name": "python",
   "nbconvert_exporter": "python",
   "pygments_lexer": "ipython3",
   "version": "3.12.7"
  }
 },
 "nbformat": 4,
 "nbformat_minor": 5
}
