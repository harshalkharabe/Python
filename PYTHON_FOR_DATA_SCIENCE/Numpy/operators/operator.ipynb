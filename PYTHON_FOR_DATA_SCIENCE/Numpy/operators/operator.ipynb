{
 "cells": [
  {
   "cell_type": "code",
   "execution_count": 2,
   "metadata": {},
   "outputs": [
    {
     "name": "stdout",
     "output_type": "stream",
     "text": [
      "Array 1 : \n",
      " [[28 64  2 46]\n",
      " [14 37 71 81]]\n",
      "Array 2 : \n",
      " [[29 82 76 82]\n",
      " [43 50 21 13]]\n",
      "Addition : [[ 57 146  78 128]\n",
      " [ 57  87  92  94]]\n"
     ]
    }
   ],
   "source": [
    "# Operators\n",
    "\n",
    "# Addition()\n",
    "import numpy as np\n",
    "arr1 = np.random.randint(2,90,size=(2,4))\n",
    "arr2 = np.random.randint(2,90,size=(2,4))\n",
    "print(\"Array 1 : \\n\", arr1)\n",
    "print(\"Array 2 : \\n\", arr2)\n",
    "arr3 = np.add(arr1,arr2)\n",
    "print(\"Addition :\",arr3)"
   ]
  },
  {
   "cell_type": "code",
   "execution_count": 3,
   "metadata": {},
   "outputs": [
    {
     "name": "stdout",
     "output_type": "stream",
     "text": [
      "Array 1 : \n",
      " [[35 49 82 52]\n",
      " [54  8 81 35]]\n",
      "Array 2 : \n",
      " [[41 87 77 89]\n",
      " [67 38 24 22]]\n",
      "Substraction : [[ -6 -38   5 -37]\n",
      " [-13 -30  57  13]]\n"
     ]
    }
   ],
   "source": [
    "# Operators\n",
    "\n",
    "# Substract()\n",
    "import numpy as np\n",
    "arr1 = np.random.randint(2,90,size=(2,4))\n",
    "arr2 = np.random.randint(2,90,size=(2,4))\n",
    "print(\"Array 1 : \\n\", arr1)\n",
    "print(\"Array 2 : \\n\", arr2)\n",
    "arr3 = np.subtract(arr1,arr2)\n",
    "print(\"Substraction :\",arr3)"
   ]
  },
  {
   "cell_type": "code",
   "execution_count": 6,
   "metadata": {},
   "outputs": [
    {
     "name": "stdout",
     "output_type": "stream",
     "text": [
      "Array 1 : \n",
      " [[ 4 71 66 18]\n",
      " [53 36 73 21]]\n",
      "Array 2 : \n",
      " [[66 85 28 32]\n",
      " [60 59 89 64]]\n",
      "Multiply : [[ 264 6035 1848  576]\n",
      " [3180 2124 6497 1344]]\n"
     ]
    }
   ],
   "source": [
    "# Operators\n",
    "\n",
    "# Multiply()\n",
    "import numpy as np\n",
    "arr1 = np.random.randint(2,90,size=(2,4))\n",
    "arr2 = np.random.randint(2,90,size=(2,4))\n",
    "print(\"Array 1 : \\n\", arr1)\n",
    "print(\"Array 2 : \\n\", arr2)\n",
    "arr3 = np.multiply(arr1,arr2)\n",
    "print(\"Multiply :\",arr3)"
   ]
  },
  {
   "cell_type": "code",
   "execution_count": 4,
   "metadata": {},
   "outputs": [
    {
     "name": "stdout",
     "output_type": "stream",
     "text": [
      "Array 1 : \n",
      " [[28 56 59 27]\n",
      " [79 89  9 29]]\n",
      "Array 2 : \n",
      " [[63  9 69 38]\n",
      " [87 80 19  5]]\n",
      "Array 3 : \n",
      " [[ 91  65 128  65]\n",
      " [166 169  28  34]]\n",
      "Array 4 : \n",
      " [[-35  47 -10 -11]\n",
      " [ -8   9 -10  24]]\n",
      "Multiply : [[1764  504 4071 1026]\n",
      " [6873 7120  171  145]]\n"
     ]
    }
   ],
   "source": [
    "# Operators\n",
    "\n",
    "import numpy as np\n",
    "arr1 = np.random.randint(2,90,size=(2,4))\n",
    "arr2 = np.random.randint(2,90,size=(2,4))\n",
    "print(\"Array 1 : \\n\", arr1)\n",
    "print(\"Array 2 : \\n\", arr2)\n",
    "arr3 = np.add(arr1,arr2)\n",
    "print(\"Array 3 : \\n\", arr3)\n",
    "arr4 = np.subtract(arr1,arr2)\n",
    "print(\"Array 4 : \\n\", arr4)\n",
    "arr5 = np.multiply(arr1,arr2)\n",
    "print(\"Multiply :\",arr5)"
   ]
  },
  {
   "cell_type": "code",
   "execution_count": 12,
   "metadata": {},
   "outputs": [
    {
     "name": "stdout",
     "output_type": "stream",
     "text": [
      "original :\n",
      " [[2 4]\n",
      " [3 5]]\n",
      "original :\n",
      " [[5 6]\n",
      " [7 8]]\n",
      "Dot product of array is :\n",
      " [[38 44]\n",
      " [50 58]]\n",
      "Dot product of array is :\n",
      " [[38 44]\n",
      " [50 58]]\n"
     ]
    }
   ],
   "source": [
    "# Operator\n",
    "\n",
    "# each row of first matrix multiply with each column of second matrix\n",
    "# dot()\n",
    "# matmul()\n",
    "# [[2,4],[3,5]] [[5,6],[7,8]]--->[[2*5+7*4  2*6+4*8],[3*5+7*5  3*6+8*5]]\n",
    "arr1 = np.array([2,4,3,5]).reshape(2,2)\n",
    "arr2 = np.array([5,6,7,8]).reshape(2,2)\n",
    "print(\"original :\\n\",arr1)\n",
    "print(\"original :\\n\",arr2)\n",
    "print(\"Dot product of array is :\\n\",np.dot(arr1,arr2))\n",
    "print(\"Dot product of array is :\\n\",np.matmul(arr1,arr2))"
   ]
  },
  {
   "cell_type": "code",
   "execution_count": 19,
   "metadata": {},
   "outputs": [
    {
     "name": "stdout",
     "output_type": "stream",
     "text": [
      "original :\n",
      " [[44 75]\n",
      " [44 39]]\n",
      "original :\n",
      " [[2 2]\n",
      " [2 2]]\n",
      "Dot product of array is :\n",
      " [[238 238]\n",
      " [166 166]]\n",
      "Dot product of array is :\n",
      " [[238 238]\n",
      " [166 166]]\n"
     ]
    }
   ],
   "source": [
    "# Operator\n",
    "\n",
    "# each row of first matrix multiply with each column of second matrix\n",
    "# dot()\n",
    "# matmul()\n",
    "# [[2,4],[3,5]] [[5,6],[7,8]]--->[[2*5+7*4  2*6+4*8],[3*5+7*5  3*6+8*5]]\n",
    "arr1 = np.random.randint(23,99,size=(2,2))\n",
    "arr2 = np.random.randint(2,3,size=(2,2))\n",
    "print(\"original :\\n\",arr1)\n",
    "print(\"original :\\n\",arr2)\n",
    "print(\"Dot product of array is :\\n\",np.dot(arr1,arr2))\n",
    "print(\"Dot product of array is :\\n\",np.matmul(arr1,arr2))"
   ]
  },
  {
   "cell_type": "code",
   "execution_count": 20,
   "metadata": {},
   "outputs": [
    {
     "name": "stdout",
     "output_type": "stream",
     "text": [
      "[10. 10. 10. 10. 10.]\n"
     ]
    }
   ],
   "source": [
    "# operator\n",
    "\n",
    "# division()\n",
    "arr1 = np.array([10, 20, 30, 40, 50])\n",
    "arr2 = np.array([1, 2, 3, 4, 5])\n",
    "print(np.divide(arr1, arr2))  # Output: [10.  10."
   ]
  },
  {
   "cell_type": "code",
   "execution_count": 21,
   "metadata": {},
   "outputs": [
    {
     "name": "stdout",
     "output_type": "stream",
     "text": [
      "[[10. 10.]\n",
      " [10. 10.]]\n"
     ]
    }
   ],
   "source": [
    "# operator\n",
    "\n",
    "# division()\n",
    "arr1 = np.array([10, 20, 30, 40]).reshape(2,2)\n",
    "arr2 = np.array([1, 2, 3, 4]).reshape(2,2)\n",
    "print(np.divide(arr1, arr2)) "
   ]
  },
  {
   "cell_type": "code",
   "execution_count": 22,
   "metadata": {},
   "outputs": [
    {
     "name": "stdout",
     "output_type": "stream",
     "text": [
      "[[10 10]\n",
      " [10 10]]\n"
     ]
    }
   ],
   "source": [
    "# operator\n",
    "\n",
    "# floor_division()\n",
    "arr1 = np.array([10, 20, 30, 40]).reshape(2,2)\n",
    "arr2 = np.array([1, 2, 3, 4]).reshape(2,2)\n",
    "print(np.floor_divide(arr1, arr2))"
   ]
  },
  {
   "cell_type": "code",
   "execution_count": 23,
   "metadata": {},
   "outputs": [
    {
     "name": "stdout",
     "output_type": "stream",
     "text": [
      "[[0 0]\n",
      " [0 0]]\n"
     ]
    }
   ],
   "source": [
    "# operator\n",
    "\n",
    "# mod()\n",
    "arr1 = np.array([10, 20, 30, 40]).reshape(2,2)\n",
    "arr2 = np.array([1, 2, 3, 4]).reshape(2,2)\n",
    "print(np.mod(arr1, arr2))  # Output: [10.  10."
   ]
  },
  {
   "cell_type": "code",
   "execution_count": 28,
   "metadata": {},
   "outputs": [
    {
     "name": "stdout",
     "output_type": "stream",
     "text": [
      "[[90 73]\n",
      " [47 48]]\n",
      "[[16 38]\n",
      " [61 37]]\n",
      "[[10 35]\n",
      " [47 11]]\n"
     ]
    }
   ],
   "source": [
    "# operator\n",
    "\n",
    "# mod()\n",
    "arr1 = np.random.randint(23,99,size=(2,2))\n",
    "arr2 = np.random.randint(12,77,size=(2,2))\n",
    "print(arr1,arr2,sep='\\n')\n",
    "print(np.mod(arr1, arr2))  # Output: [10.  10."
   ]
  },
  {
   "cell_type": "code",
   "execution_count": 33,
   "metadata": {},
   "outputs": [
    {
     "name": "stdout",
     "output_type": "stream",
     "text": [
      "[[15 14]\n",
      " [14 18]]\n",
      "[[2 2]\n",
      " [2 2]]\n",
      "[[225 196]\n",
      " [196 324]]\n"
     ]
    }
   ],
   "source": [
    "# operator\n",
    "\n",
    "# power()\n",
    "arr1 = np.random.randint(11,19,size=(2,2))\n",
    "arr2 = np.random.randint(2,3,size=(2,2))\n",
    "print(arr1,arr2,sep='\\n')\n",
    "print(np.power(arr1, arr2))  # Output: [10.  10."
   ]
  },
  {
   "cell_type": "code",
   "execution_count": null,
   "metadata": {},
   "outputs": [],
   "source": []
  }
 ],
 "metadata": {
  "kernelspec": {
   "display_name": "Python 3",
   "language": "python",
   "name": "python3"
  },
  "language_info": {
   "codemirror_mode": {
    "name": "ipython",
    "version": 3
   },
   "file_extension": ".py",
   "mimetype": "text/x-python",
   "name": "python",
   "nbconvert_exporter": "python",
   "pygments_lexer": "ipython3",
   "version": "3.11.9"
  }
 },
 "nbformat": 4,
 "nbformat_minor": 2
}
