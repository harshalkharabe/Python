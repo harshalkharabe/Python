{
 "cells": [
  {
   "cell_type": "code",
   "execution_count": 5,
   "metadata": {},
   "outputs": [
    {
     "name": "stdout",
     "output_type": "stream",
     "text": [
      "Array 1 : \n",
      " [[11 46 64 72]\n",
      " [71 24 38 44]]\n",
      "Array 2 : \n",
      " [[71 59 80  9]\n",
      " [43 72 52 65]]\n",
      "Addition : [[ 82 105 144  81]\n",
      " [114  96  90 109]]\n"
     ]
    }
   ],
   "source": [
    "# Operators\n",
    "\n",
    "import numpy as np\n",
    "arr1 = np.random.randint(2,90,size=(2,4))\n",
    "arr2 = np.random.randint(2,90,size=(2,4))\n",
    "print(\"Array 1 : \\n\", arr1)\n",
    "print(\"Array 2 : \\n\", arr2)\n",
    "arr3 = np.add(arr1,arr2)\n",
    "print(\"Addition :\",arr3)"
   ]
  },
  {
   "cell_type": "code",
   "execution_count": 3,
   "metadata": {},
   "outputs": [
    {
     "name": "stdout",
     "output_type": "stream",
     "text": [
      "Array 1 : \n",
      " [[42 13 89 47]\n",
      " [57  6 34 38]]\n",
      "Array 2 : \n",
      " [[18 18  5 30]\n",
      " [26 22 80 86]]\n",
      "Substraction : [[ 24  -5  84  17]\n",
      " [ 31 -16 -46 -48]]\n"
     ]
    }
   ],
   "source": [
    "# Operators\n",
    "\n",
    "import numpy as np\n",
    "arr1 = np.random.randint(2,90,size=(2,4))\n",
    "arr2 = np.random.randint(2,90,size=(2,4))\n",
    "print(\"Array 1 : \\n\", arr1)\n",
    "print(\"Array 2 : \\n\", arr2)\n",
    "arr3 = np.subtract(arr1,arr2)\n",
    "print(\"Substraction :\",arr3)"
   ]
  },
  {
   "cell_type": "code",
   "execution_count": 6,
   "metadata": {},
   "outputs": [
    {
     "name": "stdout",
     "output_type": "stream",
     "text": [
      "Array 1 : \n",
      " [[ 4 71 66 18]\n",
      " [53 36 73 21]]\n",
      "Array 2 : \n",
      " [[66 85 28 32]\n",
      " [60 59 89 64]]\n",
      "Multiply : [[ 264 6035 1848  576]\n",
      " [3180 2124 6497 1344]]\n"
     ]
    }
   ],
   "source": [
    "# Operators\n",
    "\n",
    "import numpy as np\n",
    "arr1 = np.random.randint(2,90,size=(2,4))\n",
    "arr2 = np.random.randint(2,90,size=(2,4))\n",
    "print(\"Array 1 : \\n\", arr1)\n",
    "print(\"Array 2 : \\n\", arr2)\n",
    "arr3 = np.multiply(arr1,arr2)\n",
    "print(\"Multiply :\",arr3)"
   ]
  },
  {
   "cell_type": "code",
   "execution_count": 1,
   "metadata": {},
   "outputs": [
    {
     "name": "stdout",
     "output_type": "stream",
     "text": [
      "Array 1 : \n",
      " [[77 15 25 73]\n",
      " [58 23 69 26]]\n",
      "Array 2 : \n",
      " [[54 52 71 45]\n",
      " [38 49 81 42]]\n",
      "Array 3 : \n",
      " [[131  67  96 118]\n",
      " [ 96  72 150  68]]\n",
      "Array 4 : \n",
      " [[ 23 -37 -46  28]\n",
      " [ 20 -26 -12 -16]]\n",
      "Multiply : [[4158  780 1775 3285]\n",
      " [2204 1127 5589 1092]]\n"
     ]
    }
   ],
   "source": [
    "# Operators\n",
    "\n",
    "import numpy as np\n",
    "arr1 = np.random.randint(2,90,size=(2,4))\n",
    "arr2 = np.random.randint(2,90,size=(2,4))\n",
    "print(\"Array 1 : \\n\", arr1)\n",
    "print(\"Array 2 : \\n\", arr2)\n",
    "arr3 = np.add(arr1,arr2)\n",
    "print(\"Array 3 : \\n\", arr3)\n",
    "arr4 = np.subtract(arr1,arr2)\n",
    "print(\"Array 4 : \\n\", arr4)\n",
    "arr5 = np.multiply(arr1,arr2)\n",
    "print(\"Multiply :\",arr5)"
   ]
  },
  {
   "cell_type": "code",
   "execution_count": null,
   "metadata": {},
   "outputs": [],
   "source": []
  }
 ],
 "metadata": {
  "kernelspec": {
   "display_name": "Python 3",
   "language": "python",
   "name": "python3"
  },
  "language_info": {
   "codemirror_mode": {
    "name": "ipython",
    "version": 3
   },
   "file_extension": ".py",
   "mimetype": "text/x-python",
   "name": "python",
   "nbconvert_exporter": "python",
   "pygments_lexer": "ipython3",
   "version": "3.11.9"
  }
 },
 "nbformat": 4,
 "nbformat_minor": 2
}
