{
 "cells": [
  {
   "cell_type": "code",
   "execution_count": 1,
   "metadata": {},
   "outputs": [
    {
     "name": "stdout",
     "output_type": "stream",
     "text": [
      "Copy and View in numpy\n"
     ]
    }
   ],
   "source": [
    "print(\"Copy and View in numpy\")"
   ]
  },
  {
   "cell_type": "code",
   "execution_count": 2,
   "metadata": {},
   "outputs": [
    {
     "name": "stdout",
     "output_type": "stream",
     "text": [
      "Content of a : [ 3 20 37 54 71 88]\n",
      "Type of a : <class 'numpy.ndarray'>\n",
      "Id of a : 2787849234416\n"
     ]
    }
   ],
   "source": [
    "import numpy as np\n",
    "arr = np.arange(3,90,17)\n",
    "print(f\"Content of a : {arr}\")\n",
    "print(f\"Type of a : {type(arr)}\")\n",
    "print(f\"Id of a : {id(arr)}\")"
   ]
  },
  {
   "cell_type": "code",
   "execution_count": 4,
   "metadata": {},
   "outputs": [
    {
     "name": "stdout",
     "output_type": "stream",
     "text": [
      "Content of a : [ 3 20 37 54 71 88]\n",
      "Type of a : <class 'numpy.ndarray'>\n",
      "Id of a : 2788105180272\n"
     ]
    }
   ],
   "source": [
    "# copy() method copy the ndarray content in another variable in different memory location\n",
    "l1 = arr.copy()\n",
    "print(f\"Content of a : {l1}\")\n",
    "print(f\"Type of a : {type(l1)}\")\n",
    "print(f\"Id of a : {id(l1)}\")"
   ]
  },
  {
   "cell_type": "code",
   "execution_count": 5,
   "metadata": {},
   "outputs": [
    {
     "name": "stdout",
     "output_type": "stream",
     "text": [
      "Content of a : [[82  2]\n",
      " [63 64]\n",
      " [18 19]]\n",
      "Type of a : <class 'numpy.ndarray'>\n",
      "Id of a : 2788105182576\n"
     ]
    }
   ],
   "source": [
    "arr = np.random.randint(2,90,size=(3,2))\n",
    "print(f\"Content of a : {arr}\")\n",
    "print(f\"Type of a : {type(arr)}\")\n",
    "print(f\"Id of a : {id(arr)}\")"
   ]
  },
  {
   "cell_type": "code",
   "execution_count": 7,
   "metadata": {},
   "outputs": [
    {
     "name": "stdout",
     "output_type": "stream",
     "text": [
      "Content of a : [[82  2]\n",
      " [63 64]\n",
      " [18 19]]\n",
      "Type of a : <class 'numpy.ndarray'>\n",
      "Id of a : 2788105182576\n"
     ]
    }
   ],
   "source": [
    "# another way of copy ndarray object \n",
    "l1 = np.copy(arr)\n",
    "print(f\"Content of a : {arr}\")\n",
    "print(f\"Type of a : {type(arr)}\")\n",
    "print(f\"Id of a : {id(arr)}\")"
   ]
  },
  {
   "cell_type": "code",
   "execution_count": 10,
   "metadata": {},
   "outputs": [
    {
     "name": "stdout",
     "output_type": "stream",
     "text": [
      "Content of arr : [[82  2]\n",
      " [63 64]\n",
      " [18 19]]\n",
      "Content of l1 : [[82  2]\n",
      " [63 64]\n",
      " [18 19]]\n",
      "Type of arr : <class 'numpy.ndarray'>\n",
      "type of l1 : <class 'numpy.ndarray'>\n",
      "Id of arr : 2788105182576\n",
      "Id of l1 : 2788105182576\n"
     ]
    }
   ],
   "source": [
    "# Deep copy of ndarray is nothing but alias name \n",
    "l1 = arr\n",
    "print(f\"Content of arr : {arr}\\nContent of l1 : {l1}\")  # Both are same\n",
    "print(f\"Type of arr : {type(arr)}\\ntype of l1 : {type(l1)}\")  # Both are same\n",
    "print(f\"Id of arr : {id(arr)}\\nId of l1 : {id(l1)}\")  # Both are same"
   ]
  },
  {
   "cell_type": "code",
   "execution_count": 15,
   "metadata": {},
   "outputs": [
    {
     "name": "stdout",
     "output_type": "stream",
     "text": [
      "Content of a : [53 23 66 62 65 36 81 42 58 66 85 62 61 23 42 38  6 26 54 42 40 84 23]\n",
      "Type of a : <class 'numpy.ndarray'>\n",
      "Id of a : 2788108914672\n"
     ]
    }
   ],
   "source": [
    "# View in numpy\n",
    "arr = np.random.randint(2,90,size=23)\n",
    "print(f\"Content of a : {arr}\")\n",
    "print(f\"Type of a : {type(arr)}\")\n",
    "print(f\"Id of a : {id(arr)}\")"
   ]
  },
  {
   "cell_type": "code",
   "execution_count": 16,
   "metadata": {},
   "outputs": [
    {
     "name": "stdout",
     "output_type": "stream",
     "text": [
      "Content of a : [53 23 66 62 65 36 81 42 58 66 85 62 61 23 42 38  6 26 54 42 40 84 23]\n",
      "Type of a : <class 'numpy.ndarray'>\n",
      "Id of a : 2787848868112\n"
     ]
    }
   ],
   "source": [
    "l1 = arr.view()\n",
    "print(f\"Content of a : {l1}\")\n",
    "print(f\"Type of a : {type(l1)}\")\n",
    "print(f\"Id of a : {id(l1)}\")"
   ]
  },
  {
   "cell_type": "code",
   "execution_count": 18,
   "metadata": {},
   "outputs": [
    {
     "name": "stdout",
     "output_type": "stream",
     "text": [
      "Content of arr : [35 23 66 62 65 36 81 42 58 66 85 62 61 23 42 38  6 26 54 42 40 84 23]\n",
      "Content of l1 : [35 23 66 62 65 36 81 42 58 66 85 62 61 23 42 38  6 26 54 42 40 84 23]\n",
      "Type of arr : <class 'numpy.ndarray'>\n",
      "Type of l1: <class 'numpy.ndarray'>\n",
      "Id of arr : 2788108914672\n",
      "Id of l1 : 2787848868112\n"
     ]
    }
   ],
   "source": [
    "arr[0]=35\n",
    "# the changes made in one array will be reflected in the other array\n",
    "print(f\"Content of arr : {arr}\\nContent of l1 : {l1}\")\n",
    "print(f\"Type of arr : {type(arr)}\\nType of l1: {type(l1)}\")\n",
    "print(f\"Id of arr : {id(arr)}\\nId of l1 : {id(l1)}\")"
   ]
  },
  {
   "cell_type": "code",
   "execution_count": 19,
   "metadata": {},
   "outputs": [
    {
     "name": "stdout",
     "output_type": "stream",
     "text": [
      "Content of arr : [35 23 66 62 65 36 81 42 58 66 85 62 61 23 42 38  6 26 54 42 40 84 35]\n",
      "Content of l1 : [35 23 66 62 65 36 81 42 58 66 85 62 61 23 42 38  6 26 54 42 40 84 35]\n",
      "Type of arr : <class 'numpy.ndarray'>\n",
      "Type of l1: <class 'numpy.ndarray'>\n",
      "Id of arr : 2788108914672\n",
      "Id of l1 : 2787848868112\n"
     ]
    }
   ],
   "source": [
    "l1[-1]=35\n",
    "# the changes made in one array will be reflected in the other array\n",
    "print(f\"Content of arr : {arr}\\nContent of l1 : {l1}\")\n",
    "print(f\"Type of arr : {type(arr)}\\nType of l1: {type(l1)}\")\n",
    "print(f\"Id of arr : {id(arr)}\\nId of l1 : {id(l1)}\")"
   ]
  },
  {
   "cell_type": "code",
   "execution_count": 20,
   "metadata": {},
   "outputs": [
    {
     "name": "stdout",
     "output_type": "stream",
     "text": [
      "Content of arr : [12.   34.   56.   78.   99.21 54.   76.  ]\n",
      "Content of l1 : [35 23 66 62 65 36 81 42 58 66 85 62 61 23 42 38  6 26 54 42 40 84 35]\n",
      "Type of arr : <class 'numpy.ndarray'>\n",
      "Type of l1: <class 'numpy.ndarray'>\n",
      "Id of arr : 2788108921296\n",
      "Id of l1 : 2787848868112\n"
     ]
    }
   ],
   "source": [
    "arr = np.array([12,34,56,78,99.21,54,76])\n",
    "print(f\"Content of arr : {arr}\\nContent of l1 : {l1}\")\n",
    "print(f\"Type of arr : {type(arr)}\\nType of l1: {type(l1)}\")\n",
    "print(f\"Id of arr : {id(arr)}\\nId of l1 : {id(l1)}\")"
   ]
  },
  {
   "cell_type": "code",
   "execution_count": 21,
   "metadata": {},
   "outputs": [
    {
     "name": "stdout",
     "output_type": "stream",
     "text": [
      "None\n",
      "[12.   34.   56.   78.   99.21 54.   76.  ]\n"
     ]
    }
   ],
   "source": [
    "x = arr.copy()\n",
    "y = arr.view()\n",
    "print(x.base)\n",
    "print(y.base)"
   ]
  },
  {
   "cell_type": "code",
   "execution_count": null,
   "metadata": {},
   "outputs": [],
   "source": []
  }
 ],
 "metadata": {
  "kernelspec": {
   "display_name": "Python 3",
   "language": "python",
   "name": "python3"
  },
  "language_info": {
   "codemirror_mode": {
    "name": "ipython",
    "version": 3
   },
   "file_extension": ".py",
   "mimetype": "text/x-python",
   "name": "python",
   "nbconvert_exporter": "python",
   "pygments_lexer": "ipython3",
   "version": "3.11.9"
  }
 },
 "nbformat": 4,
 "nbformat_minor": 2
}
