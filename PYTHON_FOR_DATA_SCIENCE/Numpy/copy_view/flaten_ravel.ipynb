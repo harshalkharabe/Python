{
 "cells": [
  {
   "cell_type": "code",
   "execution_count": null,
   "metadata": {},
   "outputs": [],
   "source": [
    "# flatten() method is used to make 2D,3D array into 1D array(flattten)\n",
    "# it returns a list of all elements in the array\n",
    "# it works like copy method i.e base is None\n",
    "# changes made in the original array will not be reflected in the flatten list"
   ]
  },
  {
   "cell_type": "code",
   "execution_count": 8,
   "metadata": {},
   "outputs": [
    {
     "name": "stdout",
     "output_type": "stream",
     "text": [
      "Original :  [[ 68 171  24  43]\n",
      " [172  36  90 134]\n",
      " [ 93  49 195 182]]\n",
      "Flatten :  [ 68 171  24  43 172  36  90 134  93  49 195 182]\n",
      "Base :  None\n",
      "Change arr : [[ 10 171  24  43]\n",
      " [172  36  90 134]\n",
      " [ 93  49 195 182]]\n",
      "Changes Reflected : [ 68 171  24  43 172  36  90 134  93  49 195 182]\n"
     ]
    }
   ],
   "source": [
    "import numpy as np\n",
    "arr = np.random.randint(2,200,size=(3,4))\n",
    "print(\"Original : \",arr)\n",
    "l1 = arr.flatten()\n",
    "print(\"Flatten : \",l1)\n",
    "print(\"Base : \",l1.base)\n",
    "arr[0][0]=10\n",
    "print(\"Change arr :\",arr)\n",
    "print(\"Changes Reflected :\",l1)"
   ]
  },
  {
   "cell_type": "code",
   "execution_count": null,
   "metadata": {},
   "outputs": [],
   "source": [
    "# ravel() method is used to make 2D,3D array into 1D array(flattten)\n",
    "# it returns a list of all elements in the array\n",
    "# it works like view method i.e base is present\n",
    "# changes made in the original array will be reflected in the flatten list"
   ]
  },
  {
   "cell_type": "code",
   "execution_count": 7,
   "metadata": {},
   "outputs": [
    {
     "name": "stdout",
     "output_type": "stream",
     "text": [
      "Original :  [[ 76  15  43  52]\n",
      " [ 68  66  84 190]\n",
      " [165 181 101  58]]\n",
      "---------------------------------\n",
      "Flatten :  [ 76  15  43  52  68  66  84 190 165 181 101  58]\n",
      "Base :  [[ 76  15  43  52]\n",
      " [ 68  66  84 190]\n",
      " [165 181 101  58]]\n",
      "Change arr : [[ 10  15  43  52]\n",
      " [ 68  66  84 190]\n",
      " [165 181 101  58]]\n",
      "Changes Reflected : [ 10  15  43  52  68  66  84 190 165 181 101  58]\n"
     ]
    }
   ],
   "source": [
    "import numpy as np\n",
    "arr = np.random.randint(2,200,size=(3,4))\n",
    "print(\"Original : \",arr)\n",
    "l1 = arr.ravel()\n",
    "print(\"Flatten : \",l1)\n",
    "print(\"Base : \",l1.base)\n",
    "arr[0][0]=10\n",
    "print(\"Change arr :\",arr)\n",
    "print(\"Changes Reflected :\",l1)"
   ]
  },
  {
   "cell_type": "code",
   "execution_count": null,
   "metadata": {},
   "outputs": [],
   "source": []
  }
 ],
 "metadata": {
  "kernelspec": {
   "display_name": "Python 3",
   "language": "python",
   "name": "python3"
  },
  "language_info": {
   "codemirror_mode": {
    "name": "ipython",
    "version": 3
   },
   "file_extension": ".py",
   "mimetype": "text/x-python",
   "name": "python",
   "nbconvert_exporter": "python",
   "pygments_lexer": "ipython3",
   "version": "3.11.9"
  }
 },
 "nbformat": 4,
 "nbformat_minor": 2
}
