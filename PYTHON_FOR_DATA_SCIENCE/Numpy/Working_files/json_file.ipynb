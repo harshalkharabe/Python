{
 "cells": [
  {
   "cell_type": "code",
   "execution_count": 1,
   "metadata": {},
   "outputs": [
    {
     "name": "stdout",
     "output_type": "stream",
     "text": [
      "{'id': '09', 'name': 'Harshal', 'department': 'IT'} <class 'dict'>\n"
     ]
    }
   ],
   "source": [
    "# JSON File.\n",
    "import json\n",
    "employee =' {\"id\":\"09\", \"name\": \"Harshal\", \"department\":\"IT\"} '\n",
    "#here we converted json str data into Dict Data\n",
    "dictemp=json.loads(employee)\n",
    "print(dictemp,type(dictemp))"
   ]
  },
  {
   "cell_type": "code",
   "execution_count": 2,
   "metadata": {},
   "outputs": [
    {
     "name": "stdout",
     "output_type": "stream",
     "text": [
      "Dict data saved in Json File--verify\n"
     ]
    }
   ],
   "source": [
    "#save the Dict Object into Json File\n",
    "import json\n",
    "dictobj={'id': '09', 'name': 'Rossum', 'department': 'IT'} \n",
    "with open(\"./jfile.json\",\"w\") as fp:\n",
    "    json.dump(dictobj,fp)\n",
    "    print(\"Dict data saved in Json File--verify\")"
   ]
  },
  {
   "cell_type": "code",
   "execution_count": 4,
   "metadata": {},
   "outputs": [
    {
     "name": "stdout",
     "output_type": "stream",
     "text": [
      "{'id': '09', 'name': 'Rossum', 'department': 'IT'} <class 'numpy.ndarray'>\n"
     ]
    }
   ],
   "source": [
    "import numpy as np\n",
    "#Read Json File Data into ndarray object\n",
    "with open(\"./jfile.json\",\"r\") as fp:\n",
    "    jsondata=json.load(fp)\n",
    "    #Here json data is of type <class,dict'\n",
    "    #Convert dict type data into ndarray object data by using array()\n",
    "    a=np.array(jsondata)\n",
    "    print(a,type(a))"
   ]
  },
  {
   "cell_type": "code",
   "execution_count": 6,
   "metadata": {},
   "outputs": [
    {
     "name": "stdout",
     "output_type": "stream",
     "text": [
      "{'id': '09', 'name': 'Rossum', 'department': 'IT'} <class 'numpy.ndarray'>\n"
     ]
    }
   ],
   "source": [
    "#Read Json File Data into ndarray object\n",
    "with open(\"./jfile.json\",\"r\") as fp:\n",
    "    jsondata=json.load(fp)\n",
    "    #Here json data is of type <class,dict'\n",
    "    #Convert dict type data into ndarray object data by using array()\n",
    "    a=np.array(jsondata)\n",
    "    print(a,type(a))"
   ]
  },
  {
   "cell_type": "code",
   "execution_count": 7,
   "metadata": {},
   "outputs": [
    {
     "name": "stdout",
     "output_type": "stream",
     "text": [
      "\tid-->09\n",
      "\tname-->Rossum\n",
      "\tdepartment-->IT\n"
     ]
    }
   ],
   "source": [
    "for key,val in jsondata.items(): # here jsondata is of type <class,dict>\n",
    "    print(\"\\t{}-->{}\".format(key,val))"
   ]
  },
  {
   "cell_type": "code",
   "execution_count": null,
   "metadata": {},
   "outputs": [],
   "source": [
    " "
   ]
  }
 ],
 "metadata": {
  "kernelspec": {
   "display_name": "Python 3",
   "language": "python",
   "name": "python3"
  },
  "language_info": {
   "codemirror_mode": {
    "name": "ipython",
    "version": 3
   },
   "file_extension": ".py",
   "mimetype": "text/x-python",
   "name": "python",
   "nbconvert_exporter": "python",
   "pygments_lexer": "ipython3",
   "version": "3.11.9"
  }
 },
 "nbformat": 4,
 "nbformat_minor": 2
}
