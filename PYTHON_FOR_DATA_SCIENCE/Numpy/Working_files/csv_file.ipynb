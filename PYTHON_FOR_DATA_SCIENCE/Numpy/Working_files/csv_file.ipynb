{
 "cells": [
  {
   "cell_type": "code",
   "execution_count": 1,
   "metadata": {},
   "outputs": [
    {
     "name": "stdout",
     "output_type": "stream",
     "text": [
      "file Saved.\n"
     ]
    }
   ],
   "source": [
    "# Writing data in CSV file and Reading data from File.\n",
    "with open(\"./csv_file.csv\",'w') as fp:\n",
    "    fp.write(\"0.1,0.2,0.3\\n1.0,1.1,1.2\\n2.0,2.1,2.2\")\n",
    "    print(\"file Saved.\")"
   ]
  },
  {
   "cell_type": "code",
   "execution_count": 3,
   "metadata": {},
   "outputs": [
    {
     "name": "stdout",
     "output_type": "stream",
     "text": [
      "File Data : [[0.1 0.2 0.3]\n",
      " [1.  1.1 1.2]\n",
      " [2.  2.1 2.2]]\n",
      "type : <class 'numpy.ndarray'>\n"
     ]
    }
   ],
   "source": [
    "# read data from csv file\n",
    "import numpy as np\n",
    "fdata = np.genfromtxt(\"./csv_file.csv\",delimiter=',')\n",
    "print(\"File Data :\",fdata)\n",
    "print(\"type :\",type(fdata))"
   ]
  },
  {
   "cell_type": "code",
   "execution_count": null,
   "metadata": {},
   "outputs": [],
   "source": []
  }
 ],
 "metadata": {
  "kernelspec": {
   "display_name": "Python 3",
   "language": "python",
   "name": "python3"
  },
  "language_info": {
   "codemirror_mode": {
    "name": "ipython",
    "version": 3
   },
   "file_extension": ".py",
   "mimetype": "text/x-python",
   "name": "python",
   "nbconvert_exporter": "python",
   "pygments_lexer": "ipython3",
   "version": "3.11.9"
  }
 },
 "nbformat": 4,
 "nbformat_minor": 2
}
