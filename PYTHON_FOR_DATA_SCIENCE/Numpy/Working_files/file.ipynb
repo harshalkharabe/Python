{
 "cells": [
  {
   "cell_type": "code",
   "execution_count": 1,
   "metadata": {},
   "outputs": [
    {
     "name": "stdout",
     "output_type": "stream",
     "text": [
      "content of ndarray\n",
      "[[1 'GUIDO ROSSUM' 95.5]\n",
      " [2 'TRAVIS OLIPHANT' 90.0]\n",
      " [3 'DENNIS RITCHE' 80.0]\n",
      " [4 'JHON HUNTER' 91.5]] <class 'numpy.ndarray'>\n"
     ]
    }
   ],
   "source": [
    "import numpy as np\n",
    "a = np.array([\n",
    "    [1, 'GUIDO ROSSUM', 95.5],\n",
    "    [2, 'TRAVIS OLIPHANT', 90.0],\n",
    "    [3, 'DENNIS RITCHE', 80.0],\n",
    "    [4, 'JHON HUNTER', 91.5]\n",
    "], dtype=object)\n",
    "print(\"content of ndarray\")\n",
    "print(a,type(a))"
   ]
  },
  {
   "cell_type": "code",
   "execution_count": 3,
   "metadata": {},
   "outputs": [
    {
     "name": "stdout",
     "output_type": "stream",
     "text": [
      "ND Array data written to the  file--verify\n"
     ]
    }
   ],
   "source": [
    "#Write the above ndarray data to CSV File\n",
    "import csv\n",
    "with open(\"./ndnit.csv\",\"w\") as fp:\n",
    "    csvwr=csv.writer(fp)\n",
    "    csvwr.writerows(a) # Here 'a' is called ndarray object\n",
    "    print(\"ND Array data written to the  file--verify\")"
   ]
  },
  {
   "cell_type": "code",
   "execution_count": 4,
   "metadata": {},
   "outputs": [
    {
     "name": "stdout",
     "output_type": "stream",
     "text": [
      "Data : [['1' 'GUIDO ROSSUM' '95.5']\n",
      " ['2' 'TRAVIS OLIPHANT' '90.0']\n",
      " ['3' 'DENNIS RITCHE' '80.0']\n",
      " ['4' 'JHON HUNTER' '91.5']]\n"
     ]
    }
   ],
   "source": [
    "# reading data from csv\n",
    "fdata = np.loadtxt(\"./ndnit.csv\",delimiter=',',dtype=str)\n",
    "print(\"Data :\",fdata)"
   ]
  },
  {
   "cell_type": "code",
   "execution_count": null,
   "metadata": {},
   "outputs": [],
   "source": []
  }
 ],
 "metadata": {
  "kernelspec": {
   "display_name": "Python 3",
   "language": "python",
   "name": "python3"
  },
  "language_info": {
   "codemirror_mode": {
    "name": "ipython",
    "version": 3
   },
   "file_extension": ".py",
   "mimetype": "text/x-python",
   "name": "python",
   "nbconvert_exporter": "python",
   "pygments_lexer": "ipython3",
   "version": "3.11.9"
  }
 },
 "nbformat": 4,
 "nbformat_minor": 2
}
