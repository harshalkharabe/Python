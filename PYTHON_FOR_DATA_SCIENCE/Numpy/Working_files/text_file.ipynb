{
 "cells": [
  {
   "cell_type": "code",
   "execution_count": 2,
   "metadata": {},
   "outputs": [
    {
     "data": {
      "text/plain": [
       "'\\n    Working with files using Numpy.\\n    1.Text Files\\n    2.Binary Files\\n    3.JSON Files\\n    4.CSV Files\\n'"
      ]
     },
     "execution_count": 2,
     "metadata": {},
     "output_type": "execute_result"
    }
   ],
   "source": [
    "\"\"\"\n",
    "    Working with files using Numpy.\n",
    "    1.Text Files\n",
    "    2.Binary Files\n",
    "    3.JSON Files\n",
    "    4.CSV Files\n",
    "\"\"\""
   ]
  },
  {
   "cell_type": "code",
   "execution_count": 4,
   "metadata": {},
   "outputs": [
    {
     "name": "stdout",
     "output_type": "stream",
     "text": [
      "file Saved.\n"
     ]
    }
   ],
   "source": [
    "# Writing data in Text file and Reading data from File.\n",
    "with open(\"./file.txt\",'w') as fp:\n",
    "    fp.write(\"Hello, I am Harshal Kharabe.\")\n",
    "    print(\"file Saved.\")"
   ]
  },
  {
   "cell_type": "code",
   "execution_count": 7,
   "metadata": {},
   "outputs": [
    {
     "name": "stdout",
     "output_type": "stream",
     "text": [
      "File Data :\n",
      "Hello, I am Harshal Kharabe.\n"
     ]
    }
   ],
   "source": [
    "# read data from file\n",
    "try:\n",
    "    with open(\"./file.txt\",\"r\") as fp:\n",
    "        fdata = fp.read()\n",
    "        print(\"File Data :\")\n",
    "        print(fdata)\n",
    "        fp.close()\n",
    "except Exception as e:\n",
    "    print(\"Exception :\",e)"
   ]
  },
  {
   "cell_type": "code",
   "execution_count": 9,
   "metadata": {},
   "outputs": [
    {
     "name": "stdout",
     "output_type": "stream",
     "text": [
      "file Saved.\n"
     ]
    }
   ],
   "source": [
    "# Writing data in Text file and Reading data from File.\n",
    "with open(\"./file1.txt\",'w') as fp:\n",
    "    fp.write(\"1 2 3\\n4 5 6\\n 7 8 9\")\n",
    "    print(\"file Saved.\")"
   ]
  },
  {
   "cell_type": "code",
   "execution_count": 10,
   "metadata": {},
   "outputs": [
    {
     "name": "stdout",
     "output_type": "stream",
     "text": [
      "Read data using numpy methods\n",
      "File Data :\n",
      "[[1. 2. 3.]\n",
      " [4. 5. 6.]\n",
      " [7. 8. 9.]]\n"
     ]
    }
   ],
   "source": [
    "# read data from file using numpy methods.\n",
    "# loadtxt() is only read numeric data from file.\n",
    "import numpy as np\n",
    "try:\n",
    "    print(\"Read data using numpy methods\")\n",
    "    data = np.loadtxt('./file1.txt')\n",
    "    print(\"File Data :\")\n",
    "    print(data)\n",
    "except Exception as e:\n",
    "    print(\"Exception :\",e)"
   ]
  },
  {
   "cell_type": "code",
   "execution_count": 13,
   "metadata": {},
   "outputs": [
    {
     "name": "stdout",
     "output_type": "stream",
     "text": [
      "Data : [[12.2  34.3  56.3 ]\n",
      " [ 1.2   2.1   3.34]\n",
      " [32.5  21.6  43.43]]\n",
      "File Saved.\n"
     ]
    }
   ],
   "source": [
    "# save numpy ndarray data into file \n",
    "arr = np.array([[12.2,34.3,56.3],[1.2,2.1,3.34],[32.5,21.6,43.43]])\n",
    "print(\"Data :\",arr)\n",
    "np.savetxt(\"./file2.txt\",arr)\n",
    "print(\"File Saved.\")"
   ]
  },
  {
   "cell_type": "code",
   "execution_count": 16,
   "metadata": {},
   "outputs": [
    {
     "name": "stdout",
     "output_type": "stream",
     "text": [
      "Reading data from txt file :\n",
      " [[12.2  34.3  56.3 ]\n",
      " [ 1.2   2.1   3.34]\n",
      " [32.5  21.6  43.43]]\n"
     ]
    }
   ],
   "source": [
    "# Writing data in Text file and Reading data from File.\n",
    "print(\"Reading data from txt file :\\n\",np.loadtxt(\"./file2.txt\"))"
   ]
  },
  {
   "cell_type": "code",
   "execution_count": null,
   "metadata": {},
   "outputs": [],
   "source": []
  }
 ],
 "metadata": {
  "kernelspec": {
   "display_name": "Python 3",
   "language": "python",
   "name": "python3"
  },
  "language_info": {
   "codemirror_mode": {
    "name": "ipython",
    "version": 3
   },
   "file_extension": ".py",
   "mimetype": "text/x-python",
   "name": "python",
   "nbconvert_exporter": "python",
   "pygments_lexer": "ipython3",
   "version": "3.11.9"
  }
 },
 "nbformat": 4,
 "nbformat_minor": 2
}
