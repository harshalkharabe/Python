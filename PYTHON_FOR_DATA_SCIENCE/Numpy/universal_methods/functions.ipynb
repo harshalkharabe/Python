{
 "cells": [
  {
   "cell_type": "code",
   "execution_count": 1,
   "metadata": {},
   "outputs": [],
   "source": [
    "import numpy as np\n",
    "# addition and summation"
   ]
  },
  {
   "cell_type": "code",
   "execution_count": 2,
   "metadata": {},
   "outputs": [
    {
     "name": "stdout",
     "output_type": "stream",
     "text": [
      "Addtion of [1 2 4 6] + [1 3 8 6] = [ 2  5 12 12]\n"
     ]
    }
   ],
   "source": [
    "# addition \n",
    "arr1 = np.array([1,2,4,6])\n",
    "arr2 = np.array([1,3,8,6])\n",
    "arr3 = np.add(arr1,arr2)\n",
    "print(f\"Addtion of {arr1} + {arr2} = {arr3}\")\n"
   ]
  },
  {
   "cell_type": "code",
   "execution_count": 3,
   "metadata": {},
   "outputs": [
    {
     "name": "stdout",
     "output_type": "stream",
     "text": [
      "Addtion of [[1 2]\n",
      " [4 6]] + [[1 3]\n",
      " [8 6]] = [[ 2  5]\n",
      " [12 12]]\n"
     ]
    }
   ],
   "source": [
    "# addition \n",
    "arr1 = np.array([1,2,4,6]).reshape(2,2)\n",
    "arr2 = np.array([1,3,8,6]).reshape(2,2)\n",
    "arr3 = np.add(arr1,arr2)\n",
    "print(f\"Addtion of {arr1} + {arr2} = {arr3}\")\n"
   ]
  },
  {
   "cell_type": "code",
   "execution_count": 9,
   "metadata": {},
   "outputs": [
    {
     "name": "stdout",
     "output_type": "stream",
     "text": [
      "Summation of [1 2 4 6] + [1 3 8 6] = 31\n"
     ]
    }
   ],
   "source": [
    "# sum\n",
    "arr1 = np.array([1,2,4,6]) #sum = 13\n",
    "arr2 = np.array([1,3,8,6]) #sum = 18\n",
    "# Total sum = 31\n",
    "arr3 = np.sum([arr1,arr2])\n",
    "print(f\"Summation of {arr1} + {arr2} = {arr3}\")\n"
   ]
  },
  {
   "cell_type": "code",
   "execution_count": 14,
   "metadata": {},
   "outputs": [
    {
     "name": "stdout",
     "output_type": "stream",
     "text": [
      "Summation of \n",
      "[[1 2]\n",
      " [4 6]]\n",
      " +\n",
      " [[1 3]\n",
      " [8 6]]\n",
      " =\n",
      " [[5 8]\n",
      " [9 9]]\n"
     ]
    }
   ],
   "source": [
    "# sum\n",
    "arr1 = np.array([1,2,4,6]).reshape(2,2) #sum = 1+4 =5 , 2+6 = 8\n",
    "arr2 = np.array([1,3,8,6]).reshape(2,2) #sum = 1+8 = 9 , 3+6 = 9\n",
    "# Total sum = [13,18]\n",
    "arr3 = np.sum([arr1,arr2],axis=1) #col-col sum\n",
    "print(f\"Summation of \\n{arr1}\\n +\\n {arr2}\\n =\\n {arr3}\")\n"
   ]
  },
  {
   "cell_type": "code",
   "execution_count": 12,
   "metadata": {},
   "outputs": [
    {
     "name": "stdout",
     "output_type": "stream",
     "text": [
      "Summation of [[1 2]\n",
      " [4 6]] + [[1 3]\n",
      " [8 6]] = [[ 2  5]\n",
      " [12 12]]\n"
     ]
    }
   ],
   "source": [
    "# sum\n",
    "arr1 = np.array([1,2,4,6]).reshape(2,2) #sum = 1+1=1 , 2+3=5\n",
    "arr2 = np.array([1,3,8,6]).reshape(2,2) #sum = 4+8=12 , 6+6=12\n",
    "# Total sum = [13,18]\n",
    "arr3 = np.sum([arr1,arr2],axis=0) # rwo-row sum\n",
    "print(f\"Summation of {arr1} + {arr2} = {arr3}\")\n"
   ]
  },
  {
   "cell_type": "code",
   "execution_count": 18,
   "metadata": {},
   "outputs": [
    {
     "name": "stdout",
     "output_type": "stream",
     "text": [
      "Summation of [1 2 4 6] + [1 3 8 6] =\n",
      " [ 1  3  7 13 14 17 25 31]\n"
     ]
    }
   ],
   "source": [
    "# cumsum()\n",
    "# sum\n",
    "arr1 = np.array([1,2,4,6]) #sum = 13\n",
    "arr2 = np.array([1,3,8,6]) #sum = 18\n",
    "# Total sum = [13,18]\n",
    "arr3 = np.cumsum([arr1,arr2])\n",
    "print(f\"Summation of {arr1} + {arr2} =\\n {arr3}\")\n"
   ]
  },
  {
   "cell_type": "code",
   "execution_count": 22,
   "metadata": {},
   "outputs": [
    {
     "name": "stdout",
     "output_type": "stream",
     "text": [
      "Array : [1 2 3 4]\n",
      "Product : 24\n"
     ]
    }
   ],
   "source": [
    "# product --> prod()\n",
    "arr = np.array([1,2,3,4])\n",
    "print(\"Array :\",arr)\n",
    "p = np.prod(arr)  # Output: 24\n",
    "print(\"Product :\",p)\n"
   ]
  },
  {
   "cell_type": "code",
   "execution_count": 23,
   "metadata": {},
   "outputs": [
    {
     "name": "stdout",
     "output_type": "stream",
     "text": [
      "Summation of [1 2 4 6] + [1 3 8 6] =\n",
      " 6912\n"
     ]
    }
   ],
   "source": [
    "# cumsum()\n",
    "# sum\n",
    "arr1 = np.array([1,2,4,6]) \n",
    "arr2 = np.array([1,3,8,6])\n",
    "arr3 = np.prod([arr1,arr2])\n",
    "print(f\"Product of {arr1} + {arr2} =\\n {arr3}\")\n"
   ]
  },
  {
   "cell_type": "code",
   "execution_count": 30,
   "metadata": {},
   "outputs": [
    {
     "name": "stdout",
     "output_type": "stream",
     "text": [
      "Probuct of [[1 2]\n",
      " [4 6]] + [[1 3]\n",
      " [8 6]] =\n",
      " [[ 1  6]\n",
      " [32 36]]\n"
     ]
    }
   ],
   "source": [
    "# cumsum()\n",
    "# sum\n",
    "arr1 = np.array([1,2,4,6]).reshape(2,2)\n",
    "arr2 = np.array([1,3,8,6]).reshape(2,2)\n",
    "arr3 = np.prod([arr1,arr2],axis=0) # element to element row wise multiplication\n",
    "print(f\"Probuct of {arr1} + {arr2} =\\n {arr3}\")\n"
   ]
  },
  {
   "cell_type": "code",
   "execution_count": 29,
   "metadata": {},
   "outputs": [
    {
     "name": "stdout",
     "output_type": "stream",
     "text": [
      "Product of [[1 2]\n",
      " [4 6]] + [[1 3]\n",
      " [8 6]] =\n",
      " [[ 4 12]\n",
      " [ 8 18]]\n"
     ]
    }
   ],
   "source": [
    "# cumsum()\n",
    "# sum\n",
    "arr1 = np.array([1,2,4,6]).reshape(2,2)\n",
    "arr2 = np.array([1,3,8,6]).reshape(2,2)\n",
    "arr3 = np.prod([arr1,arr2],axis=1) # element to element col wise multiplication\n",
    "print(f\"Product of {arr1} + {arr2} =\\n {arr3}\")\n"
   ]
  },
  {
   "cell_type": "code",
   "execution_count": 32,
   "metadata": {},
   "outputs": [
    {
     "name": "stdout",
     "output_type": "stream",
     "text": [
      "Cumulative product of [1 2 4 6] =\n",
      " [ 1  2  8 48]\n"
     ]
    }
   ],
   "source": [
    "# cumsum()\n",
    "# sum\n",
    "arr1 = np.array([1,2,4,6])\n",
    "arr3 = np.cumprod([arr1]) # element to element row wise multiplication\n",
    "print(f\"Cumulative product of {arr1} =\\n {arr3}\")\n"
   ]
  },
  {
   "cell_type": "code",
   "execution_count": 42,
   "metadata": {},
   "outputs": [
    {
     "name": "stdout",
     "output_type": "stream",
     "text": [
      "[[1 2 3]\n",
      " [3 4 5]\n",
      " [2 3 5]]\n",
      "[[ 1  2  3]\n",
      " [ 3  8 15]\n",
      " [ 6 24 75]]\n"
     ]
    }
   ],
   "source": [
    "# cumsum()\n",
    "# sum\n",
    "arr1 = np.array([1,2,3,3,4,5,2,3,5]).reshape(3,3)\n",
    "arr3 = np.cumprod(arr1,axis=0) # element to element col wise multiplication\n",
    "print(arr1)\n",
    "print(arr3)\n"
   ]
  },
  {
   "cell_type": "code",
   "execution_count": 43,
   "metadata": {},
   "outputs": [
    {
     "name": "stdout",
     "output_type": "stream",
     "text": [
      "[[1 2 3]\n",
      " [3 4 5]\n",
      " [2 3 5]]\n",
      "[[ 1  2  6]\n",
      " [ 3 12 60]\n",
      " [ 2  6 30]]\n"
     ]
    }
   ],
   "source": [
    "# cumsum()\n",
    "# sum\n",
    "arr1 = np.array([1,2,3,3,4,5,2,3,5]).reshape(3,3)\n",
    "arr3 = np.cumprod(arr1,axis=1) # element to element row wise multiplication\n",
    "print(arr1)\n",
    "print(arr3)\n"
   ]
  },
  {
   "cell_type": "code",
   "execution_count": null,
   "metadata": {},
   "outputs": [],
   "source": []
  }
 ],
 "metadata": {
  "kernelspec": {
   "display_name": "Python 3",
   "language": "python",
   "name": "python3"
  },
  "language_info": {
   "codemirror_mode": {
    "name": "ipython",
    "version": 3
   },
   "file_extension": ".py",
   "mimetype": "text/x-python",
   "name": "python",
   "nbconvert_exporter": "python",
   "pygments_lexer": "ipython3",
   "version": "3.11.9"
  }
 },
 "nbformat": 4,
 "nbformat_minor": 2
}
