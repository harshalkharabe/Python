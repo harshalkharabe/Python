{
 "cells": [
  {
   "cell_type": "code",
   "execution_count": null,
   "id": "144609cb-dafa-4d59-ac44-10f58df68209",
   "metadata": {},
   "outputs": [],
   "source": [
    "# arange()\n",
    "# syntax = arnage()\n",
    "# syntax = arnage(start,stop)\n",
    "# syntax = arnage(start,stop,step)"
   ]
  },
  {
   "cell_type": "code",
   "execution_count": 1,
   "id": "674ed6c1-083b-4ce5-8647-45d5e0106ae8",
   "metadata": {},
   "outputs": [
    {
     "name": "stdout",
     "output_type": "stream",
     "text": [
      "Elements in arr : [ 1  2  3  4  5  6  7  8  9 10]\n",
      "Type of arr : <class 'numpy.ndarray'>\n",
      "Datatype of values in arr : int32\n",
      "Size of arr : 10\n",
      "Shape of arr : (10,)\n",
      "Dimension of arr : 1\n"
     ]
    }
   ],
   "source": [
    "import numpy as np\n",
    "arr = np.arange(1,11)\n",
    "print(\"Elements in arr :\",arr)\n",
    "print(\"Type of arr :\",type(arr))\n",
    "print(\"Datatype of values in arr :\",arr.dtype)\n",
    "print(\"Size of arr :\",arr.size)\n",
    "print(\"Shape of arr :\",arr.shape)\n",
    "print(\"Dimension of arr :\",arr.ndim)"
   ]
  },
  {
   "cell_type": "code",
   "execution_count": 2,
   "id": "ef8774cd-3d77-4353-926e-609cd4dd1718",
   "metadata": {},
   "outputs": [
    {
     "name": "stdout",
     "output_type": "stream",
     "text": [
      "Elements in arr : [[25 23 21]\n",
      " [19 17 15]]\n",
      "Type of arr : <class 'numpy.ndarray'>\n",
      "Datatype of values in arr : int32\n",
      "Size of arr : 6\n",
      "Shape of arr : (2, 3)\n",
      "Dimension of arr : 2\n"
     ]
    }
   ],
   "source": [
    "import numpy as np\n",
    "arr = np.arange(25,14,-2).reshape(2,3)\n",
    "print(\"Elements in arr :\",arr)\n",
    "print(\"Type of arr :\",type(arr))\n",
    "print(\"Datatype of values in arr :\",arr.dtype)\n",
    "print(\"Size of arr :\",arr.size)\n",
    "print(\"Shape of arr :\",arr.shape)\n",
    "print(\"Dimension of arr :\",arr.ndim)"
   ]
  },
  {
   "cell_type": "code",
   "execution_count": 3,
   "id": "e4c0885f-6543-47fa-9bf8-9adcda49cd72",
   "metadata": {},
   "outputs": [
    {
     "name": "stdout",
     "output_type": "stream",
     "text": [
      "Elements in arr : [1.  1.5 2.  2.5 3.  3.5 4.  4.5]\n",
      "Type of arr : <class 'numpy.ndarray'>\n",
      "Datatype of values in arr : float64\n",
      "Size of arr : 8\n",
      "Shape of arr : (8,)\n",
      "Dimension of arr : 1\n"
     ]
    }
   ],
   "source": [
    "import numpy as np\n",
    "arr = np.arange(1,5,0.5,dtype=float)\n",
    "print(\"Elements in arr :\",arr)\n",
    "print(\"Type of arr :\",type(arr))\n",
    "print(\"Datatype of values in arr :\",arr.dtype)\n",
    "print(\"Size of arr :\",arr.size)\n",
    "print(\"Shape of arr :\",arr.shape)\n",
    "print(\"Dimension of arr :\",arr.ndim)"
   ]
  },
  {
   "cell_type": "code",
   "execution_count": 5,
   "id": "225349b9-91db-4d9b-9923-dce235c4f62d",
   "metadata": {},
   "outputs": [
    {
     "name": "stdout",
     "output_type": "stream",
     "text": [
      "Elements in arr : [[1.  1.5]\n",
      " [2.  2.5]\n",
      " [3.  3.5]\n",
      " [4.  4.5]]\n",
      "Type of arr : <class 'numpy.ndarray'>\n",
      "Datatype of values in arr : float64\n",
      "Size of arr : 8\n",
      "Shape of arr : (4, 2)\n",
      "Dimension of arr : 2\n"
     ]
    }
   ],
   "source": [
    "import numpy as np\n",
    "arr = np.arange(1,5,0.5,dtype=float).reshape(4,2)\n",
    "print(\"Elements in arr :\",arr)\n",
    "print(\"Type of arr :\",type(arr))\n",
    "print(\"Datatype of values in arr :\",arr.dtype)\n",
    "print(\"Size of arr :\",arr.size)\n",
    "print(\"Shape of arr :\",arr.shape)\n",
    "print(\"Dimension of arr :\",arr.ndim)"
   ]
  },
  {
   "cell_type": "code",
   "execution_count": null,
   "id": "5e2a3f99-07ad-4c3c-9d82-0c59f23bf72b",
   "metadata": {},
   "outputs": [],
   "source": []
  }
 ],
 "metadata": {
  "kernelspec": {
   "display_name": "Python 3",
   "language": "python",
   "name": "python3"
  },
  "language_info": {
   "codemirror_mode": {
    "name": "ipython",
    "version": 3
   },
   "file_extension": ".py",
   "mimetype": "text/x-python",
   "name": "python",
   "nbconvert_exporter": "python",
   "pygments_lexer": "ipython3",
   "version": "3.11.9"
  }
 },
 "nbformat": 4,
 "nbformat_minor": 5
}
