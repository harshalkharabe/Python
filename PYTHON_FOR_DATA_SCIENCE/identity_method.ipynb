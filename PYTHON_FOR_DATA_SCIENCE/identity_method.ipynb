{
 "cells": [
  {
   "cell_type": "code",
   "execution_count": 9,
   "id": "e360c925-27b6-4f12-8026-90dfb2419fe4",
   "metadata": {},
   "outputs": [
    {
     "name": "stdout",
     "output_type": "stream",
     "text": [
      "Identity matrix : [[1 0]\n",
      " [0 1]]\n",
      "Shape of matrix : (2, 2)\n",
      "Dimension of matrix : 2\n"
     ]
    }
   ],
   "source": [
    "# 2x2 indentity matrix\n",
    "# identity matrix is square matrix which contains same rows x columns (3x3)\n",
    "\n",
    "lst = [1,0,0,1]\n",
    "import numpy as np\n",
    "arr = np.array(lst).reshape(2,2)\n",
    "print(\"Identity matrix :\",arr)\n",
    "print(\"Shape of matrix :\",arr.shape)\n",
    "print(\"Dimension of matrix :\",arr.ndim)"
   ]
  },
  {
   "cell_type": "code",
   "execution_count": 11,
   "id": "bcf6564c-7be0-4116-b67b-af51d5c58b3f",
   "metadata": {},
   "outputs": [
    {
     "name": "stdout",
     "output_type": "stream",
     "text": [
      "Identity matrix : [[1 0 0]\n",
      " [0 1 0]\n",
      " [0 0 1]]\n",
      "Shape of matrix : (3, 3)\n",
      "Dimension of matrix : 2\n"
     ]
    }
   ],
   "source": [
    "arr = np.array([[1,0,0],[0,1,0],[0,0,1]]).reshape(3,3)\n",
    "print(\"Identity matrix :\",arr)\n",
    "print(\"Shape of matrix :\",arr.shape)\n",
    "print(\"Dimension of matrix :\",arr.ndim)"
   ]
  },
  {
   "cell_type": "code",
   "execution_count": 15,
   "id": "84acea36-4806-4885-a781-b2fd9569ba07",
   "metadata": {},
   "outputs": [
    {
     "name": "stdout",
     "output_type": "stream",
     "text": [
      "Identity matrix : [[1. 0. 0.]\n",
      " [0. 1. 0.]\n",
      " [0. 0. 1.]]\n",
      "Shape of matrix : (3, 3)\n",
      "Dimension of matrix : 2\n"
     ]
    }
   ],
   "source": [
    "# syntax : numpy.identity(num,dtype)\n",
    "import numpy as np\n",
    "arr = np.identity(3)\n",
    "print(\"Identity matrix :\",arr)\n",
    "print(\"Shape of matrix :\",arr.shape)\n",
    "print(\"Dimension of matrix :\",arr.ndim)"
   ]
  },
  {
   "cell_type": "code",
   "execution_count": 17,
   "id": "538230ef-9d8e-4b18-b4b7-836deea375e7",
   "metadata": {},
   "outputs": [
    {
     "name": "stdout",
     "output_type": "stream",
     "text": [
      "Identity matrix : [[1 0 0 0 0]\n",
      " [0 1 0 0 0]\n",
      " [0 0 1 0 0]\n",
      " [0 0 0 1 0]\n",
      " [0 0 0 0 1]]\n",
      "Shape of matrix : (5, 5)\n",
      "Dimension of matrix : 2\n"
     ]
    }
   ],
   "source": [
    "arr = np.identity(5,dtype=int)\n",
    "print(\"Identity matrix :\",arr)\n",
    "print(\"Shape of matrix :\",arr.shape)\n",
    "print(\"Dimension of matrix :\",arr.ndim)"
   ]
  },
  {
   "cell_type": "code",
   "execution_count": 29,
   "id": "bdf9d454-b115-4b3a-999c-cc16a8a897c6",
   "metadata": {},
   "outputs": [
    {
     "name": "stdout",
     "output_type": "stream",
     "text": [
      "0 1\n",
      "1 1\n",
      "2 1\n",
      "3 1\n",
      "4 1\n",
      "Product of identity matrix : 1\n"
     ]
    }
   ],
   "source": [
    "p = 1\n",
    "for i in range(len(arr)):\n",
    "    print(i,arr[i][i])\n",
    "    p*=arr[i,i]\n",
    "    # print(i,arr[i,i]) \n",
    "print(f\"Product of identity matrix : {p}\")"
   ]
  },
  {
   "cell_type": "code",
   "execution_count": 43,
   "id": "145880ce-4b48-47be-bd2e-ae88e0e01fd0",
   "metadata": {},
   "outputs": [
    {
     "name": "stdout",
     "output_type": "stream",
     "text": [
      "Identity matrix : [[1 0 0]\n",
      " [0 1 0]\n",
      " [0 0 1]]\n",
      "Shape of matrix : (3, 3)\n",
      "Dimension of matrix : 2\n"
     ]
    }
   ],
   "source": [
    "arr = np.identity(3,dtype=int)\n",
    "print(\"Identity matrix :\",arr)\n",
    "print(\"Shape of matrix :\",arr.shape)\n",
    "print(\"Dimension of matrix :\",arr.ndim)"
   ]
  },
  {
   "cell_type": "code",
   "execution_count": 49,
   "id": "88749b8f-15bf-496b-af8a-7506bc790af8",
   "metadata": {},
   "outputs": [
    {
     "name": "stdout",
     "output_type": "stream",
     "text": [
      "Identity matrix : [1 0 0 0 1 0 0 0 1]\n",
      "Shape of matrix : (9,)\n",
      "Dimension of matrix : 1\n"
     ]
    }
   ],
   "source": [
    "arr.shape = (9,)\n",
    "print(\"Identity matrix :\",arr)\n",
    "print(\"Shape of matrix :\",arr.shape)\n",
    "print(\"Dimension of matrix :\",arr.ndim)"
   ]
  },
  {
   "cell_type": "code",
   "execution_count": 57,
   "id": "79fe2e77-d9f4-4e3b-9bc2-f509a0e204c5",
   "metadata": {},
   "outputs": [
    {
     "name": "stdout",
     "output_type": "stream",
     "text": [
      "Element of arr : [[1 0 0]\n",
      " [0 1 0]\n",
      " [0 0 1]]\n"
     ]
    }
   ],
   "source": [
    "# eye() method\n",
    "# syntax : numpy.eye(n,m=none,k=none,dtype)\n",
    "arr = np.eye(3,dtype = int)\n",
    "print(f\"Element of arr : {arr}\")"
   ]
  },
  {
   "cell_type": "code",
   "execution_count": 65,
   "id": "0e4cf520-8953-47e4-b5be-79546b389082",
   "metadata": {},
   "outputs": [
    {
     "name": "stdout",
     "output_type": "stream",
     "text": [
      "Element of arr : [[1 0 0]\n",
      " [0 1 0]\n",
      " [0 0 1]\n",
      " [0 0 0]\n",
      " [0 0 0]\n",
      " [0 0 0]]\n",
      "Shape of matrix : (6, 3)\n",
      "Shape of matrix : 18\n",
      "Dimension of matrix : 2\n"
     ]
    }
   ],
   "source": [
    "arr = np.eye(6,3,dtype=int)\n",
    "print(f\"Element of arr : {arr}\")\n",
    "print(f\"Shape of matrix : {arr.shape}\")\n",
    "print(f\"Shape of matrix : {arr.size}\")\n",
    "print(f\"Dimension of matrix : {arr.ndim}\")"
   ]
  },
  {
   "cell_type": "code",
   "execution_count": 73,
   "id": "8fd8d0e8-b2f5-4954-9bf4-6e49c8df571f",
   "metadata": {},
   "outputs": [
    {
     "name": "stdout",
     "output_type": "stream",
     "text": [
      "Element of arr : [[0 0 0]\n",
      " [0 0 0]\n",
      " [1 0 0]\n",
      " [0 1 0]\n",
      " [0 0 1]\n",
      " [0 0 0]]\n",
      "Shape of matrix : (6, 3)\n",
      "Shape of matrix : 18\n",
      "Dimension of matrix : 2\n"
     ]
    }
   ],
   "source": [
    "arr = np.eye(6,3,-2,dtype=int)\n",
    "print(f\"Element of arr : {arr}\")\n",
    "print(f\"Shape of matrix : {arr.shape}\")\n",
    "print(f\"Shape of matrix : {arr.size}\")\n",
    "print(f\"Dimension of matrix : {arr.ndim}\")"
   ]
  },
  {
   "cell_type": "code",
   "execution_count": 81,
   "id": "178a792c-b1b6-4809-88f6-0eb02bc5f836",
   "metadata": {},
   "outputs": [
    {
     "name": "stdout",
     "output_type": "stream",
     "text": [
      "Element of arr : [[0 0 1 0 0]\n",
      " [0 0 0 1 0]\n",
      " [0 0 0 0 1]\n",
      " [0 0 0 0 0]\n",
      " [0 0 0 0 0]\n",
      " [0 0 0 0 0]\n",
      " [0 0 0 0 0]]\n",
      "Shape of matrix : (7, 5)\n",
      "Shape of matrix : 35\n",
      "Dimension of matrix : 2\n"
     ]
    }
   ],
   "source": [
    "arr = np.eye(7,5,2,dtype=int)\n",
    "print(f\"Element of arr : {arr}\")\n",
    "print(f\"Shape of matrix : {arr.shape}\")\n",
    "print(f\"Shape of matrix : {arr.size}\")\n",
    "print(f\"Dimension of matrix : {arr.ndim}\")"
   ]
  },
  {
   "cell_type": "code",
   "execution_count": null,
   "id": "e5ce8bde-f1fe-4e91-a234-a31b5c0b03a0",
   "metadata": {},
   "outputs": [],
   "source": []
  }
 ],
 "metadata": {
  "kernelspec": {
   "display_name": "Python [conda env:base] *",
   "language": "python",
   "name": "conda-base-py"
  },
  "language_info": {
   "codemirror_mode": {
    "name": "ipython",
    "version": 3
   },
   "file_extension": ".py",
   "mimetype": "text/x-python",
   "name": "python",
   "nbconvert_exporter": "python",
   "pygments_lexer": "ipython3",
   "version": "3.12.7"
  }
 },
 "nbformat": 4,
 "nbformat_minor": 5
}
