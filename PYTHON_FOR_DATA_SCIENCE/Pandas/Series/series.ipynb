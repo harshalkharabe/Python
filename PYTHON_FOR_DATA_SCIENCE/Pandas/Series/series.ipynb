{
 "cells": [
  {
   "cell_type": "code",
   "execution_count": 1,
   "metadata": {},
   "outputs": [],
   "source": [
    "# Series in pandas"
   ]
  },
  {
   "cell_type": "code",
   "execution_count": 2,
   "metadata": {},
   "outputs": [
    {
     "name": "stdout",
     "output_type": "stream",
     "text": [
      "Series\n"
     ]
    }
   ],
   "source": [
    "print(\"Series\")"
   ]
  },
  {
   "cell_type": "code",
   "execution_count": 4,
   "metadata": {},
   "outputs": [
    {
     "name": "stdout",
     "output_type": "stream",
     "text": [
      "Series : 0    10\n",
      "dtype: int64\n"
     ]
    }
   ],
   "source": [
    "import pandas\n",
    "a = 10 # converting int into series\n",
    "print(\"Series :\",pandas.Series(a))"
   ]
  },
  {
   "cell_type": "code",
   "execution_count": 5,
   "metadata": {},
   "outputs": [
    {
     "name": "stdout",
     "output_type": "stream",
     "text": [
      "Series : 0    10.35\n",
      "dtype: float64\n"
     ]
    }
   ],
   "source": [
    "a = 10.35 # converting float into series\n",
    "print(\"Series :\",pandas.Series(a))"
   ]
  },
  {
   "cell_type": "code",
   "execution_count": 6,
   "metadata": {},
   "outputs": [
    {
     "name": "stdout",
     "output_type": "stream",
     "text": [
      "Series : 0    True\n",
      "dtype: bool\n"
     ]
    }
   ],
   "source": [
    "a = True # converting bool into series\n",
    "print(\"Series :\",pandas.Series(a))"
   ]
  },
  {
   "cell_type": "code",
   "execution_count": 7,
   "metadata": {},
   "outputs": [
    {
     "name": "stdout",
     "output_type": "stream",
     "text": [
      "Series : 0    Python\n",
      "dtype: object\n"
     ]
    }
   ],
   "source": [
    "a = \"Python\" # converting string into series\n",
    "print(\"Series :\",pandas.Series(a))\n"
   ]
  },
  {
   "cell_type": "code",
   "execution_count": 9,
   "metadata": {},
   "outputs": [
    {
     "name": "stdout",
     "output_type": "stream",
     "text": [
      "Series : 0    0\n",
      "1    1\n",
      "2    2\n",
      "3    3\n",
      "4    4\n",
      "dtype: int64\n"
     ]
    }
   ],
   "source": [
    "a = range(5) # converting range into series\n",
    "print(\"Series :\",pandas.Series(a))"
   ]
  },
  {
   "cell_type": "code",
   "execution_count": 10,
   "metadata": {},
   "outputs": [
    {
     "name": "stdout",
     "output_type": "stream",
     "text": [
      "Series : Eno             1\n",
      "Name      Harshal\n",
      "Course     Python\n",
      "Fee         50000\n",
      "dtype: object\n"
     ]
    }
   ],
   "source": [
    "a = [1,\"Harshal\",\"Python\",50000] # converting int into series\n",
    "print(\"Series :\",pandas.Series(a,index=[\"Eno\",\"Name\",\"Course\",\"Fee\"]))"
   ]
  },
  {
   "cell_type": "code",
   "execution_count": 12,
   "metadata": {},
   "outputs": [
    {
     "name": "stdout",
     "output_type": "stream",
     "text": [
      "Content of arr  [ 12  53  99   5 647  65  68]\n",
      "<class 'numpy.ndarray'>\n",
      "Series : 0     12\n",
      "1     53\n",
      "2     99\n",
      "3      5\n",
      "4    647\n",
      "5     65\n",
      "6     68\n",
      "dtype: int32\n"
     ]
    }
   ],
   "source": [
    "# converting Ndarray object into series\n",
    "import numpy as np\n",
    "arr = np.array([12,53,99,5,647,65,68])\n",
    "print(\"Content of arr \",arr)\n",
    "print(type(arr))\n",
    "print(\"Series :\",pandas.Series(arr))"
   ]
  },
  {
   "cell_type": "code",
   "execution_count": null,
   "metadata": {},
   "outputs": [],
   "source": []
  }
 ],
 "metadata": {
  "kernelspec": {
   "display_name": "Python 3",
   "language": "python",
   "name": "python3"
  },
  "language_info": {
   "codemirror_mode": {
    "name": "ipython",
    "version": 3
   },
   "file_extension": ".py",
   "mimetype": "text/x-python",
   "name": "python",
   "nbconvert_exporter": "python",
   "pygments_lexer": "ipython3",
   "version": "3.11.9"
  }
 },
 "nbformat": 4,
 "nbformat_minor": 2
}
