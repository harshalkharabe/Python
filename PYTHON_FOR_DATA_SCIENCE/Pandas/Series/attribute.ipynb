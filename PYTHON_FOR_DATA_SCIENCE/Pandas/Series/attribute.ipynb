{
 "cells": [
  {
   "cell_type": "code",
   "execution_count": 3,
   "metadata": {},
   "outputs": [
    {
     "name": "stdout",
     "output_type": "stream",
     "text": [
      "Series Data :\n",
      "0       Harshal\n",
      "1        Aniket\n",
      "2         Kunal\n",
      "3    Prathamesh\n",
      "Name: Emp, dtype: object <class 'pandas.core.series.Series'>\n"
     ]
    }
   ],
   "source": [
    "# Attribute of Series object\n",
    "# name attribute is used to give name to series object\n",
    "import numpy as np\n",
    "import pandas as pd\n",
    "lst = [\"Harshal\",\"Aniket\",\"Kunal\",\"Prathamesh\"]\n",
    "s = pd.Series(lst,name=\"Emp\")\n",
    "print(\"Series Data :\")\n",
    "print(s,type(s))"
   ]
  },
  {
   "cell_type": "code",
   "execution_count": 5,
   "metadata": {},
   "outputs": [
    {
     "name": "stdout",
     "output_type": "stream",
     "text": [
      "Series Data :\n",
      "101       Harshal\n",
      "102        Aniket\n",
      "103         Kunal\n",
      "104    Prathamesh\n",
      "Name: Emp, dtype: object <class 'pandas.core.series.Series'>\n"
     ]
    }
   ],
   "source": [
    "# Attribute of Series object\n",
    "# name attribute is used to give name to series object\n",
    "import numpy as np\n",
    "import pandas as pd\n",
    "lst = [\"Harshal\",\"Aniket\",\"Kunal\",\"Prathamesh\"]\n",
    "s = pd.Series(lst,index=[101,102,103,104],name=\"Emp\")\n",
    "print(\"Series Data :\")\n",
    "print(s,type(s))"
   ]
  },
  {
   "cell_type": "code",
   "execution_count": 6,
   "metadata": {},
   "outputs": [
    {
     "name": "stdout",
     "output_type": "stream",
     "text": [
      "Series name : Emp\n"
     ]
    }
   ],
   "source": [
    "# How to get series name\n",
    "print(\"Series name :\",s.name)"
   ]
  },
  {
   "cell_type": "code",
   "execution_count": 8,
   "metadata": {},
   "outputs": [
    {
     "name": "stdout",
     "output_type": "stream",
     "text": [
      "101       Harshal\n",
      "102        Aniket\n",
      "103         Kunal\n",
      "104    Prathamesh\n",
      "Name: Employes, dtype: object <class 'str'>\n"
     ]
    }
   ],
   "source": [
    "# Update or set the series name \n",
    "s.name = \"Employes\"\n",
    "print(s,type(s.name))"
   ]
  },
  {
   "cell_type": "code",
   "execution_count": 11,
   "metadata": {},
   "outputs": [
    {
     "name": "stdout",
     "output_type": "stream",
     "text": [
      "Series Data :\n",
      "['Harshal' 'Aniket' 'Kunal' 'Prathamesh'] <class 'numpy.ndarray'>\n"
     ]
    }
   ],
   "source": [
    "# Values Attribute\n",
    "# it returns values in series in list\n",
    "import numpy as np\n",
    "import pandas as pd\n",
    "lst = [\"Harshal\",\"Aniket\",\"Kunal\",\"Prathamesh\"]\n",
    "s = pd.Series(lst)\n",
    "print(\"Series Data :\")\n",
    "print(s.values,type(s.values))"
   ]
  },
  {
   "cell_type": "code",
   "execution_count": 12,
   "metadata": {},
   "outputs": [
    {
     "name": "stdout",
     "output_type": "stream",
     "text": [
      "Harshal\n",
      "Aniket\n",
      "Kunal\n",
      "Prathamesh\n"
     ]
    }
   ],
   "source": [
    "for name in s.values:\n",
    "    print(name)"
   ]
  },
  {
   "cell_type": "code",
   "execution_count": 13,
   "metadata": {},
   "outputs": [
    {
     "name": "stdout",
     "output_type": "stream",
     "text": [
      "Series Data :\n",
      "0       Harshal\n",
      "1        Aniket\n",
      "2         Kunal\n",
      "3    Prathamesh\n",
      "dtype: object <class 'pandas.core.series.Series'>\n",
      "Saize of series object :\n",
      "4\n"
     ]
    }
   ],
   "source": [
    "# Size Attribute\n",
    "# How to count number of elements in series object\n",
    "import numpy as np\n",
    "import pandas as pd\n",
    "lst = [\"Harshal\",\"Aniket\",\"Kunal\",\"Prathamesh\"]\n",
    "s = pd.Series(lst)\n",
    "print(\"Series Data :\")\n",
    "print(s,type(s))\n",
    "print(\"Saize of series object :\")\n",
    "print(s.size)"
   ]
  },
  {
   "cell_type": "code",
   "execution_count": 15,
   "metadata": {},
   "outputs": [
    {
     "name": "stdout",
     "output_type": "stream",
     "text": [
      "0      1.0\n",
      "1      2.0\n",
      "2     34.0\n",
      "3      5.0\n",
      "4      NaN\n",
      "5    343.0\n",
      "6    434.0\n",
      "7    124.0\n",
      "8     13.0\n",
      "9      NaN\n",
      "dtype: float64 <class 'pandas.core.series.Series'>\n",
      "Size of series object : 10\n",
      "No.of.elements series object : 8\n"
     ]
    }
   ],
   "source": [
    "# Diffrence between size and count()\n",
    "# size is an attribute\n",
    "# size is used to give size of all elements in series\n",
    "# count() is an function \n",
    "# count() used to give count of not NAN values\n",
    "\n",
    "arr = pd.Series([1,2,34,5,np.NAN,343,434,124,13,np.NAN])\n",
    "print(arr,type(arr))\n",
    "print(\"Size of series object :\",arr.size)\n",
    "print(\"No.of.elements series object :\",arr.count()) # it does not take NAN values\n"
   ]
  },
  {
   "cell_type": "code",
   "execution_count": 19,
   "metadata": {},
   "outputs": [
    {
     "name": "stdout",
     "output_type": "stream",
     "text": [
      "Series Data : Series([], dtype: object)\n",
      "Series object is empty : True\n"
     ]
    }
   ],
   "source": [
    "# check series object is empty or not.\n",
    "# empty Attribute\n",
    "# empty attribute returns boolean value if series object is empty then return true otherwise return false \n",
    "s = pd.Series()\n",
    "print(\"Series Data :\",s)\n",
    "print(\"Series object is empty :\",s.empty)"
   ]
  },
  {
   "cell_type": "code",
   "execution_count": 20,
   "metadata": {},
   "outputs": [
    {
     "name": "stdout",
     "output_type": "stream",
     "text": [
      "Series Data : 0          1\n",
      "1        235\n",
      "2        NaN\n",
      "3    Harshal\n",
      "dtype: object\n",
      "Series object is empty : False\n"
     ]
    }
   ],
   "source": [
    "# check series object is empty or not.\n",
    "# empty Attribute\n",
    "# empty attribute returns boolean value if series object is empty then return true otherwise return false \n",
    "s = pd.Series([1,235,np.NAN,\"Harshal\"])\n",
    "print(\"Series Data :\",s)\n",
    "print(\"Series object is empty :\",s.empty)"
   ]
  },
  {
   "cell_type": "code",
   "execution_count": null,
   "metadata": {},
   "outputs": [],
   "source": []
  }
 ],
 "metadata": {
  "kernelspec": {
   "display_name": "Python 3",
   "language": "python",
   "name": "python3"
  },
  "language_info": {
   "codemirror_mode": {
    "name": "ipython",
    "version": 3
   },
   "file_extension": ".py",
   "mimetype": "text/x-python",
   "name": "python",
   "nbconvert_exporter": "python",
   "pygments_lexer": "ipython3",
   "version": "3.11.9"
  }
 },
 "nbformat": 4,
 "nbformat_minor": 2
}
