{
 "cells": [
  {
   "cell_type": "code",
   "execution_count": 5,
   "metadata": {},
   "outputs": [
    {
     "name": "stdout",
     "output_type": "stream",
     "text": [
      "Series1 Data :\n",
      "a    10\n",
      "b    20\n",
      "c    30\n",
      "d    40\n",
      "e    50\n",
      "dtype: int64\n",
      "--------------------------------------------------------\n",
      "Series2 Data :\n",
      "a    100\n",
      "b    200\n",
      "c    300\n",
      "d    400\n",
      "e    500\n",
      "dtype: int64\n",
      "--------------------------------------------------------\n",
      "Addition of two series\n",
      "a    110\n",
      "b    220\n",
      "c    330\n",
      "d    440\n",
      "e    550\n",
      "dtype: int64\n"
     ]
    }
   ],
   "source": [
    "# Adding the series values\n",
    "import numpy as np\n",
    "import pandas as pd\n",
    "\n",
    "s1 = pd.Series([10,20,30,40,50],index=['a','b','c','d','e'])\n",
    "print(\"Series1 Data :\")\n",
    "print(s1)\n",
    "print(\"--------------------------------------------------------\")\n",
    "s2 = pd.Series([100,200,300,400,500],index=['a','b','c','d','e'])\n",
    "print(\"Series2 Data :\")\n",
    "print(s2)\n",
    "print(\"--------------------------------------------------------\")\n",
    "\n",
    "print(\"Addition of two series\")\n",
    "s3 = s1.add(s2)\n",
    "print(s3)\n"
   ]
  },
  {
   "cell_type": "code",
   "execution_count": 6,
   "metadata": {},
   "outputs": [
    {
     "name": "stdout",
     "output_type": "stream",
     "text": [
      "Series1 Data :\n",
      "a    10\n",
      "b    20\n",
      "c    30\n",
      "d    40\n",
      "e    50\n",
      "dtype: int64\n",
      "--------------------------------------------------------\n",
      "Series2 Data :\n",
      "a     100\n",
      "b     200\n",
      "c     300\n",
      "d1    400\n",
      "e1    500\n",
      "dtype: int64\n",
      "--------------------------------------------------------\n",
      "Addition of two series\n",
      "a     110.0\n",
      "b     220.0\n",
      "c     330.0\n",
      "d       NaN\n",
      "d1      NaN\n",
      "e       NaN\n",
      "e1      NaN\n",
      "dtype: float64\n"
     ]
    }
   ],
   "source": [
    "# Adding the series values\n",
    "import numpy as np\n",
    "import pandas as pd\n",
    "\n",
    "s1 = pd.Series([10,20,30,40,50],index=['a','b','c','d','e'])\n",
    "print(\"Series1 Data :\")\n",
    "print(s1)\n",
    "print(\"--------------------------------------------------------\")\n",
    "s2 = pd.Series([100,200,300,400,500],index=['a','b','c','d1','e1'])\n",
    "print(\"Series2 Data :\")\n",
    "print(s2)\n",
    "print(\"--------------------------------------------------------\")\n",
    "\n",
    "print(\"Addition of two series\")\n",
    "s3 = s1.add(s2)\n",
    "print(s3)\n"
   ]
  },
  {
   "cell_type": "code",
   "execution_count": 8,
   "metadata": {},
   "outputs": [
    {
     "name": "stdout",
     "output_type": "stream",
     "text": [
      "Series1 Data :\n",
      "a    10\n",
      "b    20\n",
      "c    30\n",
      "d    40\n",
      "e    50\n",
      "dtype: int64\n",
      "--------------------------------------------------------\n",
      "Series2 Data :\n",
      "a1    100\n",
      "b1    200\n",
      "c1    300\n",
      "d1    400\n",
      "e1    500\n",
      "dtype: int64\n",
      "--------------------------------------------------------\n",
      "Addition of two series\n",
      "a      10.0\n",
      "a1    100.0\n",
      "b      20.0\n",
      "b1    200.0\n",
      "c      30.0\n",
      "c1    300.0\n",
      "d      40.0\n",
      "d1    400.0\n",
      "e      50.0\n",
      "e1    500.0\n",
      "dtype: float64\n"
     ]
    }
   ],
   "source": [
    "# Adding the series values\n",
    "import numpy as np\n",
    "import pandas as pd\n",
    "\n",
    "s1 = pd.Series([10,20,30,40,50],index=['a','b','c','d','e'])\n",
    "print(\"Series1 Data :\")\n",
    "print(s1)\n",
    "print(\"--------------------------------------------------------\")\n",
    "s2 = pd.Series([100,200,300,400,500],index=['a1','b1','c1','d1','e1'])\n",
    "print(\"Series2 Data :\")\n",
    "print(s2)\n",
    "print(\"--------------------------------------------------------\")\n",
    "\n",
    "print(\"Addition of two series\")\n",
    "# fill_value = 0 means every row in s1 and s2 adding with 0\n",
    "# if fill_value = 10 --> s1 all values + 10     s2 all values + 10\n",
    "s3 = s1.add(s2,fill_value=0)\n",
    "print(s3)\n"
   ]
  },
  {
   "cell_type": "code",
   "execution_count": 9,
   "metadata": {},
   "outputs": [
    {
     "name": "stdout",
     "output_type": "stream",
     "text": [
      "Series1 Data :\n",
      "a    10\n",
      "b    20\n",
      "c    30\n",
      "d    40\n",
      "e    50\n",
      "dtype: int64\n",
      "--------------------------------------------------------\n",
      "Series2 Data :\n",
      "a1    100\n",
      "b1    200\n",
      "c1    300\n",
      "d1    400\n",
      "e1    500\n",
      "dtype: int64\n",
      "--------------------------------------------------------\n",
      "Addition of two series\n",
      "a      20.0\n",
      "a1    110.0\n",
      "b      30.0\n",
      "b1    210.0\n",
      "c      40.0\n",
      "c1    310.0\n",
      "d      50.0\n",
      "d1    410.0\n",
      "e      60.0\n",
      "e1    510.0\n",
      "dtype: float64\n"
     ]
    }
   ],
   "source": [
    "# Adding the series values\n",
    "import numpy as np\n",
    "import pandas as pd\n",
    "\n",
    "s1 = pd.Series([10,20,30,40,50],index=['a','b','c','d','e'])\n",
    "print(\"Series1 Data :\")\n",
    "print(s1)\n",
    "print(\"--------------------------------------------------------\")\n",
    "s2 = pd.Series([100,200,300,400,500],index=['a1','b1','c1','d1','e1'])\n",
    "print(\"Series2 Data :\")\n",
    "print(s2)\n",
    "print(\"--------------------------------------------------------\")\n",
    "\n",
    "print(\"Addition of two series\")\n",
    "s3 = s1.add(s2,fill_value=10)\n",
    "print(s3)\n"
   ]
  },
  {
   "cell_type": "code",
   "execution_count": 1,
   "metadata": {},
   "outputs": [
    {
     "name": "stdout",
     "output_type": "stream",
     "text": [
      "Series1 Data :\n",
      "a    10\n",
      "b    20\n",
      "c    30\n",
      "d    40\n",
      "e    50\n",
      "dtype: int64\n",
      "--------------------------------------------------------\n",
      "Series2 Data :\n",
      "a    100\n",
      "b    200\n",
      "c    300\n",
      "d    400\n",
      "e    500\n",
      "dtype: int64\n",
      "--------------------------------------------------------\n",
      "Addition of two series\n",
      "a    -90\n",
      "b   -180\n",
      "c   -270\n",
      "d   -360\n",
      "e   -450\n",
      "dtype: int64\n"
     ]
    }
   ],
   "source": [
    "# Adding the series values\n",
    "import numpy as np\n",
    "import pandas as pd\n",
    "\n",
    "s1 = pd.Series([10,20,30,40,50],index=['a','b','c','d','e'])\n",
    "print(\"Series1 Data :\")\n",
    "print(s1)\n",
    "print(\"--------------------------------------------------------\")\n",
    "s2 = pd.Series([100,200,300,400,500],index=['a','b','c','d','e'])\n",
    "print(\"Series2 Data :\")\n",
    "print(s2)\n",
    "print(\"--------------------------------------------------------\")\n",
    "\n",
    "print(\"Addition of two series\")\n",
    "s3 = s1.sub(s2)\n",
    "print(s3)\n"
   ]
  },
  {
   "cell_type": "code",
   "execution_count": 2,
   "metadata": {},
   "outputs": [
    {
     "name": "stdout",
     "output_type": "stream",
     "text": [
      "Series1 Data :\n",
      "a    10\n",
      "b    20\n",
      "c    30\n",
      "d    40\n",
      "e    50\n",
      "dtype: int64\n",
      "--------------------------------------------------------\n",
      "Series2 Data :\n",
      "a    100\n",
      "b    200\n",
      "c    300\n",
      "d    400\n",
      "e    500\n",
      "dtype: int64\n",
      "--------------------------------------------------------\n",
      "Addition of two series\n",
      "a     90\n",
      "b    180\n",
      "c    270\n",
      "d    360\n",
      "e    450\n",
      "dtype: int64\n"
     ]
    }
   ],
   "source": [
    "# Adding the series values\n",
    "import numpy as np\n",
    "import pandas as pd\n",
    "\n",
    "s1 = pd.Series([10,20,30,40,50],index=['a','b','c','d','e'])\n",
    "print(\"Series1 Data :\")\n",
    "print(s1)\n",
    "print(\"--------------------------------------------------------\")\n",
    "s2 = pd.Series([100,200,300,400,500],index=['a','b','c','d','e'])\n",
    "print(\"Series2 Data :\")\n",
    "print(s2)\n",
    "print(\"--------------------------------------------------------\")\n",
    "\n",
    "print(\"Addition of two series\")\n",
    "s3 = s2.sub(s1)\n",
    "print(s3)\n"
   ]
  },
  {
   "cell_type": "code",
   "execution_count": 4,
   "metadata": {},
   "outputs": [
    {
     "name": "stdout",
     "output_type": "stream",
     "text": [
      "Series1 Data :\n",
      "a    10\n",
      "b    20\n",
      "c    30\n",
      "d    40\n",
      "e    50\n",
      "dtype: int64\n",
      "--------------------------------------------------------\n",
      "Series2 Data :\n",
      "a1    100\n",
      "b1    200\n",
      "c1    300\n",
      "d     400\n",
      "e     500\n",
      "dtype: int64\n",
      "--------------------------------------------------------\n",
      "Addition of two series\n",
      "a       NaN\n",
      "a1      NaN\n",
      "b       NaN\n",
      "b1      NaN\n",
      "c       NaN\n",
      "c1      NaN\n",
      "d    -360.0\n",
      "e    -450.0\n",
      "dtype: float64\n"
     ]
    }
   ],
   "source": [
    "# Adding the series values\n",
    "import numpy as np\n",
    "import pandas as pd\n",
    "\n",
    "s1 = pd.Series([10,20,30,40,50],index=['a','b','c','d','e'])\n",
    "print(\"Series1 Data :\")\n",
    "print(s1)\n",
    "print(\"--------------------------------------------------------\")\n",
    "s2 = pd.Series([100,200,300,400,500],index=['a1','b1','c1','d','e'])\n",
    "print(\"Series2 Data :\")\n",
    "print(s2)\n",
    "print(\"--------------------------------------------------------\")\n",
    "\n",
    "print(\"Addition of two series\")\n",
    "s3 = s1.sub(s2)\n",
    "print(s3)\n"
   ]
  },
  {
   "cell_type": "code",
   "execution_count": 5,
   "metadata": {},
   "outputs": [
    {
     "name": "stdout",
     "output_type": "stream",
     "text": [
      "Series1 Data :\n",
      "a    10\n",
      "b    20\n",
      "c    30\n",
      "d    40\n",
      "e    50\n",
      "dtype: int64\n",
      "--------------------------------------------------------\n",
      "Series2 Data :\n",
      "a1    100\n",
      "b1    200\n",
      "c1    300\n",
      "d1    400\n",
      "e1    500\n",
      "dtype: int64\n",
      "--------------------------------------------------------\n",
      "Addition of two series\n",
      "a     -15.0\n",
      "a1    -75.0\n",
      "b      -5.0\n",
      "b1   -175.0\n",
      "c       5.0\n",
      "c1   -275.0\n",
      "d      15.0\n",
      "d1   -375.0\n",
      "e      25.0\n",
      "e1   -475.0\n",
      "dtype: float64\n"
     ]
    }
   ],
   "source": [
    "# Adding the series values\n",
    "import numpy as np\n",
    "import pandas as pd\n",
    "\n",
    "s1 = pd.Series([10,20,30,40,50],index=['a','b','c','d','e'])\n",
    "print(\"Series1 Data :\")\n",
    "print(s1)\n",
    "print(\"--------------------------------------------------------\")\n",
    "s2 = pd.Series([100,200,300,400,500],index=['a1','b1','c1','d1','e1'])\n",
    "print(\"Series2 Data :\")\n",
    "print(s2)\n",
    "print(\"--------------------------------------------------------\")\n",
    "\n",
    "print(\"Addition of two series\")\n",
    "s3 = s1.sub(s2,fill_value=25)\n",
    "print(s3)\n"
   ]
  },
  {
   "cell_type": "code",
   "execution_count": 8,
   "metadata": {},
   "outputs": [
    {
     "name": "stdout",
     "output_type": "stream",
     "text": [
      "Series1 Data :\n",
      "a    10\n",
      "b    20\n",
      "c    30\n",
      "d    40\n",
      "e    50\n",
      "dtype: int64\n",
      "After droping :\n",
      "a    10\n",
      "c    30\n",
      "d    40\n",
      "e    50\n",
      "dtype: int64\n"
     ]
    }
   ],
   "source": [
    "# Drop the values from series\n",
    "# using index or label both you can do\n",
    "# Adding the series values\n",
    "import numpy as np\n",
    "import pandas as pd\n",
    "\n",
    "s1 = pd.Series([10,20,30,40,50],index=['a','b','c','d','e'])\n",
    "print(\"Series1 Data :\")\n",
    "print(s1)\n",
    "s2 = s1.drop(\"b\")\n",
    "print(\"After droping :\")\n",
    "print(s2)"
   ]
  },
  {
   "cell_type": "code",
   "execution_count": 9,
   "metadata": {},
   "outputs": [
    {
     "name": "stdout",
     "output_type": "stream",
     "text": [
      "Series1 Data :\n",
      "a    10\n",
      "b    20\n",
      "c    30\n",
      "d    40\n",
      "e    50\n",
      "dtype: int64\n",
      "After droping :\n",
      "a    10\n",
      "c    30\n",
      "e    50\n",
      "dtype: int64\n"
     ]
    }
   ],
   "source": [
    "# Drop the multiple values from series\n",
    "# using index or label both you can do\n",
    "# Adding the series values\n",
    "import numpy as np\n",
    "import pandas as pd\n",
    "\n",
    "s1 = pd.Series([10,20,30,40,50],index=['a','b','c','d','e'])\n",
    "print(\"Series1 Data :\")\n",
    "print(s1)\n",
    "s1.drop([\"d\",\"b\"],inplace=True)\n",
    "print(\"After droping :\")\n",
    "print(s1)"
   ]
  },
  {
   "cell_type": "code",
   "execution_count": 14,
   "metadata": {},
   "outputs": [
    {
     "name": "stdout",
     "output_type": "stream",
     "text": [
      "Series1 Data :\n",
      "a    10.0\n",
      "s    50.0\n",
      "h     NaN\n",
      "d    12.0\n",
      "e     NaN\n",
      "dtype: float64\n",
      "a    False\n",
      "s    False\n",
      "h     True\n",
      "d    False\n",
      "e     True\n",
      "dtype: bool\n",
      "Total NAN values : 2\n"
     ]
    }
   ],
   "source": [
    "# isna() finding missing(NAN values) values in series.\n",
    "import numpy as np\n",
    "import pandas as pd\n",
    "\n",
    "s1 = pd.Series([10,50,np.NaN,12,np.NAN],index=['a','s','h','d','e'])\n",
    "print(\"Series1 Data :\")\n",
    "print(s1)\n",
    "print(s1.isna())\n",
    "print(\"Total NAN values :\",s1.size-s1.count())"
   ]
  },
  {
   "cell_type": "code",
   "execution_count": 17,
   "metadata": {},
   "outputs": [
    {
     "name": "stdout",
     "output_type": "stream",
     "text": [
      "Series1 Data :\n",
      "a    100\n",
      "b    200\n",
      "c     10\n",
      "d    202\n",
      "e     30\n",
      "f    -40\n",
      "g     50\n",
      "dtype: int64\n",
      "After sort :\n",
      "f    -40\n",
      "c     10\n",
      "e     30\n",
      "g     50\n",
      "a    100\n",
      "b    200\n",
      "d    202\n",
      "dtype: int64\n"
     ]
    }
   ],
   "source": [
    "# sort the values of Series object\n",
    "# Ascending order\n",
    "import numpy as np\n",
    "import pandas as pd\n",
    "\n",
    "s1 = pd.Series([100,200,10,202,30,-40,50],index=['a','b','c','d','e','f','g'])\n",
    "print(\"Series1 Data :\")\n",
    "print(s1)\n",
    "print(\"After sort :\")\n",
    "s1.sort_values(inplace=True)\n",
    "print(s1)"
   ]
  },
  {
   "cell_type": "code",
   "execution_count": 18,
   "metadata": {},
   "outputs": [
    {
     "name": "stdout",
     "output_type": "stream",
     "text": [
      "Series1 Data :\n",
      "a    100\n",
      "b    200\n",
      "c     10\n",
      "d    202\n",
      "e     30\n",
      "f    -40\n",
      "g     50\n",
      "dtype: int64\n",
      "After sort :\n",
      "d    202\n",
      "b    200\n",
      "a    100\n",
      "g     50\n",
      "e     30\n",
      "c     10\n",
      "f    -40\n",
      "dtype: int64\n"
     ]
    }
   ],
   "source": [
    "# sort the values of Series object\n",
    "# Descending order\n",
    "import numpy as np\n",
    "import pandas as pd\n",
    "\n",
    "s1 = pd.Series([100,200,10,202,30,-40,50],index=['a','b','c','d','e','f','g'])\n",
    "print(\"Series1 Data :\")\n",
    "print(s1)\n",
    "print(\"After sort :\")\n",
    "s1.sort_values(ascending=False,inplace=True)\n",
    "print(s1)"
   ]
  },
  {
   "cell_type": "code",
   "execution_count": 24,
   "metadata": {},
   "outputs": [
    {
     "name": "stdout",
     "output_type": "stream",
     "text": [
      "Series1 Data :\n",
      "a    100\n",
      "b    200\n",
      "c     10\n",
      "d    202\n",
      "e     30\n",
      "f    -40\n",
      "g     50\n",
      "dtype: int64\n",
      "Maximum Value : 202\n",
      "Another two ways to get maximum element in series\n",
      "Maximum Value : 202\n",
      "Maximum Value : 202\n"
     ]
    },
    {
     "name": "stderr",
     "output_type": "stream",
     "text": [
      "C:\\Users\\Ideapad\\AppData\\Local\\Temp\\ipykernel_9048\\2690247034.py:11: FutureWarning: Series.__getitem__ treating keys as positions is deprecated. In a future version, integer keys will always be treated as labels (consistent with DataFrame behavior). To access a value by position, use `ser.iloc[pos]`\n",
      "  print(\"Maximum Value :\",s1[s1.size-1])\n"
     ]
    }
   ],
   "source": [
    "# Find max and min\n",
    "import numpy as np\n",
    "import pandas as pd\n",
    "\n",
    "s1 = pd.Series([100,200,10,202,30,-40,50],index=['a','b','c','d','e','f','g'])\n",
    "print(\"Series1 Data :\")\n",
    "print(s1)\n",
    "print(\"Maximum Value :\",s1.max())\n",
    "print(\"Another two ways to get maximum element in series\")\n",
    "s1.sort_values(inplace=True)\n",
    "print(\"Maximum Value :\",s1[s1.size-1])\n",
    "print(\"Maximum Value :\",s1.values[-1])"
   ]
  },
  {
   "cell_type": "code",
   "execution_count": 26,
   "metadata": {},
   "outputs": [
    {
     "name": "stdout",
     "output_type": "stream",
     "text": [
      "Series1 Data :\n",
      "a    100\n",
      "b    200\n",
      "c     10\n",
      "d    202\n",
      "e     30\n",
      "f    -40\n",
      "g     50\n",
      "dtype: int64\n",
      "Minimum Value : -40\n",
      "Another two ways to get minimum element in series\n",
      "Minimum Value : -40\n",
      "Minimum Value : -40\n"
     ]
    },
    {
     "name": "stderr",
     "output_type": "stream",
     "text": [
      "C:\\Users\\Ideapad\\AppData\\Local\\Temp\\ipykernel_9048\\3226167712.py:11: FutureWarning: Series.__getitem__ treating keys as positions is deprecated. In a future version, integer keys will always be treated as labels (consistent with DataFrame behavior). To access a value by position, use `ser.iloc[pos]`\n",
      "  print(\"Minimum Value :\",s1[0])\n"
     ]
    }
   ],
   "source": [
    "# Find max and min\n",
    "import numpy as np\n",
    "import pandas as pd\n",
    "\n",
    "s1 = pd.Series([100,200,10,202,30,-40,50,50,50],index=['a','b','c','d','e','f','g'])\n",
    "print(\"Series1 Data :\")\n",
    "print(s1)\n",
    "print(\"Minimum Value :\",s1.min())\n",
    "print(\"Another two ways to get minimum element in series\")\n",
    "s1.sort_values(inplace=True)\n",
    "print(\"Minimum Value :\",s1[0])\n",
    "print(\"Minimum Value :\",s1.values[0])"
   ]
  },
  {
   "cell_type": "code",
   "execution_count": 5,
   "metadata": {},
   "outputs": [
    {
     "name": "stdout",
     "output_type": "stream",
     "text": [
      "Series1 Data :\n",
      "0    100\n",
      "1    200\n",
      "2     10\n",
      "3    202\n",
      "4     30\n",
      "5    -40\n",
      "6     50\n",
      "7     50\n",
      "8     50\n",
      "dtype: int64\n",
      "-----------------------------------\n",
      "Find n largest element\n",
      "3    202\n",
      "1    200\n",
      "0    100\n",
      "dtype: int64\n"
     ]
    }
   ],
   "source": [
    "# nlargest\n",
    "import numpy as np\n",
    "import pandas as pd\n",
    "\n",
    "s1 = pd.Series([100,200,10,202,30,-40,50,50,50])\n",
    "print(\"Series1 Data :\")\n",
    "print(s1)\n",
    "print(\"-----------------------------------\")\n",
    "print('Find n largest element')\n",
    "nmax = s1.nlargest(3)\n",
    "print(nmax)"
   ]
  },
  {
   "cell_type": "code",
   "execution_count": 6,
   "metadata": {},
   "outputs": [
    {
     "name": "stdout",
     "output_type": "stream",
     "text": [
      "Series1 Data :\n",
      "0    100\n",
      "1    200\n",
      "2     10\n",
      "3    202\n",
      "4     30\n",
      "5    -40\n",
      "6     50\n",
      "7     50\n",
      "8     50\n",
      "dtype: int64\n",
      "-----------------------------------\n",
      "Find n largest element\n",
      "5   -40\n",
      "2    10\n",
      "4    30\n",
      "dtype: int64\n"
     ]
    }
   ],
   "source": [
    "# nsmallest\n",
    "import numpy as np\n",
    "import pandas as pd\n",
    "\n",
    "s1 = pd.Series([100,200,10,202,30,-40,50,50,50])\n",
    "print(\"Series1 Data :\")\n",
    "print(s1)\n",
    "print(\"-----------------------------------\")\n",
    "print('Find n largest element')\n",
    "nmax = s1.nsmallest(3)\n",
    "print(nmax)"
   ]
  },
  {
   "cell_type": "code",
   "execution_count": null,
   "metadata": {},
   "outputs": [],
   "source": []
  }
 ],
 "metadata": {
  "kernelspec": {
   "display_name": "Python 3",
   "language": "python",
   "name": "python3"
  },
  "language_info": {
   "codemirror_mode": {
    "name": "ipython",
    "version": 3
   },
   "file_extension": ".py",
   "mimetype": "text/x-python",
   "name": "python",
   "nbconvert_exporter": "python",
   "pygments_lexer": "ipython3",
   "version": "3.11.9"
  }
 },
 "nbformat": 4,
 "nbformat_minor": 2
}
