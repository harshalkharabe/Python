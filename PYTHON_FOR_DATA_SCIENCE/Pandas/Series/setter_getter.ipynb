{
 "cells": [
  {
   "cell_type": "code",
   "execution_count": null,
   "metadata": {},
   "outputs": [],
   "source": [
    "# Accessing the Elements of series\n",
    "# 1.using indices\n",
    "# 2.using label\n",
    "# 3.using indices slicing\n",
    "# 4.using label slicing"
   ]
  },
  {
   "cell_type": "code",
   "execution_count": 2,
   "metadata": {},
   "outputs": [
    {
     "name": "stdout",
     "output_type": "stream",
     "text": [
      "Series Data : 0     12\n",
      "1      2\n",
      "2     33\n",
      "3    435\n",
      "4     43\n",
      "5      6\n",
      "6      6\n",
      "dtype: int64\n"
     ]
    }
   ],
   "source": [
    "# Accessing using indices\n",
    "import pandas as pd\n",
    "arr = pd.Series([12,2,33,435,43,6,6])\n",
    "print(\"Series Data :\",arr)"
   ]
  },
  {
   "cell_type": "code",
   "execution_count": 6,
   "metadata": {},
   "outputs": [
    {
     "name": "stdout",
     "output_type": "stream",
     "text": [
      "12 --- 6 --- 33\n"
     ]
    }
   ],
   "source": [
    "# indices \n",
    "# Series object not work with negative indices\n",
    "# print(arr[-1]) not valid\n",
    "print(arr[0],\"---\",arr[5],\"---\",arr[2])"
   ]
  },
  {
   "cell_type": "code",
   "execution_count": 9,
   "metadata": {},
   "outputs": [
    {
     "name": "stdout",
     "output_type": "stream",
     "text": [
      "0     12\n",
      "1      2\n",
      "2     33\n",
      "3    435\n",
      "dtype: int64\n",
      "2     33\n",
      "3    435\n",
      "dtype: int64\n",
      "0     12\n",
      "1      2\n",
      "2     33\n",
      "3    435\n",
      "4     43\n",
      "5      6\n",
      "6      6\n",
      "dtype: int64\n"
     ]
    }
   ],
   "source": [
    "# indices slicing\n",
    "print(arr[0:4])\n",
    "print(arr[2:4])\n",
    "print(arr[0:])"
   ]
  },
  {
   "cell_type": "code",
   "execution_count": 10,
   "metadata": {},
   "outputs": [
    {
     "name": "stdout",
     "output_type": "stream",
     "text": [
      "Series Data : Id             1\n",
      "Name       Harsh\n",
      "Course    Python\n",
      "Fees        2500\n",
      "dtype: object\n",
      "Series object is empty : False\n"
     ]
    }
   ],
   "source": [
    "# using label\n",
    "idx = [\"Id\",\"Name\",\"Course\",\"Fees\"] \n",
    "s = pd.Series([1,\"Harsh\",\"Python\",\"2500\"],index=idx)\n",
    "print(\"Series Data :\",s)\n"
   ]
  },
  {
   "cell_type": "code",
   "execution_count": 12,
   "metadata": {},
   "outputs": [
    {
     "name": "stdout",
     "output_type": "stream",
     "text": [
      "Harsh\n",
      "Python\n"
     ]
    }
   ],
   "source": [
    "# using labels\n",
    "print(s[\"Name\"])\n",
    "print(s[\"Course\"])"
   ]
  },
  {
   "cell_type": "code",
   "execution_count": 13,
   "metadata": {},
   "outputs": [
    {
     "name": "stdout",
     "output_type": "stream",
     "text": [
      "Name       Harsh\n",
      "Course    Python\n",
      "dtype: object\n"
     ]
    }
   ],
   "source": [
    "# using labels slicing\n",
    "print(s[\"Name\":\"Course\"])"
   ]
  },
  {
   "cell_type": "code",
   "execution_count": null,
   "metadata": {},
   "outputs": [],
   "source": []
  }
 ],
 "metadata": {
  "kernelspec": {
   "display_name": "Python 3",
   "language": "python",
   "name": "python3"
  },
  "language_info": {
   "codemirror_mode": {
    "name": "ipython",
    "version": 3
   },
   "file_extension": ".py",
   "mimetype": "text/x-python",
   "name": "python",
   "nbconvert_exporter": "python",
   "pygments_lexer": "ipython3",
   "version": "3.11.9"
  }
 },
 "nbformat": 4,
 "nbformat_minor": 2
}
