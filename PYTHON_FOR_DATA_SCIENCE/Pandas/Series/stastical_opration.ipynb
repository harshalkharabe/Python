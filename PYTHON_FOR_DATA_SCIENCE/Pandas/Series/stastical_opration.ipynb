{
 "cells": [
  {
   "cell_type": "code",
   "execution_count": null,
   "metadata": {},
   "outputs": [],
   "source": [
    "# Stacstical operation on Series\n",
    "# sum()\n",
    "# count()\n",
    "# min()\n",
    "# max()\n",
    "# mean()\n",
    "# median\n",
    "# var()\n",
    "# std()\n"
   ]
  },
  {
   "cell_type": "code",
   "execution_count": 6,
   "metadata": {},
   "outputs": [
    {
     "name": "stdout",
     "output_type": "stream",
     "text": [
      "Sum of arr : 201\n",
      "Max in arr : 67\n",
      "Min in arr : 1\n",
      "Mean in arr : 20.1\n",
      "Median in arr : 7.0\n",
      "Varence in arr : 626.7666666666667\n",
      "Standar deviation in arr: 25.035308399671585\n"
     ]
    }
   ],
   "source": [
    "import pandas as pd\n",
    "arr = pd.Series([1,2,3,44,55,6,8,67,6,9])\n",
    "print(\"Sum of arr :\",arr.sum())\n",
    "print(\"Max in arr :\",arr.max())\n",
    "print(\"Min in arr :\",arr.min())\n",
    "print(\"Mean in arr :\",arr.mean())\n",
    "print(\"Median in arr :\",arr.median())\n",
    "print(\"Varence in arr :\",arr.var())\n",
    "print(\"Standar deviation in arr:\",arr.std())"
   ]
  },
  {
   "cell_type": "code",
   "execution_count": 7,
   "metadata": {},
   "outputs": [
    {
     "name": "stdout",
     "output_type": "stream",
     "text": [
      "count    10.000000\n",
      "mean     20.100000\n",
      "std      25.035308\n",
      "min       1.000000\n",
      "25%       3.750000\n",
      "50%       7.000000\n",
      "75%      35.250000\n",
      "max      67.000000\n",
      "dtype: float64\n"
     ]
    }
   ],
   "source": [
    "# Describe() method\n",
    "print(\"Details :\")\n",
    "print(arr.describe())"
   ]
  },
  {
   "cell_type": "code",
   "execution_count": 4,
   "metadata": {},
   "outputs": [
    {
     "name": "stdout",
     "output_type": "stream",
     "text": [
      "String in series : 0       Harshal\n",
      "1         Kunal\n",
      "2        Aniket\n",
      "3         Sagar\n",
      "4           Ram\n",
      "5    Prathamesh\n",
      "dtype: object\n",
      "-------------------------\n",
      "String Related Describe :\n",
      "count           6\n",
      "unique          6\n",
      "top       Harshal\n",
      "freq            1\n",
      "dtype: object\n"
     ]
    }
   ],
   "source": [
    "import pandas as pd\n",
    "arr = pd.Series([\"Harshal\",\"Kunal\",\"Aniket\",\"Sagar\",\"Ram\",\"Prathamesh\"])\n",
    "print(\"String in series :\",arr)\n",
    "print(\"-------------------------\")\n",
    "print(\"String Related Describe :\")\n",
    "print(arr.describe())"
   ]
  },
  {
   "cell_type": "code",
   "execution_count": 8,
   "metadata": {},
   "outputs": [
    {
     "name": "stdout",
     "output_type": "stream",
     "text": [
      "Series :\n",
      "0     1\n",
      "1     2\n",
      "2     3\n",
      "3    44\n",
      "4    55\n",
      "5     6\n",
      "6     8\n",
      "7    67\n",
      "8     6\n",
      "9     9\n",
      "dtype: int64\n",
      "================================\n",
      "Aggregate operations\n",
      "sum       201.000000\n",
      "min         1.000000\n",
      "max        67.000000\n",
      "mean       20.100000\n",
      "median      7.000000\n",
      "var       626.766667\n",
      "std        25.035308\n",
      "dtype: float64\n"
     ]
    }
   ],
   "source": [
    "# Aggregate Functions\n",
    "import pandas as pd\n",
    "arr = pd.Series([1,2,3,44,55,6,8,67,6,9])\n",
    "print(\"Series :\")\n",
    "print(arr)\n",
    "print(\"================================\")\n",
    "print(\"Aggregate operations\")\n",
    "print(arr.agg(['sum','min','max','mean','median','var','std']))"
   ]
  },
  {
   "cell_type": "code",
   "execution_count": null,
   "metadata": {},
   "outputs": [],
   "source": []
  }
 ],
 "metadata": {
  "kernelspec": {
   "display_name": "Python 3",
   "language": "python",
   "name": "python3"
  },
  "language_info": {
   "codemirror_mode": {
    "name": "ipython",
    "version": 3
   },
   "file_extension": ".py",
   "mimetype": "text/x-python",
   "name": "python",
   "nbconvert_exporter": "python",
   "pygments_lexer": "ipython3",
   "version": "3.11.9"
  }
 },
 "nbformat": 4,
 "nbformat_minor": 2
}
