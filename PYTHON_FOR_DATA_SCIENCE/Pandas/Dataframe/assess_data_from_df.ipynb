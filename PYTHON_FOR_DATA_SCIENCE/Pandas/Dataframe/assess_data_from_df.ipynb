{
 "cells": [
  {
   "cell_type": "code",
   "execution_count": 1,
   "metadata": {},
   "outputs": [
    {
     "name": "stdout",
     "output_type": "stream",
     "text": [
      "Dataframe\n"
     ]
    }
   ],
   "source": [
    "# Access data from dataframe object\n",
    "print(\"Dataframe\")"
   ]
  },
  {
   "cell_type": "code",
   "execution_count": 5,
   "metadata": {},
   "outputs": [
    {
     "name": "stdout",
     "output_type": "stream",
     "text": [
      "   sno            sname  marks subject\n",
      "0    1  Harshal Kharabe  89.98  Python\n",
      "1    2       Sagar Dhok  92.89  Python\n",
      "2    3    Aniket Bhudke  92.23   React\n",
      "3    4      Kunal Aswar  90.90  Django\n",
      "4   10  Harshal Kharabe  89.98  Python\n",
      "5   21       Sagar Dhok  92.89  Python\n",
      "6   31    Aniket Bhudke  92.23   React\n",
      "7   41      Kunal Aswar  90.90  Django\n"
     ]
    }
   ],
   "source": [
    "import pandas as pd\n",
    "df = pd.read_csv(\"data.csv\")\n",
    "print(df)"
   ]
  },
  {
   "cell_type": "code",
   "execution_count": 10,
   "metadata": {},
   "outputs": [
    {
     "name": "stdout",
     "output_type": "stream",
     "text": [
      "First 5 rows in df :\n",
      "   sno            sname  marks subject\n",
      "0    1  Harshal Kharabe  89.98  Python\n",
      "1    2       Sagar Dhok  92.89  Python\n",
      "2    3    Aniket Bhudke  92.23   React\n",
      "3    4      Kunal Aswar  90.90  Django\n",
      "4   10  Harshal Kharabe  89.98  Python\n",
      "----------------------------------------\n",
      "First 3 rows in df :\n",
      "   sno            sname  marks subject\n",
      "0    1  Harshal Kharabe  89.98  Python\n",
      "1    2       Sagar Dhok  92.89  Python\n",
      "2    3    Aniket Bhudke  92.23   React\n"
     ]
    }
   ],
   "source": [
    "# First five rows\n",
    "print(\"First 5 rows in df :\")\n",
    "print(df.head())\n",
    "\n",
    "print(\"-\"*40)\n",
    "\n",
    "print(\"First 3 rows in df :\")\n",
    "print(df.head(3))"
   ]
  },
  {
   "cell_type": "code",
   "execution_count": 12,
   "metadata": {},
   "outputs": [
    {
     "name": "stdout",
     "output_type": "stream",
     "text": [
      "Last 5 rows in df :\n",
      "   sno            sname  marks subject\n",
      "3    4      Kunal Aswar  90.90  Django\n",
      "4   10  Harshal Kharabe  89.98  Python\n",
      "5   21       Sagar Dhok  92.89  Python\n",
      "6   31    Aniket Bhudke  92.23   React\n",
      "7   41      Kunal Aswar  90.90  Django\n",
      "---------------------------------------------\n",
      "Last 4 rows in df :\n",
      "   sno            sname  marks subject\n",
      "4   10  Harshal Kharabe  89.98  Python\n",
      "5   21       Sagar Dhok  92.89  Python\n",
      "6   31    Aniket Bhudke  92.23   React\n",
      "7   41      Kunal Aswar  90.90  Django\n"
     ]
    }
   ],
   "source": [
    "# Last five rows\n",
    "print(\"Last 5 rows in df :\")\n",
    "print(df.tail())\n",
    "print(\"-\"*45)\n",
    "print(\"Last 4 rows in df :\")\n",
    "print(df.tail(4))"
   ]
  },
  {
   "cell_type": "code",
   "execution_count": 15,
   "metadata": {},
   "outputs": [
    {
     "name": "stdout",
     "output_type": "stream",
     "text": [
      "Describtion\n",
      "             sno      marks\n",
      "count   8.000000   8.000000\n",
      "mean   14.125000  91.500000\n",
      "std    15.198097   1.211304\n",
      "min     1.000000  89.980000\n",
      "25%     2.750000  90.670000\n",
      "50%     7.000000  91.565000\n",
      "75%    23.500000  92.395000\n",
      "max    41.000000  92.890000\n"
     ]
    }
   ],
   "source": [
    "# All information\n",
    "print(\"Describtion\")\n",
    "print(df.describe())"
   ]
  },
  {
   "cell_type": "code",
   "execution_count": 16,
   "metadata": {},
   "outputs": [
    {
     "name": "stdout",
     "output_type": "stream",
     "text": [
      "              sno            sname      marks subject\n",
      "count    8.000000                8   8.000000       8\n",
      "unique        NaN                4        NaN       3\n",
      "top           NaN  Harshal Kharabe        NaN  Python\n",
      "freq          NaN                2        NaN       4\n",
      "mean    14.125000              NaN  91.500000     NaN\n",
      "std     15.198097              NaN   1.211304     NaN\n",
      "min      1.000000              NaN  89.980000     NaN\n",
      "25%      2.750000              NaN  90.670000     NaN\n",
      "50%      7.000000              NaN  91.565000     NaN\n",
      "75%     23.500000              NaN  92.395000     NaN\n",
      "max     41.000000              NaN  92.890000     NaN\n"
     ]
    }
   ],
   "source": [
    "\n",
    "print(df.describe(include=\"all\"))"
   ]
  },
  {
   "cell_type": "code",
   "execution_count": null,
   "metadata": {},
   "outputs": [],
   "source": []
  }
 ],
 "metadata": {
  "kernelspec": {
   "display_name": "Python 3",
   "language": "python",
   "name": "python3"
  },
  "language_info": {
   "codemirror_mode": {
    "name": "ipython",
    "version": 3
   },
   "file_extension": ".py",
   "mimetype": "text/x-python",
   "name": "python",
   "nbconvert_exporter": "python",
   "pygments_lexer": "ipython3",
   "version": "3.11.9"
  }
 },
 "nbformat": 4,
 "nbformat_minor": 2
}
