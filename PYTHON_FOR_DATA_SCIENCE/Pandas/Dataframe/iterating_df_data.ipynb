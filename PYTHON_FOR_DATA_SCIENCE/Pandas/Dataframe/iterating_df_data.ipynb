{
 "cells": [
  {
   "cell_type": "code",
   "execution_count": 1,
   "metadata": {},
   "outputs": [],
   "source": [
    "# iterating data from dataframe"
   ]
  },
  {
   "cell_type": "code",
   "execution_count": 4,
   "metadata": {},
   "outputs": [
    {
     "data": {
      "text/html": [
       "<div>\n",
       "<style scoped>\n",
       "    .dataframe tbody tr th:only-of-type {\n",
       "        vertical-align: middle;\n",
       "    }\n",
       "\n",
       "    .dataframe tbody tr th {\n",
       "        vertical-align: top;\n",
       "    }\n",
       "\n",
       "    .dataframe thead th {\n",
       "        text-align: right;\n",
       "    }\n",
       "</style>\n",
       "<table border=\"1\" class=\"dataframe\">\n",
       "  <thead>\n",
       "    <tr style=\"text-align: right;\">\n",
       "      <th></th>\n",
       "      <th>0</th>\n",
       "      <th>1</th>\n",
       "      <th>2</th>\n",
       "      <th>3</th>\n",
       "    </tr>\n",
       "  </thead>\n",
       "  <tbody>\n",
       "    <tr>\n",
       "      <th>0</th>\n",
       "      <td>10</td>\n",
       "      <td>20</td>\n",
       "      <td>30</td>\n",
       "      <td>40</td>\n",
       "    </tr>\n",
       "    <tr>\n",
       "      <th>1</th>\n",
       "      <td>Pyhton</td>\n",
       "      <td>Java</td>\n",
       "      <td>C#</td>\n",
       "      <td>HTML</td>\n",
       "    </tr>\n",
       "    <tr>\n",
       "      <th>2</th>\n",
       "      <td>12.34</td>\n",
       "      <td>45.67</td>\n",
       "      <td>78.67</td>\n",
       "      <td>56.9</td>\n",
       "    </tr>\n",
       "  </tbody>\n",
       "</table>\n",
       "</div>"
      ],
      "text/plain": [
       "        0      1      2     3\n",
       "0      10     20     30    40\n",
       "1  Pyhton   Java     C#  HTML\n",
       "2   12.34  45.67  78.67  56.9"
      ]
     },
     "execution_count": 4,
     "metadata": {},
     "output_type": "execute_result"
    }
   ],
   "source": [
    "import pandas as pd\n",
    "l1 = [[10,20,30,40],[\"Pyhton\",\"Java\",\"C#\",\"HTML\"],[12.34,45.67,78.67,56.9]]\n",
    "df = pd.DataFrame(l1)\n",
    "df"
   ]
  },
  {
   "cell_type": "code",
   "execution_count": 9,
   "metadata": {},
   "outputs": [
    {
     "name": "stdout",
     "output_type": "stream",
     "text": [
      "Row index : 0 <class 'tuple'>\n",
      "Record Values : 0    10\n",
      "1    20\n",
      "2    30\n",
      "3    40\n",
      "Name: 0, dtype: object\n",
      "------------------------------\n",
      "Row index : 1 <class 'tuple'>\n",
      "Record Values : 0    Pyhton\n",
      "1      Java\n",
      "2        C#\n",
      "3      HTML\n",
      "Name: 1, dtype: object\n",
      "------------------------------\n",
      "Row index : 2 <class 'tuple'>\n",
      "Record Values : 0    12.34\n",
      "1    45.67\n",
      "2    78.67\n",
      "3     56.9\n",
      "Name: 2, dtype: object\n",
      "------------------------------\n"
     ]
    }
   ],
   "source": [
    "for rec in df.iterrows():\n",
    "    print(\"Row index :\",rec[0],type(rec))\n",
    "    print(\"Record Values :\",rec[1])\n",
    "    print(\"-\"*30)"
   ]
  },
  {
   "cell_type": "code",
   "execution_count": 10,
   "metadata": {},
   "outputs": [
    {
     "name": "stdout",
     "output_type": "stream",
     "text": [
      "Row index : 0 <class 'tuple'>\n",
      "Record Values : [10 20 30 40]\n",
      "------------------------------\n",
      "Row index : 1 <class 'tuple'>\n",
      "Record Values : ['Pyhton' 'Java' 'C#' 'HTML']\n",
      "------------------------------\n",
      "Row index : 2 <class 'tuple'>\n",
      "Record Values : [12.34 45.67 78.67 56.9]\n",
      "------------------------------\n"
     ]
    }
   ],
   "source": [
    "for rec in df.iterrows():\n",
    "    print(\"Row index :\",rec[0],type(rec))\n",
    "    print(\"Record Values :\",rec[1].values)\n",
    "    print(\"-\"*30)"
   ]
  },
  {
   "cell_type": "code",
   "execution_count": 12,
   "metadata": {},
   "outputs": [
    {
     "name": "stdout",
     "output_type": "stream",
     "text": [
      "Row index : 0\n",
      "Record Values : [10 20 30 40]\n",
      "------------------------------\n",
      "Row index : 1\n",
      "Record Values : ['Pyhton' 'Java' 'C#' 'HTML']\n",
      "------------------------------\n",
      "Row index : 2\n",
      "Record Values : [12.34 45.67 78.67 56.9]\n",
      "------------------------------\n"
     ]
    }
   ],
   "source": [
    "for rec,val in df.iterrows():\n",
    "    print(\"Row index :\",rec)\n",
    "    print(\"Record Values :\",val.values)\n",
    "    print(\"-\"*30)"
   ]
  },
  {
   "cell_type": "code",
   "execution_count": 15,
   "metadata": {},
   "outputs": [
    {
     "data": {
      "text/html": [
       "<div>\n",
       "<style scoped>\n",
       "    .dataframe tbody tr th:only-of-type {\n",
       "        vertical-align: middle;\n",
       "    }\n",
       "\n",
       "    .dataframe tbody tr th {\n",
       "        vertical-align: top;\n",
       "    }\n",
       "\n",
       "    .dataframe thead th {\n",
       "        text-align: right;\n",
       "    }\n",
       "</style>\n",
       "<table border=\"1\" class=\"dataframe\">\n",
       "  <thead>\n",
       "    <tr style=\"text-align: right;\">\n",
       "      <th></th>\n",
       "      <th>0</th>\n",
       "      <th>1</th>\n",
       "      <th>2</th>\n",
       "      <th>3</th>\n",
       "    </tr>\n",
       "  </thead>\n",
       "  <tbody>\n",
       "    <tr>\n",
       "      <th>ID</th>\n",
       "      <td>10</td>\n",
       "      <td>20</td>\n",
       "      <td>30</td>\n",
       "      <td>40</td>\n",
       "    </tr>\n",
       "    <tr>\n",
       "      <th>NAME</th>\n",
       "      <td>Pyhton</td>\n",
       "      <td>Java</td>\n",
       "      <td>C#</td>\n",
       "      <td>HTML</td>\n",
       "    </tr>\n",
       "    <tr>\n",
       "      <th>CGPA</th>\n",
       "      <td>12.34</td>\n",
       "      <td>45.67</td>\n",
       "      <td>78.67</td>\n",
       "      <td>56.9</td>\n",
       "    </tr>\n",
       "  </tbody>\n",
       "</table>\n",
       "</div>"
      ],
      "text/plain": [
       "           0      1      2     3\n",
       "ID        10     20     30    40\n",
       "NAME  Pyhton   Java     C#  HTML\n",
       "CGPA   12.34  45.67  78.67  56.9"
      ]
     },
     "execution_count": 15,
     "metadata": {},
     "output_type": "execute_result"
    }
   ],
   "source": [
    "# iterating using row indices\n",
    "import pandas as pd\n",
    "l1 = [[10,20,30,40],[\"Pyhton\",\"Java\",\"C#\",\"HTML\"],[12.34,45.67,78.67,56.9]]\n",
    "df = pd.DataFrame(l1,index=[\"ID\",\"NAME\",\"CGPA\"])\n",
    "df\n"
   ]
  },
  {
   "cell_type": "code",
   "execution_count": 25,
   "metadata": {},
   "outputs": [
    {
     "name": "stdout",
     "output_type": "stream",
     "text": [
      "ID          10\n",
      "NAME    Pyhton\n",
      "CGPA     12.34\n",
      "Name: 0, dtype: object\n",
      "-----------------------------------\n",
      "ID         20\n",
      "NAME     Java\n",
      "CGPA    45.67\n",
      "Name: 1, dtype: object\n",
      "-----------------------------------\n",
      "ID         30\n",
      "NAME       C#\n",
      "CGPA    78.67\n",
      "Name: 2, dtype: object\n",
      "-----------------------------------\n",
      "ID        40\n",
      "NAME    HTML\n",
      "CGPA    56.9\n",
      "Name: 3, dtype: object\n",
      "-----------------------------------\n"
     ]
    }
   ],
   "source": [
    "for rec in df:\n",
    "    print(df[rec])\n",
    "    print(\"-\"*35)"
   ]
  },
  {
   "cell_type": "code",
   "execution_count": 28,
   "metadata": {},
   "outputs": [
    {
     "name": "stdout",
     "output_type": "stream",
     "text": [
      "ID          10\n",
      "NAME    Pyhton\n",
      "CGPA     12.34\n",
      "Name: 0, dtype: object\n",
      "-----------------------------------\n",
      "ID         20\n",
      "NAME     Java\n",
      "CGPA    45.67\n",
      "Name: 1, dtype: object\n",
      "-----------------------------------\n",
      "ID         30\n",
      "NAME       C#\n",
      "CGPA    78.67\n",
      "Name: 2, dtype: object\n",
      "-----------------------------------\n",
      "ID        40\n",
      "NAME    HTML\n",
      "CGPA    56.9\n",
      "Name: 3, dtype: object\n",
      "-----------------------------------\n"
     ]
    }
   ],
   "source": [
    "for col in df.columns:\n",
    "    print(df[col])\n",
    "    print(\"-\"*35)"
   ]
  },
  {
   "cell_type": "code",
   "execution_count": 41,
   "metadata": {},
   "outputs": [
    {
     "name": "stdout",
     "output_type": "stream",
     "text": [
      "   SNO1    SNAME\n",
      "0     1  Harshal\n",
      "1     2    Rohit\n",
      "0     3    Kunal\n",
      "1     4    Harsh\n",
      "2     5   Aniket\n",
      "------------------------------\n"
     ]
    },
    {
     "data": {
      "text/plain": [
       "(   SNO1    SNAME\n",
       " 0     1  Harshal\n",
       " 1     2    Rohit\n",
       " 0     3    Kunal\n",
       " 1     4    Harsh\n",
       " 2     5   Aniket,\n",
       " '-----------------------------',\n",
       "    SNO1    SNAME  SNO1   SNAME\n",
       " 0   1.0  Harshal     3   Kunal\n",
       " 1   2.0    Rohit     4   Harsh\n",
       " 2   NaN      NaN     5  Aniket)"
      ]
     },
     "execution_count": 41,
     "metadata": {},
     "output_type": "execute_result"
    }
   ],
   "source": [
    "# mergeing 2 dataframes\n",
    "# you can also merge more than 2 df into 1.\n",
    "d1={\n",
    "    \"SNO1\":[1,2],\n",
    "    \"SNAME\":[\"Harshal\",\"Rohit\"]\n",
    "}\n",
    "d2={\n",
    "    \"SNO1\":[3,4,5],\n",
    "    \"SNAME\":[\"Kunal\",\"Harsh\",\"Aniket\"]\n",
    "}\n",
    "\n",
    "df1 = pd.DataFrame(d1)\n",
    "df2 = pd.DataFrame(d2)\n",
    "\n",
    "df3 = pd.concat([df1,df2],axis=0)\n",
    "print(df3)\n",
    "print(\"-\"*30)\n",
    "df4 = pd.concat([df1,df2],axis=1)\n",
    "df3,\"-----------------------------\",df4"
   ]
  },
  {
   "cell_type": "code",
   "execution_count": null,
   "metadata": {},
   "outputs": [],
   "source": []
  }
 ],
 "metadata": {
  "kernelspec": {
   "display_name": "Python 3",
   "language": "python",
   "name": "python3"
  },
  "language_info": {
   "codemirror_mode": {
    "name": "ipython",
    "version": 3
   },
   "file_extension": ".py",
   "mimetype": "text/x-python",
   "name": "python",
   "nbconvert_exporter": "python",
   "pygments_lexer": "ipython3",
   "version": "3.11.9"
  }
 },
 "nbformat": 4,
 "nbformat_minor": 2
}
