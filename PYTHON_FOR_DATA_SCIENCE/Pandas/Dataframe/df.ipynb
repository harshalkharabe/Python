{
 "cells": [
  {
   "cell_type": "code",
   "execution_count": 1,
   "metadata": {},
   "outputs": [],
   "source": [
    "# creating an object of dataframe using CSV file"
   ]
  },
  {
   "cell_type": "code",
   "execution_count": 2,
   "metadata": {},
   "outputs": [
    {
     "name": "stdout",
     "output_type": "stream",
     "text": [
      "Data in Dataframe :\n",
      "   sno            sname  marks subject\n",
      "0    1  Harshal Kharabe  89.98  Python\n",
      "1    2       Sagar Dhok  92.89  Python\n",
      "2    3    Aniket Bhudke  92.23   React\n",
      "3    4      Kunal Aswar  90.90  Django\n",
      "Type : <class 'pandas.core.frame.DataFrame'>\n"
     ]
    }
   ],
   "source": [
    "import pandas as pd\n",
    "df = pd.read_csv(\"./data.csv\")\n",
    "print(\"Data in Dataframe :\")\n",
    "print((df))\n",
    "print(\"Type :\",type(df))"
   ]
  },
  {
   "cell_type": "code",
   "execution_count": null,
   "metadata": {},
   "outputs": [],
   "source": [
    "# Attributes of dataframe\n",
    "# index\n",
    "# columns\n",
    "# dtypes\n",
    "# axes\n",
    "# size\n",
    "# shape\n",
    "# ndim\n",
    "# empty\n",
    "# values\n",
    "# T (Transpose)"
   ]
  },
  {
   "cell_type": "code",
   "execution_count": 7,
   "metadata": {},
   "outputs": [
    {
     "name": "stdout",
     "output_type": "stream",
     "text": [
      "   student  marks       sport\n",
      "0  Harshal     99     Cricket\n",
      "1    Sagar    102       Jrunk\n",
      "2    Kunal    119  Basketball\n",
      "3   Aniket    231          CC\n"
     ]
    }
   ],
   "source": [
    "dic = {\n",
    "    \"student\":[\"Harshal\",\"Sagar\",\"Kunal\",\"Aniket\"],\n",
    "    \"marks\":[99,102,119,231],\n",
    "    \"sport\":[\"Cricket\",\"Jrunk\",\"Basketball\",\"CC\"]\n",
    "}\n",
    "df = pd.DataFrame(dic)\n",
    "print(df)"
   ]
  },
  {
   "cell_type": "code",
   "execution_count": 8,
   "metadata": {},
   "outputs": [
    {
     "name": "stdout",
     "output_type": "stream",
     "text": [
      "Indeices : RangeIndex(start=0, stop=4, step=1)\n"
     ]
    }
   ],
   "source": [
    "# index attribute\n",
    "print(\"Indeices :\",df.index)"
   ]
  },
  {
   "cell_type": "code",
   "execution_count": 9,
   "metadata": {},
   "outputs": [
    {
     "name": "stdout",
     "output_type": "stream",
     "text": [
      "Columns : Index(['student', 'marks', 'sport'], dtype='object')\n"
     ]
    }
   ],
   "source": [
    "# columns attribute\n",
    "print(\"Columns :\",df.columns)"
   ]
  },
  {
   "cell_type": "code",
   "execution_count": 10,
   "metadata": {},
   "outputs": [
    {
     "name": "stdout",
     "output_type": "stream",
     "text": [
      "Dtype : student    object\n",
      "marks       int64\n",
      "sport      object\n",
      "dtype: object\n"
     ]
    }
   ],
   "source": [
    "# dtype attribute\n",
    "print(\"Dtype :\",df.dtypes)"
   ]
  },
  {
   "cell_type": "code",
   "execution_count": 11,
   "metadata": {},
   "outputs": [
    {
     "name": "stdout",
     "output_type": "stream",
     "text": [
      "Axes : [RangeIndex(start=0, stop=4, step=1), Index(['student', 'marks', 'sport'], dtype='object')]\n"
     ]
    }
   ],
   "source": [
    "# axes attribute\n",
    "# return indices and columns\n",
    "print(\"Axes :\",df.axes)"
   ]
  },
  {
   "cell_type": "code",
   "execution_count": 12,
   "metadata": {},
   "outputs": [
    {
     "name": "stdout",
     "output_type": "stream",
     "text": [
      "Size : 12\n"
     ]
    }
   ],
   "source": [
    "# size attribute\n",
    "# return total count of values\n",
    "print(\"Size :\",df.size)"
   ]
  },
  {
   "cell_type": "code",
   "execution_count": 15,
   "metadata": {},
   "outputs": [
    {
     "name": "stdout",
     "output_type": "stream",
     "text": [
      "Shape : (4, 3)\n",
      "Rows : 4\n",
      "Columns : 3\n"
     ]
    }
   ],
   "source": [
    "# shape attribute\n",
    "print(\"Shape :\",df.shape)\n",
    "# no.of.rows\n",
    "print(\"Rows :\",df.shape[0])\n",
    "# no.of.columns\n",
    "print(\"Columns :\",df.shape[1])"
   ]
  },
  {
   "cell_type": "code",
   "execution_count": 17,
   "metadata": {},
   "outputs": [
    {
     "name": "stdout",
     "output_type": "stream",
     "text": [
      "Dimension of dataframe : 2\n"
     ]
    }
   ],
   "source": [
    "# ndim attribute\n",
    "print(\"Dimension of dataframe :\",df.ndim)"
   ]
  },
  {
   "cell_type": "code",
   "execution_count": 22,
   "metadata": {},
   "outputs": [
    {
     "name": "stdout",
     "output_type": "stream",
     "text": [
      "Dataframe is empty : False\n"
     ]
    }
   ],
   "source": [
    "# empty attribute\n",
    "print(\"Dataframe is empty :\",df.empty)"
   ]
  },
  {
   "cell_type": "code",
   "execution_count": 23,
   "metadata": {},
   "outputs": [
    {
     "name": "stdout",
     "output_type": "stream",
     "text": [
      "Data frame : Empty DataFrame\n",
      "Columns: []\n",
      "Index: []\n",
      "-------------------------------\n",
      "DataFrame_1 is empty : True\n"
     ]
    }
   ],
   "source": [
    "# empty attribute\n",
    "df1 = pd.DataFrame()\n",
    "print(\"Data frame :\",df1)\n",
    "print(\"-------------------------------\")\n",
    "print(\"DataFrame_1 is empty :\",df1.empty)"
   ]
  },
  {
   "cell_type": "code",
   "execution_count": 31,
   "metadata": {},
   "outputs": [
    {
     "name": "stdout",
     "output_type": "stream",
     "text": [
      "['Harshal' 99 'Cricket']\n",
      "['Sagar' 102 'Jrunk']\n",
      "['Kunal' 119 'Basketball']\n",
      "['Aniket' 231 'CC']\n"
     ]
    }
   ],
   "source": [
    "# values attribute\n",
    "for record in df.values:\n",
    "    print(record)"
   ]
  },
  {
   "cell_type": "code",
   "execution_count": 40,
   "metadata": {},
   "outputs": [
    {
     "name": "stdout",
     "output_type": "stream",
     "text": [
      "----------------------------------------\n",
      "Before Transpose\n",
      "----------------------------------------\n",
      "   student  marks       sport\n",
      "0  Harshal     99     Cricket\n",
      "1    Sagar    102       Jrunk\n",
      "2    Kunal    119  Basketball\n",
      "3   Aniket    231          CC\n",
      "----------------------------------------\n",
      "After Transpose\n",
      "----------------------------------------\n",
      "               0      1           2       3\n",
      "student  Harshal  Sagar       Kunal  Aniket\n",
      "marks         99    102         119     231\n",
      "sport    Cricket  Jrunk  Basketball      CC\n"
     ]
    }
   ],
   "source": [
    "# T attribute\n",
    "print(\"-\"*40)\n",
    "print(\"Before Transpose\")\n",
    "print(\"-\"*40)\n",
    "print(df)\n",
    "print(\"-\"*40)\n",
    "print(\"After Transpose\")\n",
    "print(\"-\"*40)\n",
    "print(df.T)"
   ]
  },
  {
   "cell_type": "code",
   "execution_count": null,
   "metadata": {},
   "outputs": [],
   "source": []
  }
 ],
 "metadata": {
  "kernelspec": {
   "display_name": "Python 3",
   "language": "python",
   "name": "python3"
  },
  "language_info": {
   "codemirror_mode": {
    "name": "ipython",
    "version": 3
   },
   "file_extension": ".py",
   "mimetype": "text/x-python",
   "name": "python",
   "nbconvert_exporter": "python",
   "pygments_lexer": "ipython3",
   "version": "3.11.9"
  }
 },
 "nbformat": 4,
 "nbformat_minor": 2
}
