{
 "cells": [
  {
   "cell_type": "code",
   "execution_count": 1,
   "metadata": {},
   "outputs": [
    {
     "name": "stdout",
     "output_type": "stream",
     "text": [
      "Pyhton Pandas\n"
     ]
    }
   ],
   "source": [
    "print(\"Pyhton Pandas\")"
   ]
  },
  {
   "cell_type": "code",
   "execution_count": 21,
   "metadata": {},
   "outputs": [
    {
     "name": "stdout",
     "output_type": "stream",
     "text": [
      "0    False\n",
      "1    False\n",
      "2    False\n",
      "3    False\n",
      "4     True\n",
      "5    False\n",
      "6    False\n",
      "7    False\n",
      "dtype: bool\n",
      "Duplicated record :\n",
      "   sno            sname  marks subject\n",
      "4    1  Harshal Kharabe  89.98  Python\n"
     ]
    }
   ],
   "source": [
    "import pandas as pd\n",
    "# syntax : Dataframe_object.duplicated() --> return boolean array\n",
    "# Finding duplicates\n",
    "df = pd.read_csv(\"data.csv\")\n",
    "# print(\"-\"*40)\n",
    "print(df.duplicated())\n",
    "\n",
    "# duplicated record\n",
    "print(\"Duplicated record :\")\n",
    "print(df[df.duplicated()])"
   ]
  },
  {
   "cell_type": "code",
   "execution_count": 19,
   "metadata": {},
   "outputs": [
    {
     "name": "stdout",
     "output_type": "stream",
     "text": [
      "Original : \n",
      "   sno            sname  marks subject\n",
      "0    1  Harshal Kharabe  89.98  Python\n",
      "1    2       Sagar Dhok  92.89  Python\n",
      "2    3    Aniket Bhudke  92.23   React\n",
      "3    4      Kunal Aswar  90.90  Django\n",
      "4    1  Harshal Kharabe  89.98  Python\n",
      "5   21       Sagar Dhok  92.89  Python\n",
      "6   31    Aniket Bhudke  92.23   React\n",
      "7   41      Kunal Aswar  90.90  Django\n",
      "----------------------------------------\n",
      "Another way :\n",
      "   sno            sname  marks subject\n",
      "4    1  Harshal Kharabe  89.98  Python\n",
      "----------------------------------------\n",
      "   sno            sname  marks subject\n",
      "0    1  Harshal Kharabe  89.98  Python\n",
      "1    2       Sagar Dhok  92.89  Python\n",
      "2    3    Aniket Bhudke  92.23   React\n",
      "3    4      Kunal Aswar  90.90  Django\n",
      "5   21       Sagar Dhok  92.89  Python\n",
      "6   31    Aniket Bhudke  92.23   React\n",
      "7   41      Kunal Aswar  90.90  Django\n",
      "----------------------------------------\n",
      "   sno            sname  marks subject\n",
      "0    1  Harshal Kharabe  89.98  Python\n",
      "1    2       Sagar Dhok  92.89  Python\n",
      "2    3    Aniket Bhudke  92.23   React\n",
      "3    4      Kunal Aswar  90.90  Django\n",
      "5   21       Sagar Dhok  92.89  Python\n",
      "6   31    Aniket Bhudke  92.23   React\n",
      "7   41      Kunal Aswar  90.90  Django\n"
     ]
    }
   ],
   "source": [
    "# Remove duplicates from dataframe\n",
    "# syntax : Dataframe.drop_duplicates()\n",
    "print(\"Original : \")\n",
    "print(df)\n",
    "print(\"-\"*40)\n",
    "print(\"Another way :\")\n",
    "print(df[df.duplicated()])\n",
    "print(\"-\"*40)\n",
    "print(df.drop_duplicates()) # it not reflected changes in original\n",
    "print(\"-\"*40)\n",
    "# for changes in original\n",
    "df = df.drop_duplicates()\n",
    "print(df)"
   ]
  },
  {
   "cell_type": "code",
   "execution_count": null,
   "metadata": {},
   "outputs": [],
   "source": []
  }
 ],
 "metadata": {
  "kernelspec": {
   "display_name": "Python 3",
   "language": "python",
   "name": "python3"
  },
  "language_info": {
   "codemirror_mode": {
    "name": "ipython",
    "version": 3
   },
   "file_extension": ".py",
   "mimetype": "text/x-python",
   "name": "python",
   "nbconvert_exporter": "python",
   "pygments_lexer": "ipython3",
   "version": "3.11.9"
  }
 },
 "nbformat": 4,
 "nbformat_minor": 2
}
