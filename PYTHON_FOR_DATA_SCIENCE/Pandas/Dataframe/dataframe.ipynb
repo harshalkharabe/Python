{
 "cells": [
  {
   "cell_type": "code",
   "execution_count": 2,
   "metadata": {},
   "outputs": [],
   "source": [
    "# Dataframe \n",
    "# Dataframe is 2D label array (Data is in rows and columns)\n",
    "# syntax : pandas.Dataframe(object,index,column,dtype)"
   ]
  },
  {
   "cell_type": "code",
   "execution_count": 3,
   "metadata": {},
   "outputs": [
    {
     "name": "stdout",
     "output_type": "stream",
     "text": [
      "Dataframe data :\n",
      "     0\n",
      "0   10\n",
      "1   11\n",
      "2   12\n",
      "3   13\n",
      "4   14\n",
      "5   15\n",
      "6   16\n",
      "7   17\n",
      "8   18\n",
      "9   19\n",
      "10  20\n"
     ]
    }
   ],
   "source": [
    "# Creating Dataframe object\n",
    "import pandas as pd\n",
    "data = range(10,21)\n",
    "df = pd.DataFrame(data)\n",
    "print(\"Dataframe data :\")\n",
    "print(df)"
   ]
  },
  {
   "cell_type": "code",
   "execution_count": 14,
   "metadata": {},
   "outputs": [
    {
     "name": "stdout",
     "output_type": "stream",
     "text": [
      "Dataframe data :\n",
      "      Name\n",
      "0  Harshal\n",
      "1      Ram\n",
      "2  Pratham\n",
      "3   Vishal\n",
      "4    Kunal\n",
      "---------------------------\n",
      "Shape of dataframe : (5, 1)\n",
      "Dimension of dataframe : 2\n"
     ]
    }
   ],
   "source": [
    "# Creating Dataframe object\n",
    "import pandas as pd\n",
    "data = [\"Harshal\",\"Ram\",\"Pratham\",\"Vishal\",\"Kunal\"]\n",
    "df = pd.DataFrame(data,columns=[\"Name\"])\n",
    "print(\"Dataframe data :\")\n",
    "print(df)\n",
    "\n",
    "print(\"---------------------------\")\n",
    "\n",
    "print(\"Shape of dataframe :\",df.shape)\n",
    "print(\"Dimension of dataframe :\",df.ndim)"
   ]
  },
  {
   "cell_type": "code",
   "execution_count": 21,
   "metadata": {},
   "outputs": [
    {
     "name": "stdout",
     "output_type": "stream",
     "text": [
      "DataFrame :\n",
      "            Id     Name  Marks Subject\n",
      "Student_1  101  Harshal  89.50  Python\n",
      "Student_2  102   Aniket  90.25  Pyhton\n",
      "-----------------------\n",
      "Shape :  (2, 4)\n"
     ]
    }
   ],
   "source": [
    "data = [[101,\"Harshal\",89.50,\"Python\"],[102,\"Aniket\",90.25,\"Pyhton\"]]\n",
    "df = pd.DataFrame(data,index=[\"Student_\"+str(i) for i in range(1,len(data)+1)],columns=[\"Id\",\"Name\",\"Marks\",\"Subject\"])\n",
    "print(\"DataFrame :\")\n",
    "print(df)\n",
    "print(\"-----------------------\")\n",
    "print(\"Shape : \",df.shape)"
   ]
  },
  {
   "cell_type": "code",
   "execution_count": null,
   "metadata": {},
   "outputs": [],
   "source": []
  }
 ],
 "metadata": {
  "kernelspec": {
   "display_name": "Python 3",
   "language": "python",
   "name": "python3"
  },
  "language_info": {
   "codemirror_mode": {
    "name": "ipython",
    "version": 3
   },
   "file_extension": ".py",
   "mimetype": "text/x-python",
   "name": "python",
   "nbconvert_exporter": "python",
   "pygments_lexer": "ipython3",
   "version": "3.11.9"
  }
 },
 "nbformat": 4,
 "nbformat_minor": 2
}
